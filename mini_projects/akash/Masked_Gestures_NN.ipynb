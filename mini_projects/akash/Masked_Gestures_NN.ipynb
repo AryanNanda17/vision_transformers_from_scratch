{
 "cells": [
  {
   "cell_type": "code",
   "execution_count": 1,
   "id": "6276acc7",
   "metadata": {
    "execution": {
     "iopub.execute_input": "2024-07-12T16:43:13.330888Z",
     "iopub.status.busy": "2024-07-12T16:43:13.330629Z",
     "iopub.status.idle": "2024-07-12T16:43:16.510534Z",
     "shell.execute_reply": "2024-07-12T16:43:16.509787Z"
    },
    "papermill": {
     "duration": 3.190817,
     "end_time": "2024-07-12T16:43:16.512634",
     "exception": false,
     "start_time": "2024-07-12T16:43:13.321817",
     "status": "completed"
    },
    "tags": []
   },
   "outputs": [],
   "source": [
    "import numpy as np\n",
    "import pandas as pd\n",
    "import matplotlib.pyplot as plt\n",
    "import os # for file handling\n",
    "import cv2 # for image processing\n",
    "import random"
   ]
  },
  {
   "cell_type": "code",
   "execution_count": 2,
   "id": "196e53d6",
   "metadata": {
    "execution": {
     "iopub.execute_input": "2024-07-12T16:43:16.526187Z",
     "iopub.status.busy": "2024-07-12T16:43:16.525834Z",
     "iopub.status.idle": "2024-07-12T16:43:16.529653Z",
     "shell.execute_reply": "2024-07-12T16:43:16.528763Z"
    },
    "papermill": {
     "duration": 0.012524,
     "end_time": "2024-07-12T16:43:16.531403",
     "exception": false,
     "start_time": "2024-07-12T16:43:16.518879",
     "status": "completed"
    },
    "tags": []
   },
   "outputs": [],
   "source": [
    "path = '/kaggle/input/masked-gesture-dataset/Masked Gesture Dataset/Masked Gesture Dataset'"
   ]
  },
  {
   "cell_type": "code",
   "execution_count": 3,
   "id": "a3e9a7a5",
   "metadata": {
    "execution": {
     "iopub.execute_input": "2024-07-12T16:43:16.544287Z",
     "iopub.status.busy": "2024-07-12T16:43:16.544059Z",
     "iopub.status.idle": "2024-07-12T16:43:16.547583Z",
     "shell.execute_reply": "2024-07-12T16:43:16.546736Z"
    },
    "papermill": {
     "duration": 0.012347,
     "end_time": "2024-07-12T16:43:16.549503",
     "exception": false,
     "start_time": "2024-07-12T16:43:16.537156",
     "status": "completed"
    },
    "tags": []
   },
   "outputs": [],
   "source": [
    "IMAGE_SIZE = 128"
   ]
  },
  {
   "cell_type": "code",
   "execution_count": 4,
   "id": "c99be59b",
   "metadata": {
    "execution": {
     "iopub.execute_input": "2024-07-12T16:43:16.562765Z",
     "iopub.status.busy": "2024-07-12T16:43:16.562534Z",
     "iopub.status.idle": "2024-07-12T16:43:16.565731Z",
     "shell.execute_reply": "2024-07-12T16:43:16.564983Z"
    },
    "papermill": {
     "duration": 0.012039,
     "end_time": "2024-07-12T16:43:16.567402",
     "exception": false,
     "start_time": "2024-07-12T16:43:16.555363",
     "status": "completed"
    },
    "tags": []
   },
   "outputs": [],
   "source": [
    "images = []"
   ]
  },
  {
   "cell_type": "code",
   "execution_count": 5,
   "id": "11a96d6b",
   "metadata": {
    "execution": {
     "iopub.execute_input": "2024-07-12T16:43:16.580502Z",
     "iopub.status.busy": "2024-07-12T16:43:16.580239Z",
     "iopub.status.idle": "2024-07-12T16:43:18.683660Z",
     "shell.execute_reply": "2024-07-12T16:43:18.682846Z"
    },
    "papermill": {
     "duration": 2.111897,
     "end_time": "2024-07-12T16:43:18.685415",
     "exception": false,
     "start_time": "2024-07-12T16:43:16.573518",
     "status": "completed"
    },
    "tags": []
   },
   "outputs": [
    {
     "name": "stdout",
     "output_type": "stream",
     "text": [
      "1finger :- 1468 images\n"
     ]
    },
    {
     "name": "stdout",
     "output_type": "stream",
     "text": [
      "thumbsdown :- 1081 images\n",
      "2finger :- 1494 images\n"
     ]
    },
    {
     "name": "stdout",
     "output_type": "stream",
     "text": [
      "3finger :- 834 images\n"
     ]
    },
    {
     "name": "stdout",
     "output_type": "stream",
     "text": [
      "yoyo :- 1497 images\n",
      "spreadoutpalm :- 1125 images\n"
     ]
    },
    {
     "name": "stdout",
     "output_type": "stream",
     "text": [
      "pinky :- 1503 images\n",
      "thumbsup :- 1278 images\n"
     ]
    },
    {
     "name": "stdout",
     "output_type": "stream",
     "text": [
      "fingersclosein :- 1098 images\n"
     ]
    },
    {
     "name": "stdout",
     "output_type": "stream",
     "text": [
      "kitli :- 1036 images\n",
      "italydown :- 1048 images\n",
      "Total images:  13462\n",
      "Total classes:  11\n"
     ]
    }
   ],
   "source": [
    "total = 0;\n",
    "classes = [] # all labels for images\n",
    "for label in os.listdir(path): # iterating thorugh all the folders in the directory\n",
    "#     print(label)\n",
    "    label_path = os.path.join(path, label)\n",
    "    count = 0;\n",
    "    for image_name in os.listdir(label_path):\n",
    "        count += 1\n",
    "        image_path = os.path.join(label_path,image_name)\n",
    "        images.append([label,image_path])\n",
    "    print(f\"{label} :- {count} images\")\n",
    "    total += count\n",
    "    classes.append(label)\n",
    "print(\"Total images: \",total)\n",
    "print(\"Total classes: \",len(classes))"
   ]
  },
  {
   "cell_type": "code",
   "execution_count": 6,
   "id": "1779f702",
   "metadata": {
    "execution": {
     "iopub.execute_input": "2024-07-12T16:43:18.699779Z",
     "iopub.status.busy": "2024-07-12T16:43:18.699491Z",
     "iopub.status.idle": "2024-07-12T16:43:18.706665Z",
     "shell.execute_reply": "2024-07-12T16:43:18.705825Z"
    },
    "papermill": {
     "duration": 0.016411,
     "end_time": "2024-07-12T16:43:18.708661",
     "exception": false,
     "start_time": "2024-07-12T16:43:18.692250",
     "status": "completed"
    },
    "tags": []
   },
   "outputs": [
    {
     "data": {
      "text/plain": [
       "['1finger',\n",
       " 'thumbsdown',\n",
       " '2finger',\n",
       " '3finger',\n",
       " 'yoyo',\n",
       " 'spreadoutpalm',\n",
       " 'pinky',\n",
       " 'thumbsup',\n",
       " 'fingersclosein',\n",
       " 'kitli',\n",
       " 'italydown']"
      ]
     },
     "execution_count": 6,
     "metadata": {},
     "output_type": "execute_result"
    }
   ],
   "source": [
    "classes"
   ]
  },
  {
   "cell_type": "code",
   "execution_count": 7,
   "id": "7f56f8e2",
   "metadata": {
    "execution": {
     "iopub.execute_input": "2024-07-12T16:43:18.722625Z",
     "iopub.status.busy": "2024-07-12T16:43:18.722396Z",
     "iopub.status.idle": "2024-07-12T16:43:18.736506Z",
     "shell.execute_reply": "2024-07-12T16:43:18.735757Z"
    },
    "papermill": {
     "duration": 0.023226,
     "end_time": "2024-07-12T16:43:18.738269",
     "exception": false,
     "start_time": "2024-07-12T16:43:18.715043",
     "status": "completed"
    },
    "tags": []
   },
   "outputs": [
    {
     "data": {
      "text/html": [
       "<div>\n",
       "<style scoped>\n",
       "    .dataframe tbody tr th:only-of-type {\n",
       "        vertical-align: middle;\n",
       "    }\n",
       "\n",
       "    .dataframe tbody tr th {\n",
       "        vertical-align: top;\n",
       "    }\n",
       "\n",
       "    .dataframe thead th {\n",
       "        text-align: right;\n",
       "    }\n",
       "</style>\n",
       "<table border=\"1\" class=\"dataframe\">\n",
       "  <thead>\n",
       "    <tr style=\"text-align: right;\">\n",
       "      <th></th>\n",
       "      <th>label</th>\n",
       "      <th>image_path</th>\n",
       "    </tr>\n",
       "  </thead>\n",
       "  <tbody>\n",
       "    <tr>\n",
       "      <th>0</th>\n",
       "      <td>1finger</td>\n",
       "      <td>/kaggle/input/masked-gesture-dataset/Masked Ge...</td>\n",
       "    </tr>\n",
       "    <tr>\n",
       "      <th>1</th>\n",
       "      <td>1finger</td>\n",
       "      <td>/kaggle/input/masked-gesture-dataset/Masked Ge...</td>\n",
       "    </tr>\n",
       "    <tr>\n",
       "      <th>2</th>\n",
       "      <td>1finger</td>\n",
       "      <td>/kaggle/input/masked-gesture-dataset/Masked Ge...</td>\n",
       "    </tr>\n",
       "    <tr>\n",
       "      <th>3</th>\n",
       "      <td>1finger</td>\n",
       "      <td>/kaggle/input/masked-gesture-dataset/Masked Ge...</td>\n",
       "    </tr>\n",
       "    <tr>\n",
       "      <th>4</th>\n",
       "      <td>1finger</td>\n",
       "      <td>/kaggle/input/masked-gesture-dataset/Masked Ge...</td>\n",
       "    </tr>\n",
       "    <tr>\n",
       "      <th>...</th>\n",
       "      <td>...</td>\n",
       "      <td>...</td>\n",
       "    </tr>\n",
       "    <tr>\n",
       "      <th>13457</th>\n",
       "      <td>italydown</td>\n",
       "      <td>/kaggle/input/masked-gesture-dataset/Masked Ge...</td>\n",
       "    </tr>\n",
       "    <tr>\n",
       "      <th>13458</th>\n",
       "      <td>italydown</td>\n",
       "      <td>/kaggle/input/masked-gesture-dataset/Masked Ge...</td>\n",
       "    </tr>\n",
       "    <tr>\n",
       "      <th>13459</th>\n",
       "      <td>italydown</td>\n",
       "      <td>/kaggle/input/masked-gesture-dataset/Masked Ge...</td>\n",
       "    </tr>\n",
       "    <tr>\n",
       "      <th>13460</th>\n",
       "      <td>italydown</td>\n",
       "      <td>/kaggle/input/masked-gesture-dataset/Masked Ge...</td>\n",
       "    </tr>\n",
       "    <tr>\n",
       "      <th>13461</th>\n",
       "      <td>italydown</td>\n",
       "      <td>/kaggle/input/masked-gesture-dataset/Masked Ge...</td>\n",
       "    </tr>\n",
       "  </tbody>\n",
       "</table>\n",
       "<p>13462 rows × 2 columns</p>\n",
       "</div>"
      ],
      "text/plain": [
       "           label                                         image_path\n",
       "0        1finger  /kaggle/input/masked-gesture-dataset/Masked Ge...\n",
       "1        1finger  /kaggle/input/masked-gesture-dataset/Masked Ge...\n",
       "2        1finger  /kaggle/input/masked-gesture-dataset/Masked Ge...\n",
       "3        1finger  /kaggle/input/masked-gesture-dataset/Masked Ge...\n",
       "4        1finger  /kaggle/input/masked-gesture-dataset/Masked Ge...\n",
       "...          ...                                                ...\n",
       "13457  italydown  /kaggle/input/masked-gesture-dataset/Masked Ge...\n",
       "13458  italydown  /kaggle/input/masked-gesture-dataset/Masked Ge...\n",
       "13459  italydown  /kaggle/input/masked-gesture-dataset/Masked Ge...\n",
       "13460  italydown  /kaggle/input/masked-gesture-dataset/Masked Ge...\n",
       "13461  italydown  /kaggle/input/masked-gesture-dataset/Masked Ge...\n",
       "\n",
       "[13462 rows x 2 columns]"
      ]
     },
     "execution_count": 7,
     "metadata": {},
     "output_type": "execute_result"
    }
   ],
   "source": [
    "df = pd.DataFrame(images, columns=['label','image_path']) # making a dataframe for the images\n",
    "df"
   ]
  },
  {
   "cell_type": "code",
   "execution_count": 8,
   "id": "7bc55a59",
   "metadata": {
    "execution": {
     "iopub.execute_input": "2024-07-12T16:43:18.753029Z",
     "iopub.status.busy": "2024-07-12T16:43:18.752805Z",
     "iopub.status.idle": "2024-07-12T16:43:18.756494Z",
     "shell.execute_reply": "2024-07-12T16:43:18.755788Z"
    },
    "papermill": {
     "duration": 0.013215,
     "end_time": "2024-07-12T16:43:18.758302",
     "exception": false,
     "start_time": "2024-07-12T16:43:18.745087",
     "status": "completed"
    },
    "tags": []
   },
   "outputs": [],
   "source": [
    "# converting image paths to image pixel values\n",
    "def convert_image_to_pixel_values(image_path):\n",
    "    image = cv2.imread(image_path, cv2.IMREAD_GRAYSCALE)\n",
    "    image = cv2.resize(image,(IMAGE_SIZE,IMAGE_SIZE))\n",
    "    return image.reshape(-1) / 255.0\n"
   ]
  },
  {
   "cell_type": "code",
   "execution_count": 9,
   "id": "94f88293",
   "metadata": {
    "execution": {
     "iopub.execute_input": "2024-07-12T16:43:18.773275Z",
     "iopub.status.busy": "2024-07-12T16:43:18.772858Z",
     "iopub.status.idle": "2024-07-12T16:44:09.283151Z",
     "shell.execute_reply": "2024-07-12T16:44:09.282310Z"
    },
    "papermill": {
     "duration": 50.520509,
     "end_time": "2024-07-12T16:44:09.285469",
     "exception": false,
     "start_time": "2024-07-12T16:43:18.764960",
     "status": "completed"
    },
    "tags": []
   },
   "outputs": [],
   "source": [
    "df['image'] = df['image_path'].apply(lambda x:convert_image_to_pixel_values(x))"
   ]
  },
  {
   "cell_type": "code",
   "execution_count": 10,
   "id": "6b0808cb",
   "metadata": {
    "execution": {
     "iopub.execute_input": "2024-07-12T16:44:09.301065Z",
     "iopub.status.busy": "2024-07-12T16:44:09.300790Z",
     "iopub.status.idle": "2024-07-12T16:44:09.306030Z",
     "shell.execute_reply": "2024-07-12T16:44:09.305292Z"
    },
    "papermill": {
     "duration": 0.014716,
     "end_time": "2024-07-12T16:44:09.307734",
     "exception": false,
     "start_time": "2024-07-12T16:44:09.293018",
     "status": "completed"
    },
    "tags": []
   },
   "outputs": [
    {
     "data": {
      "text/plain": [
       "(16384,)"
      ]
     },
     "execution_count": 10,
     "metadata": {},
     "output_type": "execute_result"
    }
   ],
   "source": [
    "df.loc[1,'image'].shape # 128*128 = 16384"
   ]
  },
  {
   "cell_type": "code",
   "execution_count": 11,
   "id": "2c37bd2b",
   "metadata": {
    "execution": {
     "iopub.execute_input": "2024-07-12T16:44:09.323602Z",
     "iopub.status.busy": "2024-07-12T16:44:09.323336Z",
     "iopub.status.idle": "2024-07-12T16:44:09.342828Z",
     "shell.execute_reply": "2024-07-12T16:44:09.342112Z"
    },
    "papermill": {
     "duration": 0.029289,
     "end_time": "2024-07-12T16:44:09.344483",
     "exception": false,
     "start_time": "2024-07-12T16:44:09.315194",
     "status": "completed"
    },
    "tags": []
   },
   "outputs": [
    {
     "data": {
      "text/html": [
       "<div>\n",
       "<style scoped>\n",
       "    .dataframe tbody tr th:only-of-type {\n",
       "        vertical-align: middle;\n",
       "    }\n",
       "\n",
       "    .dataframe tbody tr th {\n",
       "        vertical-align: top;\n",
       "    }\n",
       "\n",
       "    .dataframe thead th {\n",
       "        text-align: right;\n",
       "    }\n",
       "</style>\n",
       "<table border=\"1\" class=\"dataframe\">\n",
       "  <thead>\n",
       "    <tr style=\"text-align: right;\">\n",
       "      <th></th>\n",
       "      <th>label</th>\n",
       "      <th>image</th>\n",
       "    </tr>\n",
       "  </thead>\n",
       "  <tbody>\n",
       "    <tr>\n",
       "      <th>0</th>\n",
       "      <td>3finger</td>\n",
       "      <td>[0.0, 0.0, 0.0, 0.0, 0.0, 0.0, 0.0, 0.0, 0.0, ...</td>\n",
       "    </tr>\n",
       "    <tr>\n",
       "      <th>1</th>\n",
       "      <td>spreadoutpalm</td>\n",
       "      <td>[0.0, 0.0, 0.0, 0.0, 0.0, 0.0, 0.0, 0.0, 0.0, ...</td>\n",
       "    </tr>\n",
       "    <tr>\n",
       "      <th>2</th>\n",
       "      <td>pinky</td>\n",
       "      <td>[0.0, 0.0, 0.0, 0.0, 0.0, 0.0, 0.0, 0.0, 0.0, ...</td>\n",
       "    </tr>\n",
       "    <tr>\n",
       "      <th>3</th>\n",
       "      <td>italydown</td>\n",
       "      <td>[0.0, 0.0, 0.0, 0.0, 0.0, 0.0, 0.0, 0.0, 0.0, ...</td>\n",
       "    </tr>\n",
       "    <tr>\n",
       "      <th>4</th>\n",
       "      <td>3finger</td>\n",
       "      <td>[0.0, 0.0, 0.0, 0.0, 0.0, 0.0, 0.0, 0.0, 0.0, ...</td>\n",
       "    </tr>\n",
       "    <tr>\n",
       "      <th>...</th>\n",
       "      <td>...</td>\n",
       "      <td>...</td>\n",
       "    </tr>\n",
       "    <tr>\n",
       "      <th>13457</th>\n",
       "      <td>3finger</td>\n",
       "      <td>[0.0, 0.0, 0.0, 0.0, 0.0, 0.0, 0.0, 0.0, 0.0, ...</td>\n",
       "    </tr>\n",
       "    <tr>\n",
       "      <th>13458</th>\n",
       "      <td>pinky</td>\n",
       "      <td>[0.0, 0.0, 0.0, 0.0, 0.0, 0.0, 0.0, 0.0, 0.0, ...</td>\n",
       "    </tr>\n",
       "    <tr>\n",
       "      <th>13459</th>\n",
       "      <td>2finger</td>\n",
       "      <td>[0.0, 0.0, 0.0, 0.0, 0.0, 0.0, 0.0, 0.0, 0.0, ...</td>\n",
       "    </tr>\n",
       "    <tr>\n",
       "      <th>13460</th>\n",
       "      <td>pinky</td>\n",
       "      <td>[0.0, 0.0, 0.0, 0.0, 0.0, 0.0, 0.0, 0.0, 0.0, ...</td>\n",
       "    </tr>\n",
       "    <tr>\n",
       "      <th>13461</th>\n",
       "      <td>yoyo</td>\n",
       "      <td>[0.0, 0.0, 0.0, 0.0, 0.0, 0.0, 0.0, 0.0, 0.0, ...</td>\n",
       "    </tr>\n",
       "  </tbody>\n",
       "</table>\n",
       "<p>13462 rows × 2 columns</p>\n",
       "</div>"
      ],
      "text/plain": [
       "               label                                              image\n",
       "0            3finger  [0.0, 0.0, 0.0, 0.0, 0.0, 0.0, 0.0, 0.0, 0.0, ...\n",
       "1      spreadoutpalm  [0.0, 0.0, 0.0, 0.0, 0.0, 0.0, 0.0, 0.0, 0.0, ...\n",
       "2              pinky  [0.0, 0.0, 0.0, 0.0, 0.0, 0.0, 0.0, 0.0, 0.0, ...\n",
       "3          italydown  [0.0, 0.0, 0.0, 0.0, 0.0, 0.0, 0.0, 0.0, 0.0, ...\n",
       "4            3finger  [0.0, 0.0, 0.0, 0.0, 0.0, 0.0, 0.0, 0.0, 0.0, ...\n",
       "...              ...                                                ...\n",
       "13457        3finger  [0.0, 0.0, 0.0, 0.0, 0.0, 0.0, 0.0, 0.0, 0.0, ...\n",
       "13458          pinky  [0.0, 0.0, 0.0, 0.0, 0.0, 0.0, 0.0, 0.0, 0.0, ...\n",
       "13459        2finger  [0.0, 0.0, 0.0, 0.0, 0.0, 0.0, 0.0, 0.0, 0.0, ...\n",
       "13460          pinky  [0.0, 0.0, 0.0, 0.0, 0.0, 0.0, 0.0, 0.0, 0.0, ...\n",
       "13461           yoyo  [0.0, 0.0, 0.0, 0.0, 0.0, 0.0, 0.0, 0.0, 0.0, ...\n",
       "\n",
       "[13462 rows x 2 columns]"
      ]
     },
     "execution_count": 11,
     "metadata": {},
     "output_type": "execute_result"
    }
   ],
   "source": [
    "# for shuffling\n",
    "df1 = df.sample(frac=1.0, random_state=73) # random_state is for consistent randomizing \n",
    "df1.reset_index(drop=True,inplace=True) # resetting indices after shuffling\n",
    "df1.drop(columns=['image_path'],inplace=True) # dropping the image path column as it is not needed\n",
    "df1"
   ]
  },
  {
   "cell_type": "code",
   "execution_count": 12,
   "id": "1eae9bff",
   "metadata": {
    "execution": {
     "iopub.execute_input": "2024-07-12T16:44:09.358865Z",
     "iopub.status.busy": "2024-07-12T16:44:09.358638Z",
     "iopub.status.idle": "2024-07-12T16:44:09.486245Z",
     "shell.execute_reply": "2024-07-12T16:44:09.485558Z"
    },
    "papermill": {
     "duration": 0.137096,
     "end_time": "2024-07-12T16:44:09.488138",
     "exception": false,
     "start_time": "2024-07-12T16:44:09.351042",
     "status": "completed"
    },
    "tags": []
   },
   "outputs": [
    {
     "data": {
      "image/png": "[encoded data removed]",
      "text/plain": [
       "<Figure size 640x480 with 1 Axes>"
      ]
     },
     "metadata": {},
     "output_type": "display_data"
    }
   ],
   "source": [
    "#showing an image sample\n",
    "example = df1.loc[100,'image'].reshape(128,128)\n",
    "\n",
    "plt.imshow(example, cmap=\"gray\")\n",
    "plt.title(df1.loc[100,'label'])\n",
    "plt.axis('off')\n",
    "plt.show()\n"
   ]
  },
  {
   "cell_type": "code",
   "execution_count": 13,
   "id": "3aab3dde",
   "metadata": {
    "execution": {
     "iopub.execute_input": "2024-07-12T16:44:09.504462Z",
     "iopub.status.busy": "2024-07-12T16:44:09.504167Z",
     "iopub.status.idle": "2024-07-12T16:44:09.508215Z",
     "shell.execute_reply": "2024-07-12T16:44:09.507519Z"
    },
    "papermill": {
     "duration": 0.014068,
     "end_time": "2024-07-12T16:44:09.509778",
     "exception": false,
     "start_time": "2024-07-12T16:44:09.495710",
     "status": "completed"
    },
    "tags": []
   },
   "outputs": [
    {
     "name": "stdout",
     "output_type": "stream",
     "text": [
      "(13462, 2)\n"
     ]
    }
   ],
   "source": [
    "print(df1.shape)\n",
    "m = df1.shape[0] ## training examples"
   ]
  },
  {
   "cell_type": "code",
   "execution_count": 14,
   "id": "b3e2718e",
   "metadata": {
    "execution": {
     "iopub.execute_input": "2024-07-12T16:44:09.526068Z",
     "iopub.status.busy": "2024-07-12T16:44:09.525821Z",
     "iopub.status.idle": "2024-07-12T16:44:09.529566Z",
     "shell.execute_reply": "2024-07-12T16:44:09.528784Z"
    },
    "papermill": {
     "duration": 0.013872,
     "end_time": "2024-07-12T16:44:09.531385",
     "exception": false,
     "start_time": "2024-07-12T16:44:09.517513",
     "status": "completed"
    },
    "tags": []
   },
   "outputs": [],
   "source": [
    "train_split = int(0.8*m)\n",
    "test_split = int(0.2*m)"
   ]
  },
  {
   "cell_type": "code",
   "execution_count": 15,
   "id": "49ff4ff0",
   "metadata": {
    "execution": {
     "iopub.execute_input": "2024-07-12T16:44:09.547833Z",
     "iopub.status.busy": "2024-07-12T16:44:09.547578Z",
     "iopub.status.idle": "2024-07-12T16:44:09.551590Z",
     "shell.execute_reply": "2024-07-12T16:44:09.550871Z"
    },
    "papermill": {
     "duration": 0.014419,
     "end_time": "2024-07-12T16:44:09.553427",
     "exception": false,
     "start_time": "2024-07-12T16:44:09.539008",
     "status": "completed"
    },
    "tags": []
   },
   "outputs": [],
   "source": [
    "train_df = df1[0:train_split] # splitting into train and test dataframes\n",
    "test_df = df1[m - test_split:]\n"
   ]
  },
  {
   "cell_type": "code",
   "execution_count": 16,
   "id": "f26fe9c4",
   "metadata": {
    "execution": {
     "iopub.execute_input": "2024-07-12T16:44:09.569148Z",
     "iopub.status.busy": "2024-07-12T16:44:09.568893Z",
     "iopub.status.idle": "2024-07-12T16:44:09.585669Z",
     "shell.execute_reply": "2024-07-12T16:44:09.584901Z"
    },
    "papermill": {
     "duration": 0.026525,
     "end_time": "2024-07-12T16:44:09.587254",
     "exception": false,
     "start_time": "2024-07-12T16:44:09.560729",
     "status": "completed"
    },
    "tags": []
   },
   "outputs": [
    {
     "data": {
      "text/html": [
       "<div>\n",
       "<style scoped>\n",
       "    .dataframe tbody tr th:only-of-type {\n",
       "        vertical-align: middle;\n",
       "    }\n",
       "\n",
       "    .dataframe tbody tr th {\n",
       "        vertical-align: top;\n",
       "    }\n",
       "\n",
       "    .dataframe thead th {\n",
       "        text-align: right;\n",
       "    }\n",
       "</style>\n",
       "<table border=\"1\" class=\"dataframe\">\n",
       "  <thead>\n",
       "    <tr style=\"text-align: right;\">\n",
       "      <th></th>\n",
       "      <th>label</th>\n",
       "      <th>image</th>\n",
       "    </tr>\n",
       "  </thead>\n",
       "  <tbody>\n",
       "    <tr>\n",
       "      <th>0</th>\n",
       "      <td>3finger</td>\n",
       "      <td>[0.0, 0.0, 0.0, 0.0, 0.0, 0.0, 0.0, 0.0, 0.0, ...</td>\n",
       "    </tr>\n",
       "    <tr>\n",
       "      <th>1</th>\n",
       "      <td>spreadoutpalm</td>\n",
       "      <td>[0.0, 0.0, 0.0, 0.0, 0.0, 0.0, 0.0, 0.0, 0.0, ...</td>\n",
       "    </tr>\n",
       "    <tr>\n",
       "      <th>2</th>\n",
       "      <td>pinky</td>\n",
       "      <td>[0.0, 0.0, 0.0, 0.0, 0.0, 0.0, 0.0, 0.0, 0.0, ...</td>\n",
       "    </tr>\n",
       "    <tr>\n",
       "      <th>3</th>\n",
       "      <td>italydown</td>\n",
       "      <td>[0.0, 0.0, 0.0, 0.0, 0.0, 0.0, 0.0, 0.0, 0.0, ...</td>\n",
       "    </tr>\n",
       "    <tr>\n",
       "      <th>4</th>\n",
       "      <td>3finger</td>\n",
       "      <td>[0.0, 0.0, 0.0, 0.0, 0.0, 0.0, 0.0, 0.0, 0.0, ...</td>\n",
       "    </tr>\n",
       "    <tr>\n",
       "      <th>...</th>\n",
       "      <td>...</td>\n",
       "      <td>...</td>\n",
       "    </tr>\n",
       "    <tr>\n",
       "      <th>10764</th>\n",
       "      <td>thumbsdown</td>\n",
       "      <td>[0.0, 0.0, 0.0, 0.0, 0.0, 0.0, 0.0, 0.0, 0.0, ...</td>\n",
       "    </tr>\n",
       "    <tr>\n",
       "      <th>10765</th>\n",
       "      <td>thumbsup</td>\n",
       "      <td>[0.0, 0.0, 0.0, 0.0, 0.0, 0.0, 0.0, 0.0, 0.0, ...</td>\n",
       "    </tr>\n",
       "    <tr>\n",
       "      <th>10766</th>\n",
       "      <td>yoyo</td>\n",
       "      <td>[0.0, 0.0, 0.0, 0.0, 0.0, 0.0, 0.0, 0.0, 0.0, ...</td>\n",
       "    </tr>\n",
       "    <tr>\n",
       "      <th>10767</th>\n",
       "      <td>yoyo</td>\n",
       "      <td>[0.0, 0.0, 0.0, 0.0, 0.0, 0.0, 0.0, 0.0, 0.0, ...</td>\n",
       "    </tr>\n",
       "    <tr>\n",
       "      <th>10768</th>\n",
       "      <td>pinky</td>\n",
       "      <td>[0.0, 0.0, 0.0, 0.0, 0.0, 0.0, 0.0, 0.0, 0.0, ...</td>\n",
       "    </tr>\n",
       "  </tbody>\n",
       "</table>\n",
       "<p>10769 rows × 2 columns</p>\n",
       "</div>"
      ],
      "text/plain": [
       "               label                                              image\n",
       "0            3finger  [0.0, 0.0, 0.0, 0.0, 0.0, 0.0, 0.0, 0.0, 0.0, ...\n",
       "1      spreadoutpalm  [0.0, 0.0, 0.0, 0.0, 0.0, 0.0, 0.0, 0.0, 0.0, ...\n",
       "2              pinky  [0.0, 0.0, 0.0, 0.0, 0.0, 0.0, 0.0, 0.0, 0.0, ...\n",
       "3          italydown  [0.0, 0.0, 0.0, 0.0, 0.0, 0.0, 0.0, 0.0, 0.0, ...\n",
       "4            3finger  [0.0, 0.0, 0.0, 0.0, 0.0, 0.0, 0.0, 0.0, 0.0, ...\n",
       "...              ...                                                ...\n",
       "10764     thumbsdown  [0.0, 0.0, 0.0, 0.0, 0.0, 0.0, 0.0, 0.0, 0.0, ...\n",
       "10765       thumbsup  [0.0, 0.0, 0.0, 0.0, 0.0, 0.0, 0.0, 0.0, 0.0, ...\n",
       "10766           yoyo  [0.0, 0.0, 0.0, 0.0, 0.0, 0.0, 0.0, 0.0, 0.0, ...\n",
       "10767           yoyo  [0.0, 0.0, 0.0, 0.0, 0.0, 0.0, 0.0, 0.0, 0.0, ...\n",
       "10768          pinky  [0.0, 0.0, 0.0, 0.0, 0.0, 0.0, 0.0, 0.0, 0.0, ...\n",
       "\n",
       "[10769 rows x 2 columns]"
      ]
     },
     "execution_count": 16,
     "metadata": {},
     "output_type": "execute_result"
    }
   ],
   "source": [
    "train_df"
   ]
  },
  {
   "cell_type": "code",
   "execution_count": 17,
   "id": "e3023fab",
   "metadata": {
    "execution": {
     "iopub.execute_input": "2024-07-12T16:44:09.602853Z",
     "iopub.status.busy": "2024-07-12T16:44:09.602600Z",
     "iopub.status.idle": "2024-07-12T16:44:09.618090Z",
     "shell.execute_reply": "2024-07-12T16:44:09.617187Z"
    },
    "papermill": {
     "duration": 0.025099,
     "end_time": "2024-07-12T16:44:09.619792",
     "exception": false,
     "start_time": "2024-07-12T16:44:09.594693",
     "status": "completed"
    },
    "tags": []
   },
   "outputs": [
    {
     "data": {
      "text/html": [
       "<div>\n",
       "<style scoped>\n",
       "    .dataframe tbody tr th:only-of-type {\n",
       "        vertical-align: middle;\n",
       "    }\n",
       "\n",
       "    .dataframe tbody tr th {\n",
       "        vertical-align: top;\n",
       "    }\n",
       "\n",
       "    .dataframe thead th {\n",
       "        text-align: right;\n",
       "    }\n",
       "</style>\n",
       "<table border=\"1\" class=\"dataframe\">\n",
       "  <thead>\n",
       "    <tr style=\"text-align: right;\">\n",
       "      <th></th>\n",
       "      <th>label</th>\n",
       "      <th>image</th>\n",
       "    </tr>\n",
       "  </thead>\n",
       "  <tbody>\n",
       "    <tr>\n",
       "      <th>10770</th>\n",
       "      <td>pinky</td>\n",
       "      <td>[0.0, 0.0, 0.0, 0.0, 0.0, 0.0, 0.0, 0.0, 0.0, ...</td>\n",
       "    </tr>\n",
       "    <tr>\n",
       "      <th>10771</th>\n",
       "      <td>italydown</td>\n",
       "      <td>[0.0, 0.0, 0.0, 0.0, 0.0, 0.0, 0.0, 0.0, 0.0, ...</td>\n",
       "    </tr>\n",
       "    <tr>\n",
       "      <th>10772</th>\n",
       "      <td>thumbsup</td>\n",
       "      <td>[0.0, 0.0, 0.0, 0.0, 0.0, 0.0, 0.0, 0.0, 0.0, ...</td>\n",
       "    </tr>\n",
       "    <tr>\n",
       "      <th>10773</th>\n",
       "      <td>2finger</td>\n",
       "      <td>[0.0, 0.0, 0.0, 0.0, 0.0, 0.0, 0.0, 0.0, 0.0, ...</td>\n",
       "    </tr>\n",
       "    <tr>\n",
       "      <th>10774</th>\n",
       "      <td>1finger</td>\n",
       "      <td>[0.0, 0.0, 0.0, 0.0, 0.0, 0.0, 0.0, 0.0, 0.0, ...</td>\n",
       "    </tr>\n",
       "    <tr>\n",
       "      <th>...</th>\n",
       "      <td>...</td>\n",
       "      <td>...</td>\n",
       "    </tr>\n",
       "    <tr>\n",
       "      <th>13457</th>\n",
       "      <td>3finger</td>\n",
       "      <td>[0.0, 0.0, 0.0, 0.0, 0.0, 0.0, 0.0, 0.0, 0.0, ...</td>\n",
       "    </tr>\n",
       "    <tr>\n",
       "      <th>13458</th>\n",
       "      <td>pinky</td>\n",
       "      <td>[0.0, 0.0, 0.0, 0.0, 0.0, 0.0, 0.0, 0.0, 0.0, ...</td>\n",
       "    </tr>\n",
       "    <tr>\n",
       "      <th>13459</th>\n",
       "      <td>2finger</td>\n",
       "      <td>[0.0, 0.0, 0.0, 0.0, 0.0, 0.0, 0.0, 0.0, 0.0, ...</td>\n",
       "    </tr>\n",
       "    <tr>\n",
       "      <th>13460</th>\n",
       "      <td>pinky</td>\n",
       "      <td>[0.0, 0.0, 0.0, 0.0, 0.0, 0.0, 0.0, 0.0, 0.0, ...</td>\n",
       "    </tr>\n",
       "    <tr>\n",
       "      <th>13461</th>\n",
       "      <td>yoyo</td>\n",
       "      <td>[0.0, 0.0, 0.0, 0.0, 0.0, 0.0, 0.0, 0.0, 0.0, ...</td>\n",
       "    </tr>\n",
       "  </tbody>\n",
       "</table>\n",
       "<p>2692 rows × 2 columns</p>\n",
       "</div>"
      ],
      "text/plain": [
       "           label                                              image\n",
       "10770      pinky  [0.0, 0.0, 0.0, 0.0, 0.0, 0.0, 0.0, 0.0, 0.0, ...\n",
       "10771  italydown  [0.0, 0.0, 0.0, 0.0, 0.0, 0.0, 0.0, 0.0, 0.0, ...\n",
       "10772   thumbsup  [0.0, 0.0, 0.0, 0.0, 0.0, 0.0, 0.0, 0.0, 0.0, ...\n",
       "10773    2finger  [0.0, 0.0, 0.0, 0.0, 0.0, 0.0, 0.0, 0.0, 0.0, ...\n",
       "10774    1finger  [0.0, 0.0, 0.0, 0.0, 0.0, 0.0, 0.0, 0.0, 0.0, ...\n",
       "...          ...                                                ...\n",
       "13457    3finger  [0.0, 0.0, 0.0, 0.0, 0.0, 0.0, 0.0, 0.0, 0.0, ...\n",
       "13458      pinky  [0.0, 0.0, 0.0, 0.0, 0.0, 0.0, 0.0, 0.0, 0.0, ...\n",
       "13459    2finger  [0.0, 0.0, 0.0, 0.0, 0.0, 0.0, 0.0, 0.0, 0.0, ...\n",
       "13460      pinky  [0.0, 0.0, 0.0, 0.0, 0.0, 0.0, 0.0, 0.0, 0.0, ...\n",
       "13461       yoyo  [0.0, 0.0, 0.0, 0.0, 0.0, 0.0, 0.0, 0.0, 0.0, ...\n",
       "\n",
       "[2692 rows x 2 columns]"
      ]
     },
     "execution_count": 17,
     "metadata": {},
     "output_type": "execute_result"
    }
   ],
   "source": [
    "test_df"
   ]
  },
  {
   "cell_type": "code",
   "execution_count": 18,
   "id": "a2292bad",
   "metadata": {
    "execution": {
     "iopub.execute_input": "2024-07-12T16:44:09.635971Z",
     "iopub.status.busy": "2024-07-12T16:44:09.635754Z",
     "iopub.status.idle": "2024-07-12T16:44:10.175284Z",
     "shell.execute_reply": "2024-07-12T16:44:10.174537Z"
    },
    "papermill": {
     "duration": 0.54995,
     "end_time": "2024-07-12T16:44:10.177342",
     "exception": false,
     "start_time": "2024-07-12T16:44:09.627392",
     "status": "completed"
    },
    "tags": []
   },
   "outputs": [],
   "source": [
    "# making training and testing datasets\n",
    "X_train = np.stack(train_df['image'].values)   # .values returns the arrays containing all pixels in order and np.stack(), stacks them into different rows\n",
    "Y_train = train_df['label'].values.reshape(1,train_split)\n",
    "X_test = np.stack(test_df['image'].values)\n",
    "Y_test = test_df['label'].values.reshape(1,test_split)\n"
   ]
  },
  {
   "cell_type": "code",
   "execution_count": 19,
   "id": "6f1d413f",
   "metadata": {
    "execution": {
     "iopub.execute_input": "2024-07-12T16:44:10.193747Z",
     "iopub.status.busy": "2024-07-12T16:44:10.193465Z",
     "iopub.status.idle": "2024-07-12T16:44:10.198612Z",
     "shell.execute_reply": "2024-07-12T16:44:10.197846Z"
    },
    "papermill": {
     "duration": 0.015098,
     "end_time": "2024-07-12T16:44:10.200219",
     "exception": false,
     "start_time": "2024-07-12T16:44:10.185121",
     "status": "completed"
    },
    "tags": []
   },
   "outputs": [
    {
     "data": {
      "text/plain": [
       "(1, 2692)"
      ]
     },
     "execution_count": 19,
     "metadata": {},
     "output_type": "execute_result"
    }
   ],
   "source": [
    "Y_test.shape\n"
   ]
  },
  {
   "cell_type": "code",
   "execution_count": 20,
   "id": "7c8a9ff7",
   "metadata": {
    "execution": {
     "iopub.execute_input": "2024-07-12T16:44:10.216299Z",
     "iopub.status.busy": "2024-07-12T16:44:10.216065Z",
     "iopub.status.idle": "2024-07-12T16:44:10.220130Z",
     "shell.execute_reply": "2024-07-12T16:44:10.219287Z"
    },
    "papermill": {
     "duration": 0.014077,
     "end_time": "2024-07-12T16:44:10.221803",
     "exception": false,
     "start_time": "2024-07-12T16:44:10.207726",
     "status": "completed"
    },
    "tags": []
   },
   "outputs": [
    {
     "name": "stdout",
     "output_type": "stream",
     "text": [
      "(16384, 10769)\n",
      "(1, 10769)\n"
     ]
    }
   ],
   "source": [
    "X_train = X_train.T #each column will be for a single training example\n",
    "X_test = X_test.T\n",
    "print(X_train.shape)\n",
    "print(Y_train.shape)"
   ]
  },
  {
   "cell_type": "code",
   "execution_count": 21,
   "id": "92a4d10c",
   "metadata": {
    "execution": {
     "iopub.execute_input": "2024-07-12T16:44:10.238383Z",
     "iopub.status.busy": "2024-07-12T16:44:10.238147Z",
     "iopub.status.idle": "2024-07-12T16:44:10.241912Z",
     "shell.execute_reply": "2024-07-12T16:44:10.241175Z"
    },
    "papermill": {
     "duration": 0.014196,
     "end_time": "2024-07-12T16:44:10.243786",
     "exception": false,
     "start_time": "2024-07-12T16:44:10.229590",
     "status": "completed"
    },
    "tags": []
   },
   "outputs": [
    {
     "name": "stdout",
     "output_type": "stream",
     "text": [
      "(16384, 2692)\n"
     ]
    }
   ],
   "source": [
    "print(X_test.shape)"
   ]
  },
  {
   "cell_type": "code",
   "execution_count": 22,
   "id": "78eb0082",
   "metadata": {
    "execution": {
     "iopub.execute_input": "2024-07-12T16:44:10.259884Z",
     "iopub.status.busy": "2024-07-12T16:44:10.259667Z",
     "iopub.status.idle": "2024-07-12T16:44:10.264436Z",
     "shell.execute_reply": "2024-07-12T16:44:10.263632Z"
    },
    "papermill": {
     "duration": 0.014662,
     "end_time": "2024-07-12T16:44:10.265920",
     "exception": false,
     "start_time": "2024-07-12T16:44:10.251258",
     "status": "completed"
    },
    "tags": []
   },
   "outputs": [],
   "source": [
    "n_i = IMAGE_SIZE * IMAGE_SIZE # input layer size\n",
    "n_h = 250 # hidden layer size\n",
    "n_o = len(classes) #output layer size,  if we add additional classes in the future we can change this\n",
    "\n",
    "\n",
    "def init_params(n_i, n_h, n_o):\n",
    "    W1 = np.random.randn(n_h, n_i) * 0.01\n",
    "    b1 = np.zeros((n_h, 1))\n",
    "    W2 = np.random.randn(n_o, n_h) * 0.01\n",
    "    b2 = np.zeros((n_o, 1))\n",
    "    return W1, b1, W2, b2"
   ]
  },
  {
   "cell_type": "code",
   "execution_count": 23,
   "id": "c675a56c",
   "metadata": {
    "execution": {
     "iopub.execute_input": "2024-07-12T16:44:10.281759Z",
     "iopub.status.busy": "2024-07-12T16:44:10.281542Z",
     "iopub.status.idle": "2024-07-12T16:44:10.285750Z",
     "shell.execute_reply": "2024-07-12T16:44:10.285127Z"
    },
    "papermill": {
     "duration": 0.013834,
     "end_time": "2024-07-12T16:44:10.287244",
     "exception": false,
     "start_time": "2024-07-12T16:44:10.273410",
     "status": "completed"
    },
    "tags": []
   },
   "outputs": [],
   "source": [
    "def relu(Z):\n",
    "    return np.maximum(0, Z)\n",
    "\n",
    "def relu_d(Z):\n",
    "    return Z > 0\n",
    "\n",
    "def softmax(Z):\n",
    "    exp_Z = np.exp(Z)\n",
    "    return exp_Z / np.sum(exp_Z, axis=0, keepdims=True)\n"
   ]
  },
  {
   "cell_type": "code",
   "execution_count": 24,
   "id": "fb262d4f",
   "metadata": {
    "execution": {
     "iopub.execute_input": "2024-07-12T16:44:10.303194Z",
     "iopub.status.busy": "2024-07-12T16:44:10.302931Z",
     "iopub.status.idle": "2024-07-12T16:44:10.308831Z",
     "shell.execute_reply": "2024-07-12T16:44:10.308137Z"
    },
    "papermill": {
     "duration": 0.015518,
     "end_time": "2024-07-12T16:44:10.310383",
     "exception": false,
     "start_time": "2024-07-12T16:44:10.294865",
     "status": "completed"
    },
    "tags": []
   },
   "outputs": [],
   "source": [
    "def forward_propagation(W1, b1, W2, b2, X):\n",
    "    Z1 = np.dot(W1, X) + b1\n",
    "    A1 = relu(Z1)\n",
    "    Z2 = np.dot(W2, A1) + b2\n",
    "    A2 = softmax(Z2)\n",
    "    return Z1, A1, Z2, A2\n",
    "\n",
    "def backward_propagation(Z1, A1, Z2, A2, W2, X, Y):\n",
    "    m = Y.shape[0]\n",
    "    dZ2 = A2.copy()\n",
    "    dZ2[Y, range(m)] -= 1 #subtracts 1 from the correct label i.e Y through all training examples i.e.  m\n",
    "    dW2 = (1 / m) * np.dot(dZ2, A1.T)\n",
    "    db2 = (1 / m) * np.sum(dZ2)\n",
    "    dA1 = np.dot(W2.T, dZ2)\n",
    "    dZ1 = dA1 * relu_d(Z1)\n",
    "    dW1 = (1 / m) * np.dot(dZ1, X.T)\n",
    "    db1 = (1 / m) * np.sum(dZ1)\n",
    "    return dW1, db1, dW2, db2"
   ]
  },
  {
   "cell_type": "code",
   "execution_count": null,
   "id": "56576e78",
   "metadata": {
    "papermill": {
     "duration": 0.007523,
     "end_time": "2024-07-12T16:44:10.325520",
     "exception": false,
     "start_time": "2024-07-12T16:44:10.317997",
     "status": "completed"
    },
    "tags": []
   },
   "outputs": [],
   "source": []
  },
  {
   "cell_type": "code",
   "execution_count": 25,
   "id": "e4dae8cc",
   "metadata": {
    "execution": {
     "iopub.execute_input": "2024-07-12T16:44:10.341479Z",
     "iopub.status.busy": "2024-07-12T16:44:10.341244Z",
     "iopub.status.idle": "2024-07-12T16:44:10.346099Z",
     "shell.execute_reply": "2024-07-12T16:44:10.345155Z"
    },
    "papermill": {
     "duration": 0.014843,
     "end_time": "2024-07-12T16:44:10.347797",
     "exception": false,
     "start_time": "2024-07-12T16:44:10.332954",
     "status": "completed"
    },
    "tags": []
   },
   "outputs": [
    {
     "name": "stdout",
     "output_type": "stream",
     "text": [
      "{'1finger': 0, 'thumbsdown': 1, '2finger': 2, '3finger': 3, 'yoyo': 4, 'spreadoutpalm': 5, 'pinky': 6, 'thumbsup': 7, 'fingersclosein': 8, 'kitli': 9, 'italydown': 10}\n"
     ]
    }
   ],
   "source": [
    "#creating indexed mapping for labels - dictionary\n",
    "label_mapping = {}\n",
    "for i in range(len(classes)):\n",
    "    label = classes[i]\n",
    "    label_mapping[label] = i\n",
    "print(label_mapping)"
   ]
  },
  {
   "cell_type": "code",
   "execution_count": 26,
   "id": "d3dd2b55",
   "metadata": {
    "execution": {
     "iopub.execute_input": "2024-07-12T16:44:10.363984Z",
     "iopub.status.busy": "2024-07-12T16:44:10.363731Z",
     "iopub.status.idle": "2024-07-12T16:44:10.369392Z",
     "shell.execute_reply": "2024-07-12T16:44:10.368555Z"
    },
    "papermill": {
     "duration": 0.015413,
     "end_time": "2024-07-12T16:44:10.370907",
     "exception": false,
     "start_time": "2024-07-12T16:44:10.355494",
     "status": "completed"
    },
    "tags": []
   },
   "outputs": [
    {
     "name": "stdout",
     "output_type": "stream",
     "text": [
      "[3 5 6 ... 4 4 6]\n"
     ]
    }
   ],
   "source": [
    "#converting Y_train to label maps\n",
    "Y_train_map = np.array([label_mapping[label] for label in Y_train[0]])\n",
    "print(Y_train_map)\n"
   ]
  },
  {
   "cell_type": "code",
   "execution_count": 27,
   "id": "1c80640e",
   "metadata": {
    "execution": {
     "iopub.execute_input": "2024-07-12T16:44:10.387418Z",
     "iopub.status.busy": "2024-07-12T16:44:10.387170Z",
     "iopub.status.idle": "2024-07-12T16:44:10.391888Z",
     "shell.execute_reply": "2024-07-12T16:44:10.391105Z"
    },
    "papermill": {
     "duration": 0.015114,
     "end_time": "2024-07-12T16:44:10.393700",
     "exception": false,
     "start_time": "2024-07-12T16:44:10.378586",
     "status": "completed"
    },
    "tags": []
   },
   "outputs": [
    {
     "name": "stdout",
     "output_type": "stream",
     "text": [
      "[ 6 10  7 ...  2  6  4]\n"
     ]
    }
   ],
   "source": [
    "Y_test_map = np.array([label_mapping[label] for label in Y_test[0]])\n",
    "print(Y_test_map)\n"
   ]
  },
  {
   "cell_type": "code",
   "execution_count": 28,
   "id": "82bd1beb",
   "metadata": {
    "execution": {
     "iopub.execute_input": "2024-07-12T16:44:10.410034Z",
     "iopub.status.busy": "2024-07-12T16:44:10.409812Z",
     "iopub.status.idle": "2024-07-12T16:44:10.413708Z",
     "shell.execute_reply": "2024-07-12T16:44:10.412952Z"
    },
    "papermill": {
     "duration": 0.014171,
     "end_time": "2024-07-12T16:44:10.415345",
     "exception": false,
     "start_time": "2024-07-12T16:44:10.401174",
     "status": "completed"
    },
    "tags": []
   },
   "outputs": [],
   "source": [
    "def predict(A2):\n",
    "    return np.argmax(A2, axis=0)\n",
    "\n",
    "def accuracy(predictions, Y):\n",
    "    return np.sum(predictions == Y) / Y.size"
   ]
  },
  {
   "cell_type": "code",
   "execution_count": 29,
   "id": "99134131",
   "metadata": {
    "execution": {
     "iopub.execute_input": "2024-07-12T16:44:10.432168Z",
     "iopub.status.busy": "2024-07-12T16:44:10.431844Z",
     "iopub.status.idle": "2024-07-12T16:44:10.437555Z",
     "shell.execute_reply": "2024-07-12T16:44:10.436882Z"
    },
    "papermill": {
     "duration": 0.016086,
     "end_time": "2024-07-12T16:44:10.439127",
     "exception": false,
     "start_time": "2024-07-12T16:44:10.423041",
     "status": "completed"
    },
    "tags": []
   },
   "outputs": [],
   "source": [
    "def gradient_descent(X, Y, learning_rate, iterations):\n",
    "    \n",
    "    W1, b1, W2, b2 = init_params(n_i, n_h, n_o)\n",
    "    \n",
    "    for i in range(iterations):\n",
    "        Z1, A1, Z2, A2 = forward_propagation(W1, b1, W2, b2, X)\n",
    "        dW1, db1, dW2, db2 = backward_propagation(Z1, A1, Z2, A2, W2, X, Y)\n",
    "        \n",
    "        W1 -= learning_rate * dW1\n",
    "        b1 -= learning_rate * db1\n",
    "        W2 -= learning_rate * dW2\n",
    "        b2 -= learning_rate * db2\n",
    "        \n",
    "        if i % 50 == 0 or i == iterations - 1:\n",
    "            predictions = predict(A2)\n",
    "            acc = accuracy(predictions, Y)\n",
    "            print(f\"Accuracy after iteration {i}: {acc * 100:.2f}%\")\n",
    "    \n",
    "    return W1, b1, W2, b2"
   ]
  },
  {
   "cell_type": "code",
   "execution_count": 30,
   "id": "bce7d698",
   "metadata": {
    "execution": {
     "iopub.execute_input": "2024-07-12T16:44:10.456067Z",
     "iopub.status.busy": "2024-07-12T16:44:10.455840Z",
     "iopub.status.idle": "2024-07-12T16:45:13.761943Z",
     "shell.execute_reply": "2024-07-12T16:45:13.760225Z"
    },
    "papermill": {
     "duration": 63.318851,
     "end_time": "2024-07-12T16:45:13.765982",
     "exception": false,
     "start_time": "2024-07-12T16:44:10.447131",
     "status": "completed"
    },
    "tags": []
   },
   "outputs": [
    {
     "name": "stdout",
     "output_type": "stream",
     "text": [
      "Accuracy after iteration 0: 4.71%\n"
     ]
    },
    {
     "name": "stdout",
     "output_type": "stream",
     "text": [
      "Accuracy after iteration 50: 79.95%\n"
     ]
    },
    {
     "name": "stdout",
     "output_type": "stream",
     "text": [
      "Accuracy after iteration 100: 95.56%\n"
     ]
    },
    {
     "name": "stdout",
     "output_type": "stream",
     "text": [
      "Accuracy after iteration 150: 97.79%\n"
     ]
    },
    {
     "name": "stdout",
     "output_type": "stream",
     "text": [
      "Accuracy after iteration 200: 98.74%\n"
     ]
    },
    {
     "name": "stdout",
     "output_type": "stream",
     "text": [
      "Accuracy after iteration 249: 99.27%\n"
     ]
    }
   ],
   "source": [
    "W1, b1, W2, b2 = gradient_descent(X_train, Y_train_map, 0.1, 250)\n"
   ]
  },
  {
   "cell_type": "code",
   "execution_count": 31,
   "id": "995e83fb",
   "metadata": {
    "execution": {
     "iopub.execute_input": "2024-07-12T16:45:13.826365Z",
     "iopub.status.busy": "2024-07-12T16:45:13.824894Z",
     "iopub.status.idle": "2024-07-12T16:45:13.876545Z",
     "shell.execute_reply": "2024-07-12T16:45:13.874786Z"
    },
    "papermill": {
     "duration": 0.086211,
     "end_time": "2024-07-12T16:45:13.880606",
     "exception": false,
     "start_time": "2024-07-12T16:45:13.794395",
     "status": "completed"
    },
    "tags": []
   },
   "outputs": [
    {
     "name": "stdout",
     "output_type": "stream",
     "text": [
      "test accuracy:  0.9892273402674592\n"
     ]
    }
   ],
   "source": [
    "Z1, A1, Z2, A2 = forward_propagation(W1, b1, W2, b2, X_test)\n",
    "predictions = predict(A2)\n",
    "print(\"test accuracy: \",accuracy(predictions,Y_test_map))"
   ]
  },
  {
   "cell_type": "code",
   "execution_count": 32,
   "id": "8d21f561",
   "metadata": {
    "execution": {
     "iopub.execute_input": "2024-07-12T16:45:13.947305Z",
     "iopub.status.busy": "2024-07-12T16:45:13.946651Z",
     "iopub.status.idle": "2024-07-12T16:45:13.956913Z",
     "shell.execute_reply": "2024-07-12T16:45:13.955345Z"
    },
    "papermill": {
     "duration": 0.048165,
     "end_time": "2024-07-12T16:45:13.960833",
     "exception": false,
     "start_time": "2024-07-12T16:45:13.912668",
     "status": "completed"
    },
    "tags": []
   },
   "outputs": [
    {
     "data": {
      "text/plain": [
       "(16384, 2692)"
      ]
     },
     "execution_count": 32,
     "metadata": {},
     "output_type": "execute_result"
    }
   ],
   "source": [
    "\n",
    "X_test.shape\n",
    "# Y_test.shape"
   ]
  },
  {
   "cell_type": "code",
   "execution_count": 33,
   "id": "a0083e2d",
   "metadata": {
    "execution": {
     "iopub.execute_input": "2024-07-12T16:45:14.011944Z",
     "iopub.status.busy": "2024-07-12T16:45:14.011668Z",
     "iopub.status.idle": "2024-07-12T16:45:14.015387Z",
     "shell.execute_reply": "2024-07-12T16:45:14.014739Z"
    },
    "papermill": {
     "duration": 0.024282,
     "end_time": "2024-07-12T16:45:14.017187",
     "exception": false,
     "start_time": "2024-07-12T16:45:13.992905",
     "status": "completed"
    },
    "tags": []
   },
   "outputs": [],
   "source": [
    "def get_key_from_value(val):\n",
    "    for key, value in label_mapping.items():\n",
    "        if val == value:\n",
    "            return key\n",
    "    return \"invalid val\""
   ]
  },
  {
   "cell_type": "code",
   "execution_count": 34,
   "id": "a0397551",
   "metadata": {
    "execution": {
     "iopub.execute_input": "2024-07-12T16:45:14.035246Z",
     "iopub.status.busy": "2024-07-12T16:45:14.034597Z",
     "iopub.status.idle": "2024-07-12T16:45:14.166341Z",
     "shell.execute_reply": "2024-07-12T16:45:14.164800Z"
    },
    "papermill": {
     "duration": 0.144443,
     "end_time": "2024-07-12T16:45:14.169915",
     "exception": false,
     "start_time": "2024-07-12T16:45:14.025472",
     "status": "completed"
    },
    "tags": []
   },
   "outputs": [
    {
     "name": "stdout",
     "output_type": "stream",
     "text": [
      "1032\n",
      "Correct Label:  3finger\n",
      "Predicted Label:  3finger\n"
     ]
    },
    {
     "data": {
      "image/png": "[encoded data removed]",
      "text/plain": [
       "<Figure size 640x480 with 1 Axes>"
      ]
     },
     "metadata": {},
     "output_type": "display_data"
    }
   ],
   "source": [
    "#any random image from the test set\n",
    "randomidx = random.randint(0,X_test.shape[1]-1)\n",
    "\n",
    "random_img = X_test[:,randomidx].reshape(IMAGE_SIZE,IMAGE_SIZE)\n",
    "correct_label = Y_test[0,randomidx]\n",
    "# print(X_test[:,randomidx].shape)\n",
    "X_img = X_test[:,randomidx].reshape(-1,1) ## this is basically keepdims = True\n",
    "Z1, A1, Z2, A2 = forward_propagation(W1, b1, W2, b2, X_img)\n",
    "prediction = predict(A2)\n",
    "# print(prediction)\n",
    "predicted_label = get_key_from_value(predict(A2))\n",
    "\n",
    "print(randomidx)\n",
    "print(\"Correct Label: \", correct_label)\n",
    "print(\"Predicted Label: \", predicted_label)\n",
    "plt.imshow(random_img, cmap=\"gray\")\n",
    "plt.axis('off')\n",
    "plt.show()\n"
   ]
  },
  {
   "cell_type": "code",
   "execution_count": null,
   "id": "33299304",
   "metadata": {
    "papermill": {
     "duration": 0.034496,
     "end_time": "2024-07-12T16:45:14.214949",
     "exception": false,
     "start_time": "2024-07-12T16:45:14.180453",
     "status": "completed"
    },
    "tags": []
   },
   "outputs": [],
   "source": []
  },
  {
   "cell_type": "code",
   "execution_count": null,
   "id": "5906d55d",
   "metadata": {
    "papermill": {
     "duration": 0.008489,
     "end_time": "2024-07-12T16:45:14.231886",
     "exception": false,
     "start_time": "2024-07-12T16:45:14.223397",
     "status": "completed"
    },
    "tags": []
   },
   "outputs": [],
   "source": []
  },
  {
   "cell_type": "code",
   "execution_count": null,
   "id": "6333021a",
   "metadata": {
    "papermill": {
     "duration": 0.008202,
     "end_time": "2024-07-12T16:45:14.248626",
     "exception": false,
     "start_time": "2024-07-12T16:45:14.240424",
     "status": "completed"
    },
    "tags": []
   },
   "outputs": [],
   "source": []
  }
 ],
 "metadata": {
  "kaggle": {
   "accelerator": "none",
   "dataSources": [
    {
     "datasetId": 3951023,
     "sourceId": 6875844,
     "sourceType": "datasetVersion"
    }
   ],
   "isGpuEnabled": false,
   "isInternetEnabled": false,
   "language": "python",
   "sourceType": "notebook"
  },
  "kernelspec": {
   "display_name": "Python 3",
   "language": "python",
   "name": "python3"
  },
  "language_info": {
   "codemirror_mode": {
    "name": "ipython",
    "version": 3
   },
   "file_extension": ".py",
   "mimetype": "text/x-python",
   "name": "python",
   "nbconvert_exporter": "python",
   "pygments_lexer": "ipython3",
   "version": "3.10.14"
  },
  "papermill": {
   "default_parameters": {},
   "duration": 123.055193,
   "end_time": "2024-07-12T16:45:14.775502",
   "environment_variables": {},
   "exception": null,
   "input_path": "__notebook__.ipynb",
   "output_path": "__notebook__.ipynb",
   "parameters": {},
   "start_time": "2024-07-12T16:43:11.720309",
   "version": "2.6.0"
  }
 },
 "nbformat": 4,
 "nbformat_minor": 5
}
