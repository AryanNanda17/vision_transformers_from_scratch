{
 "cells": [
  {
   "cell_type": "markdown",
   "id": "ed9705cf",
   "metadata": {},
   "source": [
    "**Importing Necessary Libraries**"
   ]
  },
  {
   "cell_type": "code",
   "execution_count": 1,
   "id": "55c7fe58",
   "metadata": {
    "_cell_guid": "b1076dfc-b9ad-4769-8c92-a6c4dae69d19",
    "_uuid": "8f2839f25d086af736a60e9eeb907d3b93b6e0e5",
    "execution": {
     "iopub.execute_input": "2024-07-13T14:29:59.528613Z",
     "iopub.status.busy": "2024-07-13T14:29:59.528090Z",
     "iopub.status.idle": "2024-07-13T14:30:00.828039Z",
     "shell.execute_reply": "2024-07-13T14:30:00.826225Z"
    },
    "papermill": {
     "duration": 1.309748,
     "end_time": "2024-07-13T14:30:00.831073",
     "exception": false,
     "start_time": "2024-07-13T14:29:59.521325",
     "status": "completed"
    },
    "tags": []
   },
   "outputs": [],
   "source": [
    "import numpy as np \n",
    "import pandas as pd #\n",
    "from matplotlib import pyplot as plt"
   ]
  },
  {
   "cell_type": "markdown",
   "id": "67b1372c",
   "metadata": {},
   "source": [
    "**Reading the data**"
   ]
  },
  {
   "cell_type": "code",
   "execution_count": 2,
   "id": "5bd89479",
   "metadata": {
    "execution": {
     "iopub.execute_input": "2024-07-13T14:30:00.842786Z",
     "iopub.status.busy": "2024-07-13T14:30:00.842212Z",
     "iopub.status.idle": "2024-07-13T14:30:05.342083Z",
     "shell.execute_reply": "2024-07-13T14:30:05.340546Z"
    },
    "papermill": {
     "duration": 4.509419,
     "end_time": "2024-07-13T14:30:05.345423",
     "exception": false,
     "start_time": "2024-07-13T14:30:00.836004",
     "status": "completed"
    },
    "tags": []
   },
   "outputs": [],
   "source": [
    "data=pd.read_csv('/kaggle/input/dataset-digits/train.csv')"
   ]
  },
  {
   "cell_type": "code",
   "execution_count": 3,
   "id": "4d931563",
   "metadata": {
    "execution": {
     "iopub.execute_input": "2024-07-13T14:30:05.361768Z",
     "iopub.status.busy": "2024-07-13T14:30:05.358804Z",
     "iopub.status.idle": "2024-07-13T14:30:05.400838Z",
     "shell.execute_reply": "2024-07-13T14:30:05.399237Z"
    },
    "papermill": {
     "duration": 0.053978,
     "end_time": "2024-07-13T14:30:05.404020",
     "exception": false,
     "start_time": "2024-07-13T14:30:05.350042",
     "status": "completed"
    },
    "tags": []
   },
   "outputs": [
    {
     "data": {
      "text/html": [
       "<div>\n",
       "<style scoped>\n",
       "    .dataframe tbody tr th:only-of-type {\n",
       "        vertical-align: middle;\n",
       "    }\n",
       "\n",
       "    .dataframe tbody tr th {\n",
       "        vertical-align: top;\n",
       "    }\n",
       "\n",
       "    .dataframe thead th {\n",
       "        text-align: right;\n",
       "    }\n",
       "</style>\n",
       "<table border=\"1\" class=\"dataframe\">\n",
       "  <thead>\n",
       "    <tr style=\"text-align: right;\">\n",
       "      <th></th>\n",
       "      <th>label</th>\n",
       "      <th>pixel0</th>\n",
       "      <th>pixel1</th>\n",
       "      <th>pixel2</th>\n",
       "      <th>pixel3</th>\n",
       "      <th>pixel4</th>\n",
       "      <th>pixel5</th>\n",
       "      <th>pixel6</th>\n",
       "      <th>pixel7</th>\n",
       "      <th>pixel8</th>\n",
       "      <th>...</th>\n",
       "      <th>pixel774</th>\n",
       "      <th>pixel775</th>\n",
       "      <th>pixel776</th>\n",
       "      <th>pixel777</th>\n",
       "      <th>pixel778</th>\n",
       "      <th>pixel779</th>\n",
       "      <th>pixel780</th>\n",
       "      <th>pixel781</th>\n",
       "      <th>pixel782</th>\n",
       "      <th>pixel783</th>\n",
       "    </tr>\n",
       "  </thead>\n",
       "  <tbody>\n",
       "    <tr>\n",
       "      <th>0</th>\n",
       "      <td>1</td>\n",
       "      <td>0</td>\n",
       "      <td>0</td>\n",
       "      <td>0</td>\n",
       "      <td>0</td>\n",
       "      <td>0</td>\n",
       "      <td>0</td>\n",
       "      <td>0</td>\n",
       "      <td>0</td>\n",
       "      <td>0</td>\n",
       "      <td>...</td>\n",
       "      <td>0</td>\n",
       "      <td>0</td>\n",
       "      <td>0</td>\n",
       "      <td>0</td>\n",
       "      <td>0</td>\n",
       "      <td>0</td>\n",
       "      <td>0</td>\n",
       "      <td>0</td>\n",
       "      <td>0</td>\n",
       "      <td>0</td>\n",
       "    </tr>\n",
       "    <tr>\n",
       "      <th>1</th>\n",
       "      <td>0</td>\n",
       "      <td>0</td>\n",
       "      <td>0</td>\n",
       "      <td>0</td>\n",
       "      <td>0</td>\n",
       "      <td>0</td>\n",
       "      <td>0</td>\n",
       "      <td>0</td>\n",
       "      <td>0</td>\n",
       "      <td>0</td>\n",
       "      <td>...</td>\n",
       "      <td>0</td>\n",
       "      <td>0</td>\n",
       "      <td>0</td>\n",
       "      <td>0</td>\n",
       "      <td>0</td>\n",
       "      <td>0</td>\n",
       "      <td>0</td>\n",
       "      <td>0</td>\n",
       "      <td>0</td>\n",
       "      <td>0</td>\n",
       "    </tr>\n",
       "    <tr>\n",
       "      <th>2</th>\n",
       "      <td>1</td>\n",
       "      <td>0</td>\n",
       "      <td>0</td>\n",
       "      <td>0</td>\n",
       "      <td>0</td>\n",
       "      <td>0</td>\n",
       "      <td>0</td>\n",
       "      <td>0</td>\n",
       "      <td>0</td>\n",
       "      <td>0</td>\n",
       "      <td>...</td>\n",
       "      <td>0</td>\n",
       "      <td>0</td>\n",
       "      <td>0</td>\n",
       "      <td>0</td>\n",
       "      <td>0</td>\n",
       "      <td>0</td>\n",
       "      <td>0</td>\n",
       "      <td>0</td>\n",
       "      <td>0</td>\n",
       "      <td>0</td>\n",
       "    </tr>\n",
       "    <tr>\n",
       "      <th>3</th>\n",
       "      <td>4</td>\n",
       "      <td>0</td>\n",
       "      <td>0</td>\n",
       "      <td>0</td>\n",
       "      <td>0</td>\n",
       "      <td>0</td>\n",
       "      <td>0</td>\n",
       "      <td>0</td>\n",
       "      <td>0</td>\n",
       "      <td>0</td>\n",
       "      <td>...</td>\n",
       "      <td>0</td>\n",
       "      <td>0</td>\n",
       "      <td>0</td>\n",
       "      <td>0</td>\n",
       "      <td>0</td>\n",
       "      <td>0</td>\n",
       "      <td>0</td>\n",
       "      <td>0</td>\n",
       "      <td>0</td>\n",
       "      <td>0</td>\n",
       "    </tr>\n",
       "    <tr>\n",
       "      <th>4</th>\n",
       "      <td>0</td>\n",
       "      <td>0</td>\n",
       "      <td>0</td>\n",
       "      <td>0</td>\n",
       "      <td>0</td>\n",
       "      <td>0</td>\n",
       "      <td>0</td>\n",
       "      <td>0</td>\n",
       "      <td>0</td>\n",
       "      <td>0</td>\n",
       "      <td>...</td>\n",
       "      <td>0</td>\n",
       "      <td>0</td>\n",
       "      <td>0</td>\n",
       "      <td>0</td>\n",
       "      <td>0</td>\n",
       "      <td>0</td>\n",
       "      <td>0</td>\n",
       "      <td>0</td>\n",
       "      <td>0</td>\n",
       "      <td>0</td>\n",
       "    </tr>\n",
       "  </tbody>\n",
       "</table>\n",
       "<p>5 rows × 785 columns</p>\n",
       "</div>"
      ],
      "text/plain": [
       "   label  pixel0  pixel1  pixel2  pixel3  pixel4  pixel5  pixel6  pixel7  \\\n",
       "0      1       0       0       0       0       0       0       0       0   \n",
       "1      0       0       0       0       0       0       0       0       0   \n",
       "2      1       0       0       0       0       0       0       0       0   \n",
       "3      4       0       0       0       0       0       0       0       0   \n",
       "4      0       0       0       0       0       0       0       0       0   \n",
       "\n",
       "   pixel8  ...  pixel774  pixel775  pixel776  pixel777  pixel778  pixel779  \\\n",
       "0       0  ...         0         0         0         0         0         0   \n",
       "1       0  ...         0         0         0         0         0         0   \n",
       "2       0  ...         0         0         0         0         0         0   \n",
       "3       0  ...         0         0         0         0         0         0   \n",
       "4       0  ...         0         0         0         0         0         0   \n",
       "\n",
       "   pixel780  pixel781  pixel782  pixel783  \n",
       "0         0         0         0         0  \n",
       "1         0         0         0         0  \n",
       "2         0         0         0         0  \n",
       "3         0         0         0         0  \n",
       "4         0         0         0         0  \n",
       "\n",
       "[5 rows x 785 columns]"
      ]
     },
     "execution_count": 3,
     "metadata": {},
     "output_type": "execute_result"
    }
   ],
   "source": [
    "data.head(5)"
   ]
  },
  {
   "cell_type": "markdown",
   "id": "65e03f96",
   "metadata": {},
   "source": [
    "**Shuffling and splitting the data into train and test sets**"
   ]
  },
  {
   "cell_type": "code",
   "execution_count": 4,
   "id": "018254b1",
   "metadata": {
    "execution": {
     "iopub.execute_input": "2024-07-13T14:30:05.415968Z",
     "iopub.status.busy": "2024-07-13T14:30:05.415558Z",
     "iopub.status.idle": "2024-07-13T14:30:06.360858Z",
     "shell.execute_reply": "2024-07-13T14:30:06.359564Z"
    },
    "papermill": {
     "duration": 0.95518,
     "end_time": "2024-07-13T14:30:06.364241",
     "exception": false,
     "start_time": "2024-07-13T14:30:05.409061",
     "status": "completed"
    },
    "tags": []
   },
   "outputs": [],
   "source": [
    "data=np.array(data)\n",
    "m, n=data.shape\n",
    "np.random.shuffle(data)\n",
    "\n",
    "data_dev=data[0:1000].T\n",
    "Y_dev=data_dev[0]\n",
    "X_dev=data_dev[1:n]\n",
    "X_dev = X_dev / 255.\n",
    "\n",
    "data_train=data[1000:m].T\n",
    "Y_train=data_train[0]\n",
    "X_train=data_train[1:n]\n",
    "X_train = X_train / 255."
   ]
  },
  {
   "cell_type": "markdown",
   "id": "3d48cde9",
   "metadata": {},
   "source": [
    "**Defining custom unctions for operation of the neural network**"
   ]
  },
  {
   "cell_type": "code",
   "execution_count": 5,
   "id": "b3988045",
   "metadata": {
    "execution": {
     "iopub.execute_input": "2024-07-13T14:30:06.375762Z",
     "iopub.status.busy": "2024-07-13T14:30:06.375351Z",
     "iopub.status.idle": "2024-07-13T14:30:06.391852Z",
     "shell.execute_reply": "2024-07-13T14:30:06.390281Z"
    },
    "papermill": {
     "duration": 0.025629,
     "end_time": "2024-07-13T14:30:06.394801",
     "exception": false,
     "start_time": "2024-07-13T14:30:06.369172",
     "status": "completed"
    },
    "tags": []
   },
   "outputs": [],
   "source": [
    "def init_params():\n",
    "    W1=np.random.randn(10, 784)*0.1\n",
    "    b1=np.random.randn(10, 1)\n",
    "    W2=np.random.randn(10, 10)*0.1\n",
    "    b2=np.random.randn(10, 1)\n",
    "    return W1, b1, W2, b2\n",
    "\n",
    "def ReLU(Z):\n",
    "    return np.maximum(0, Z)\n",
    " \n",
    "def softmax(Z):\n",
    "    return np.exp(Z)/sum(np.exp(Z))  \n",
    "\n",
    "def fwd_prop(W1, b1, W2, b2, X):\n",
    "    Z1=W1.dot(X)+b1\n",
    "    A1=ReLU(Z1)\n",
    "    Z2=W2.dot(A1)+b2\n",
    "    A2=softmax(Z2)\n",
    "    return Z1, A1, Z2, A2\n",
    "    \n",
    "def one_hot(Y):\n",
    "    one_hot_Y=np.zeros((Y.size, Y.max()+1))\n",
    "    one_hot_Y[np.arange(Y.size), Y]=1\n",
    "    one_hot_Y=one_hot_Y.T\n",
    "    return one_hot_Y\n",
    "\n",
    "def relu_deriv(Z):\n",
    "    return Z>0\n",
    "    \n",
    "def back_prop(Z1, A1, Z2, A2, W2, X, Y):\n",
    "    m=Y.size\n",
    "    one_hot_Y=one_hot(Y)\n",
    "    dZ2=A2-one_hot_Y\n",
    "    dW2=(1/m)*dZ2.dot(A1.T)\n",
    "    db2=(1/m)*np.sum(dZ2)\n",
    "    dZ1=W2.T.dot(dZ2)*relu_deriv(Z1)\n",
    "    dW1=(1/m)*dZ1.dot(X.T)\n",
    "    db1=(1/m)*np.sum(dZ1)\n",
    "    return dW1, db1, dW2, db2\n",
    "\n",
    "def update_params(W1, b1, W2, b2, dW1, db1, dW2, db2, alpha):\n",
    "    W1-=alpha*dW1\n",
    "    b1-=alpha*db1\n",
    "    W2-=alpha*dW2\n",
    "    b2-=alpha*db2\n",
    "    return W1, b1, W2, b2\n",
    "    \n",
    "    "
   ]
  },
  {
   "cell_type": "code",
   "execution_count": 6,
   "id": "787b15fb",
   "metadata": {
    "execution": {
     "iopub.execute_input": "2024-07-13T14:30:06.406857Z",
     "iopub.status.busy": "2024-07-13T14:30:06.406451Z",
     "iopub.status.idle": "2024-07-13T14:30:06.417430Z",
     "shell.execute_reply": "2024-07-13T14:30:06.416211Z"
    },
    "papermill": {
     "duration": 0.020425,
     "end_time": "2024-07-13T14:30:06.420469",
     "exception": false,
     "start_time": "2024-07-13T14:30:06.400044",
     "status": "completed"
    },
    "tags": []
   },
   "outputs": [],
   "source": [
    "def get_predictions(A2):\n",
    "    return np.argmax(A2, 0)\n",
    "\n",
    "def get_accuracy(predictions, Y):\n",
    "    print(predictions, Y)\n",
    "    return np.sum(predictions==Y)/Y.size\n",
    "\n",
    "def gradient_descent(X, Y, iterations, alpha):\n",
    "    W1, b1, W2, b2=init_params()\n",
    "    for i in range(iterations):\n",
    "        Z1, A1, Z2, A2=fwd_prop(W1, b1, W2, b2, X)\n",
    "        dW1, db1, dW2, db2=back_prop(Z1, A1, Z2, A2, W2, X, Y)\n",
    "        W1, b1, W2, b2=update_params(W1, b1, W2, b2, dW1, db1, dW2, db2, alpha)\n",
    "        if i%500==0:\n",
    "            print(\"Iteration: \", i)\n",
    "            print(\"Accuracy: \", get_accuracy(get_predictions(A2), Y))\n",
    "    print(\"Final Accuracy: \", get_accuracy(get_predictions(A2), Y))\n",
    "    return W1, b1, W2, b2"
   ]
  },
  {
   "cell_type": "markdown",
   "id": "da59ef51",
   "metadata": {},
   "source": [
    "**Training the neural network**"
   ]
  },
  {
   "cell_type": "code",
   "execution_count": 7,
   "id": "573c4ce0",
   "metadata": {
    "execution": {
     "iopub.execute_input": "2024-07-13T14:30:06.433121Z",
     "iopub.status.busy": "2024-07-13T14:30:06.432705Z",
     "iopub.status.idle": "2024-07-13T14:34:18.792365Z",
     "shell.execute_reply": "2024-07-13T14:34:18.791081Z"
    },
    "papermill": {
     "duration": 252.381557,
     "end_time": "2024-07-13T14:34:18.807018",
     "exception": false,
     "start_time": "2024-07-13T14:30:06.425461",
     "status": "completed"
    },
    "tags": []
   },
   "outputs": [
    {
     "name": "stdout",
     "output_type": "stream",
     "text": [
      "Iteration:  0\n",
      "[6 6 6 ... 6 6 6] [8 7 9 ... 5 3 4]\n",
      "Accuracy:  0.09836585365853659\n",
      "Iteration:  500\n",
      "[8 7 9 ... 5 3 4] [8 7 9 ... 5 3 4]\n",
      "Accuracy:  0.9156829268292683\n",
      "Iteration:  1000\n",
      "[8 7 9 ... 5 3 4] [8 7 9 ... 5 3 4]\n",
      "Accuracy:  0.9299024390243903\n",
      "Iteration:  1500\n",
      "[8 7 9 ... 5 3 4] [8 7 9 ... 5 3 4]\n",
      "Accuracy:  0.936\n",
      "[8 7 9 ... 5 3 4] [8 7 9 ... 5 3 4]\n",
      "Final Accuracy:  0.939560975609756\n"
     ]
    }
   ],
   "source": [
    "W1, b1, W2, b2=gradient_descent(X_train, Y_train, 2000, 0.28)"
   ]
  },
  {
   "cell_type": "markdown",
   "id": "546745b2",
   "metadata": {},
   "source": [
    "**Checking prediction for a random image**"
   ]
  },
  {
   "cell_type": "code",
   "execution_count": 8,
   "id": "d7c1c3b8",
   "metadata": {
    "execution": {
     "iopub.execute_input": "2024-07-13T14:34:18.833040Z",
     "iopub.status.busy": "2024-07-13T14:34:18.832374Z",
     "iopub.status.idle": "2024-07-13T14:34:18.851490Z",
     "shell.execute_reply": "2024-07-13T14:34:18.849369Z"
    },
    "papermill": {
     "duration": 0.03827,
     "end_time": "2024-07-13T14:34:18.856934",
     "exception": false,
     "start_time": "2024-07-13T14:34:18.818664",
     "status": "completed"
    },
    "tags": []
   },
   "outputs": [],
   "source": [
    "def make_predictions(X, W1, b1, W2, b2):\n",
    "    _, _, _, A2 = fwd_prop(W1, b1, W2, b2, X)\n",
    "    predictions = get_predictions(A2)\n",
    "    return predictions\n",
    "\n",
    "def test_prediction(index, W1, b1, W2, b2):\n",
    "    current_image = X_train[:, index, None]\n",
    "    prediction = make_predictions(X_train[:, index, None], W1, b1, W2, b2)\n",
    "    label = Y_train[index]\n",
    "    print(\"Prediction: \", prediction)\n",
    "    print(\"Label: \", label)\n",
    "    \n",
    "    current_image = current_image.reshape((28, 28)) * 255\n",
    "    plt.gray()\n",
    "    plt.imshow(current_image, interpolation='nearest')\n",
    "    plt.show()"
   ]
  },
  {
   "cell_type": "code",
   "execution_count": 9,
   "id": "a5b0c102",
   "metadata": {
    "execution": {
     "iopub.execute_input": "2024-07-13T14:34:18.883745Z",
     "iopub.status.busy": "2024-07-13T14:34:18.883006Z",
     "iopub.status.idle": "2024-07-13T14:34:19.184789Z",
     "shell.execute_reply": "2024-07-13T14:34:19.183447Z"
    },
    "papermill": {
     "duration": 0.318755,
     "end_time": "2024-07-13T14:34:19.187881",
     "exception": false,
     "start_time": "2024-07-13T14:34:18.869126",
     "status": "completed"
    },
    "tags": []
   },
   "outputs": [
    {
     "name": "stdout",
     "output_type": "stream",
     "text": [
      "Prediction:  [7]\n",
      "Label:  7\n"
     ]
    },
    {
     "data": {
      "image/png": "[encoded data removed]",
      "text/plain": [
       "<Figure size 640x480 with 1 Axes>"
      ]
     },
     "metadata": {},
     "output_type": "display_data"
    }
   ],
   "source": [
    "test_prediction(7598, W1, b1, W2, b2)"
   ]
  }
 ],
 "metadata": {
  "kaggle": {
   "accelerator": "none",
   "dataSources": [
    {
     "datasetId": 5381907,
     "sourceId": 8944003,
     "sourceType": "datasetVersion"
    }
   ],
   "dockerImageVersionId": 30746,
   "isGpuEnabled": false,
   "isInternetEnabled": false,
   "language": "python",
   "sourceType": "notebook"
  },
  "kernelspec": {
   "display_name": "Python 3",
   "language": "python",
   "name": "python3"
  },
  "language_info": {
   "codemirror_mode": {
    "name": "ipython",
    "version": 3
   },
   "file_extension": ".py",
   "mimetype": "text/x-python",
   "name": "python",
   "nbconvert_exporter": "python",
   "pygments_lexer": "ipython3",
   "version": "3.10.13"
  },
  "papermill": {
   "default_parameters": {},
   "duration": 263.558962,
   "end_time": "2024-07-13T14:34:19.727843",
   "environment_variables": {},
   "exception": null,
   "input_path": "__notebook__.ipynb",
   "output_path": "__notebook__.ipynb",
   "parameters": {},
   "start_time": "2024-07-13T14:29:56.168881",
   "version": "2.5.0"
  }
 },
 "nbformat": 4,
 "nbformat_minor": 5
}
