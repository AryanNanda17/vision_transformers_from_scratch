{
 "cells": [
  {
   "cell_type": "code",
   "execution_count": 1,
   "id": "6b3106b7",
   "metadata": {
    "_cell_guid": "b1076dfc-b9ad-4769-8c92-a6c4dae69d19",
    "_uuid": "8f2839f25d086af736a60e9eeb907d3b93b6e0e5",
    "execution": {
     "iopub.execute_input": "2024-07-14T13:06:37.007458Z",
     "iopub.status.busy": "2024-07-14T13:06:37.007178Z",
     "iopub.status.idle": "2024-07-14T13:06:38.658805Z",
     "shell.execute_reply": "2024-07-14T13:06:38.658007Z"
    },
    "papermill": {
     "duration": 1.662872,
     "end_time": "2024-07-14T13:06:38.661253",
     "exception": false,
     "start_time": "2024-07-14T13:06:36.998381",
     "status": "completed"
    },
    "tags": []
   },
   "outputs": [],
   "source": [
    "import numpy as np\n",
    "import os\n",
    "import cv2\n",
    "import matplotlib.pyplot as plt\n",
    "from sklearn.model_selection import train_test_split"
   ]
  },
  {
   "cell_type": "code",
   "execution_count": 2,
   "id": "3b8df690",
   "metadata": {
    "execution": {
     "iopub.execute_input": "2024-07-14T13:06:38.676331Z",
     "iopub.status.busy": "2024-07-14T13:06:38.676025Z",
     "iopub.status.idle": "2024-07-14T13:06:38.680102Z",
     "shell.execute_reply": "2024-07-14T13:06:38.679208Z"
    },
    "papermill": {
     "duration": 0.013672,
     "end_time": "2024-07-14T13:06:38.681933",
     "exception": false,
     "start_time": "2024-07-14T13:06:38.668261",
     "status": "completed"
    },
    "tags": []
   },
   "outputs": [],
   "source": [
    "path = \"/kaggle/input/masked-gesture-dataset/Masked Gesture Dataset/Masked Gesture Dataset\""
   ]
  },
  {
   "cell_type": "code",
   "execution_count": 3,
   "id": "5af7841b",
   "metadata": {
    "execution": {
     "iopub.execute_input": "2024-07-14T13:06:38.695700Z",
     "iopub.status.busy": "2024-07-14T13:06:38.695431Z",
     "iopub.status.idle": "2024-07-14T13:06:38.699053Z",
     "shell.execute_reply": "2024-07-14T13:06:38.698203Z"
    },
    "papermill": {
     "duration": 0.012684,
     "end_time": "2024-07-14T13:06:38.700975",
     "exception": false,
     "start_time": "2024-07-14T13:06:38.688291",
     "status": "completed"
    },
    "tags": []
   },
   "outputs": [],
   "source": [
    "IMAGE_SIZE = 128"
   ]
  },
  {
   "cell_type": "code",
   "execution_count": 4,
   "id": "abe3ef6d",
   "metadata": {
    "execution": {
     "iopub.execute_input": "2024-07-14T13:06:38.715501Z",
     "iopub.status.busy": "2024-07-14T13:06:38.715244Z",
     "iopub.status.idle": "2024-07-14T13:06:38.719822Z",
     "shell.execute_reply": "2024-07-14T13:06:38.718860Z"
    },
    "papermill": {
     "duration": 0.013977,
     "end_time": "2024-07-14T13:06:38.721884",
     "exception": false,
     "start_time": "2024-07-14T13:06:38.707907",
     "status": "completed"
    },
    "tags": []
   },
   "outputs": [],
   "source": [
    "#convert to grayscale, resize and then normalized between [0, 1]\n",
    "def image_to_pixel(image_path):\n",
    "    image = cv2.imread(image_path, cv2.IMREAD_GRAYSCALE)\n",
    "    image = cv2.resize(image, (IMAGE_SIZE, IMAGE_SIZE))\n",
    "    image = image / 255.0  \n",
    "    return image"
   ]
  },
  {
   "cell_type": "code",
   "execution_count": 5,
   "id": "1bb52efd",
   "metadata": {
    "execution": {
     "iopub.execute_input": "2024-07-14T13:06:38.736765Z",
     "iopub.status.busy": "2024-07-14T13:06:38.736489Z",
     "iopub.status.idle": "2024-07-14T13:06:38.763972Z",
     "shell.execute_reply": "2024-07-14T13:06:38.762871Z"
    },
    "papermill": {
     "duration": 0.037483,
     "end_time": "2024-07-14T13:06:38.766177",
     "exception": false,
     "start_time": "2024-07-14T13:06:38.728694",
     "status": "completed"
    },
    "tags": []
   },
   "outputs": [
    {
     "name": "stdout",
     "output_type": "stream",
     "text": [
      "['1finger', 'thumbsdown', '2finger', '3finger', 'yoyo', 'spreadoutpalm', 'pinky', 'thumbsup', 'fingersclosein', 'kitli', 'italydown']\n",
      "{'1finger': 0, 'thumbsdown': 1, '2finger': 2, '3finger': 3, 'yoyo': 4, 'spreadoutpalm': 5, 'pinky': 6, 'thumbsup': 7, 'fingersclosein': 8, 'kitli': 9, 'italydown': 10}\n",
      "{0: '1finger', 1: 'thumbsdown', 2: '2finger', 3: '3finger', 4: 'yoyo', 5: 'spreadoutpalm', 6: 'pinky', 7: 'thumbsup', 8: 'fingersclosein', 9: 'kitli', 10: 'italydown'}\n"
     ]
    }
   ],
   "source": [
    "# i have made 2 dicts. one has gesture as key and other has index as key\n",
    "classes = os.listdir(path) #listing all the labels i.e folder names\n",
    "gesture_index_dict = {label : index for index, label in enumerate(classes)}\n",
    "index_gesture_dict = {index : label for index, label in enumerate(classes)}\n",
    "print(classes)\n",
    "print(gesture_index_dict)\n",
    "print(index_gesture_dict)"
   ]
  },
  {
   "cell_type": "code",
   "execution_count": 6,
   "id": "2293ae75",
   "metadata": {
    "execution": {
     "iopub.execute_input": "2024-07-14T13:06:38.782447Z",
     "iopub.status.busy": "2024-07-14T13:06:38.782163Z",
     "iopub.status.idle": "2024-07-14T13:08:11.475876Z",
     "shell.execute_reply": "2024-07-14T13:08:11.475076Z"
    },
    "papermill": {
     "duration": 92.704437,
     "end_time": "2024-07-14T13:08:11.478341",
     "exception": false,
     "start_time": "2024-07-14T13:06:38.773904",
     "status": "completed"
    },
    "tags": []
   },
   "outputs": [],
   "source": [
    "# load the images and labels(indexs)\n",
    "images = []\n",
    "labels = []\n",
    "\n",
    "for label in classes:\n",
    "    label_path = os.path.join(path, label)\n",
    "    for image_name in os.listdir(label_path):\n",
    "        image_path = os.path.join(label_path, image_name)\n",
    "        images.append(image_to_pixel(image_path))\n",
    "        labels.append(gesture_index_dict[label])\n",
    "        \n",
    "images = np.array(images)\n",
    "labels = np.array(labels)\n"
   ]
  },
  {
   "cell_type": "code",
   "execution_count": 7,
   "id": "b53ab465",
   "metadata": {
    "execution": {
     "iopub.execute_input": "2024-07-14T13:08:11.493541Z",
     "iopub.status.busy": "2024-07-14T13:08:11.493236Z",
     "iopub.status.idle": "2024-07-14T13:08:11.497964Z",
     "shell.execute_reply": "2024-07-14T13:08:11.497052Z"
    },
    "papermill": {
     "duration": 0.014633,
     "end_time": "2024-07-14T13:08:11.500065",
     "exception": false,
     "start_time": "2024-07-14T13:08:11.485432",
     "status": "completed"
    },
    "tags": []
   },
   "outputs": [
    {
     "name": "stdout",
     "output_type": "stream",
     "text": [
      "(13462, 128, 128)\n",
      "(13462,)\n"
     ]
    }
   ],
   "source": [
    "# verifying shapes\n",
    "print(images.shape)\n",
    "print(labels.shape)\n"
   ]
  },
  {
   "cell_type": "code",
   "execution_count": 8,
   "id": "7bc569ac",
   "metadata": {
    "execution": {
     "iopub.execute_input": "2024-07-14T13:08:11.514451Z",
     "iopub.status.busy": "2024-07-14T13:08:11.514193Z",
     "iopub.status.idle": "2024-07-14T13:08:12.002077Z",
     "shell.execute_reply": "2024-07-14T13:08:12.001019Z"
    },
    "papermill": {
     "duration": 0.497607,
     "end_time": "2024-07-14T13:08:12.004192",
     "exception": false,
     "start_time": "2024-07-14T13:08:11.506585",
     "status": "completed"
    },
    "tags": []
   },
   "outputs": [
    {
     "name": "stdout",
     "output_type": "stream",
     "text": [
      "(10769, 128, 128)\n",
      "(10769,)\n"
     ]
    }
   ],
   "source": [
    "# split into train and test sets\n",
    "X_train_orig, X_test_orig, Y_train_orig, Y_test_orig = train_test_split(images, labels, test_size=0.2, random_state=42)\n",
    "print(X_train_orig.shape)\n",
    "print(Y_train_orig.shape)"
   ]
  },
  {
   "cell_type": "code",
   "execution_count": 9,
   "id": "d27fe629",
   "metadata": {
    "execution": {
     "iopub.execute_input": "2024-07-14T13:08:12.019880Z",
     "iopub.status.busy": "2024-07-14T13:08:12.019559Z",
     "iopub.status.idle": "2024-07-14T13:08:12.026022Z",
     "shell.execute_reply": "2024-07-14T13:08:12.024993Z"
    },
    "papermill": {
     "duration": 0.015761,
     "end_time": "2024-07-14T13:08:12.027902",
     "exception": false,
     "start_time": "2024-07-14T13:08:12.012141",
     "status": "completed"
    },
    "tags": []
   },
   "outputs": [
    {
     "name": "stdout",
     "output_type": "stream",
     "text": [
      "(16384, 10769)\n",
      "(1, 10769)\n",
      "(16384, 2693)\n",
      "(1, 2693)\n"
     ]
    }
   ],
   "source": [
    "X_train = X_train_orig.reshape(X_train_orig.shape[0], -1).T   \n",
    "X_test = X_test_orig.reshape(X_test_orig.shape[0], -1).T\n",
    "Y_train = Y_train_orig.reshape(1, Y_train_orig.shape[0])\n",
    "Y_test = Y_test_orig.reshape(1, Y_test_orig.shape[0])\n",
    "\n",
    "print(X_train.shape)\n",
    "print(Y_train.shape)\n",
    "print(X_test.shape)\n",
    "print(Y_test.shape)"
   ]
  },
  {
   "cell_type": "markdown",
   "id": "91e7e903",
   "metadata": {
    "papermill": {
     "duration": 0.006634,
     "end_time": "2024-07-14T13:08:12.041118",
     "exception": false,
     "start_time": "2024-07-14T13:08:12.034484",
     "status": "completed"
    },
    "tags": []
   },
   "source": [
    "### plotting some images"
   ]
  },
  {
   "cell_type": "code",
   "execution_count": 10,
   "id": "194ddfad",
   "metadata": {
    "execution": {
     "iopub.execute_input": "2024-07-14T13:08:12.055315Z",
     "iopub.status.busy": "2024-07-14T13:08:12.055055Z",
     "iopub.status.idle": "2024-07-14T13:08:12.775087Z",
     "shell.execute_reply": "2024-07-14T13:08:12.774171Z"
    },
    "papermill": {
     "duration": 0.729625,
     "end_time": "2024-07-14T13:08:12.777216",
     "exception": false,
     "start_time": "2024-07-14T13:08:12.047591",
     "status": "completed"
    },
    "tags": []
   },
   "outputs": [
    {
     "data": {
      "image/png": "[encoded data removed]",
      "text/plain": [
       "<Figure size 640x480 with 12 Axes>"
      ]
     },
     "metadata": {},
     "output_type": "display_data"
    }
   ],
   "source": [
    "for i in range(0, 12):\n",
    "    ax = plt.subplot(3, 4, i + 1)\n",
    "    current_image = X_train[:, i, None].reshape(IMAGE_SIZE, IMAGE_SIZE)\n",
    "    plt.imshow(current_image, interpolation='nearest')\n",
    "    label = Y_train[:, i].item()\n",
    "    plt.title(index_gesture_dict.get(label))\n",
    "    plt.axis(\"off\")\n",
    "plt.show()"
   ]
  },
  {
   "cell_type": "code",
   "execution_count": 11,
   "id": "c1ea4647",
   "metadata": {
    "execution": {
     "iopub.execute_input": "2024-07-14T13:08:12.793687Z",
     "iopub.status.busy": "2024-07-14T13:08:12.793393Z",
     "iopub.status.idle": "2024-07-14T13:08:12.798774Z",
     "shell.execute_reply": "2024-07-14T13:08:12.797808Z"
    },
    "papermill": {
     "duration": 0.015795,
     "end_time": "2024-07-14T13:08:12.800836",
     "exception": false,
     "start_time": "2024-07-14T13:08:12.785041",
     "status": "completed"
    },
    "tags": []
   },
   "outputs": [
    {
     "name": "stdout",
     "output_type": "stream",
     "text": [
      "16384\n"
     ]
    }
   ],
   "source": [
    "n_x = X_train.shape[0]  #128 * 128 = 16384 => number of units in input layer\n",
    "n_h = 200   #number of units in hidden layer\n",
    "n_y = 11    #number of units in output layer\n",
    "print(n_x)"
   ]
  },
  {
   "cell_type": "markdown",
   "id": "ffd606dc",
   "metadata": {
    "papermill": {
     "duration": 0.007299,
     "end_time": "2024-07-14T13:08:12.815759",
     "exception": false,
     "start_time": "2024-07-14T13:08:12.808460",
     "status": "completed"
    },
    "tags": []
   },
   "source": [
    "### activation functions and its derivative"
   ]
  },
  {
   "cell_type": "code",
   "execution_count": 12,
   "id": "aa0530bc",
   "metadata": {
    "execution": {
     "iopub.execute_input": "2024-07-14T13:08:12.832163Z",
     "iopub.status.busy": "2024-07-14T13:08:12.831622Z",
     "iopub.status.idle": "2024-07-14T13:08:12.838452Z",
     "shell.execute_reply": "2024-07-14T13:08:12.837674Z"
    },
    "papermill": {
     "duration": 0.017007,
     "end_time": "2024-07-14T13:08:12.840324",
     "exception": false,
     "start_time": "2024-07-14T13:08:12.823317",
     "status": "completed"
    },
    "tags": []
   },
   "outputs": [],
   "source": [
    "def ReLU(Z):\n",
    "    return np.maximum(Z, 0)\n",
    "\n",
    "def softmax(Z):\n",
    "    A = np.exp(Z) / sum(np.exp(Z))\n",
    "    return A\n",
    "\n",
    "def ReLU_deriv(Z):\n",
    "    return Z > 0\n",
    "\n",
    "def compute_cost(A2, Y):\n",
    "    m = Y.size\n",
    "    cost = -1/m * np.sum(Y*np.log(A2))\n",
    "    return cost\n",
    "\n",
    "def one_hot(Y):\n",
    "    one_hot_Y = np.zeros((Y.size, Y.max() + 1))\n",
    "    one_hot_Y[np.arange(Y.size), Y] = 1\n",
    "    one_hot_Y = one_hot_Y.T\n",
    "    return one_hot_Y"
   ]
  },
  {
   "cell_type": "code",
   "execution_count": 13,
   "id": "4845eb61",
   "metadata": {
    "execution": {
     "iopub.execute_input": "2024-07-14T13:08:12.856203Z",
     "iopub.status.busy": "2024-07-14T13:08:12.855962Z",
     "iopub.status.idle": "2024-07-14T13:08:12.866409Z",
     "shell.execute_reply": "2024-07-14T13:08:12.865509Z"
    },
    "papermill": {
     "duration": 0.020826,
     "end_time": "2024-07-14T13:08:12.868529",
     "exception": false,
     "start_time": "2024-07-14T13:08:12.847703",
     "status": "completed"
    },
    "tags": []
   },
   "outputs": [],
   "source": [
    "# INITIALIZATION\n",
    "\n",
    "def initialize_parameters(n_x, n_h, n_y):\n",
    "    W1 = np.random.randn(n_h, n_x) * 0.01\n",
    "    b1 = np.zeros((n_h, 1))\n",
    "    W2 = np.random.randn(n_y, n_h) * 0.01\n",
    "    b2 = np.zeros((n_y, 1)) \n",
    "    return W1, b1, W2, b2\n",
    "\n",
    "def forward_prop(W1, b1, W2, b2, X):\n",
    "    Z1 =  W1.dot(X) + b1\n",
    "    A1 = ReLU(Z1)\n",
    "    Z2 = W2.dot(A1)  + b2\n",
    "    A2 = softmax(Z2)\n",
    "    return Z1, A1, Z2, A2\n",
    "\n",
    "def backward_prop(Z1, A1, Z2, A2, W1, W2, X, Y):\n",
    "    m = X.shape[1]\n",
    "    one_hot_Y = one_hot(Y)\n",
    "    dZ2 = A2 - one_hot_Y\n",
    "    dW2 = 1 / m * dZ2.dot(A1.T)\n",
    "    db2 = 1 / m * np.sum(dZ2)\n",
    "    dZ1 = W2.T.dot(dZ2) * ReLU_deriv(Z1)\n",
    "    dW1 = 1 / m * dZ1.dot(X.T)\n",
    "    db1 = 1 / m * np.sum(dZ1)\n",
    "    return dW1, db1, dW2, db2\n",
    "\n",
    "def update_parameters(W1, b1, W2, b2, dW1, db1, dW2, db2, alpha = 0.2):\n",
    "    W1 = W1 - alpha * dW1\n",
    "    b1 = b1 - alpha * db1\n",
    "    W2 = W2 - alpha * dW2\n",
    "    b2 = b2 - alpha * db2\n",
    "    return W1, b1, W2, b2"
   ]
  },
  {
   "cell_type": "code",
   "execution_count": 14,
   "id": "7f8cc05c",
   "metadata": {
    "execution": {
     "iopub.execute_input": "2024-07-14T13:08:12.884641Z",
     "iopub.status.busy": "2024-07-14T13:08:12.884377Z",
     "iopub.status.idle": "2024-07-14T13:08:12.888762Z",
     "shell.execute_reply": "2024-07-14T13:08:12.887926Z"
    },
    "papermill": {
     "duration": 0.014707,
     "end_time": "2024-07-14T13:08:12.890744",
     "exception": false,
     "start_time": "2024-07-14T13:08:12.876037",
     "status": "completed"
    },
    "tags": []
   },
   "outputs": [],
   "source": [
    "def get_predictions(A2):\n",
    "    return np.argmax(A2, 0)\n",
    "\n",
    "def get_accuracy(predictions, Y):\n",
    "    print(predictions, Y)\n",
    "    return np.sum(predictions == Y) / Y.size"
   ]
  },
  {
   "cell_type": "code",
   "execution_count": 15,
   "id": "fe28444f",
   "metadata": {
    "execution": {
     "iopub.execute_input": "2024-07-14T13:08:12.907245Z",
     "iopub.status.busy": "2024-07-14T13:08:12.906991Z",
     "iopub.status.idle": "2024-07-14T13:08:12.914081Z",
     "shell.execute_reply": "2024-07-14T13:08:12.913260Z"
    },
    "papermill": {
     "duration": 0.017238,
     "end_time": "2024-07-14T13:08:12.915923",
     "exception": false,
     "start_time": "2024-07-14T13:08:12.898685",
     "status": "completed"
    },
    "tags": []
   },
   "outputs": [],
   "source": [
    "def gradient_descent(X, Y, alpha, iterations):\n",
    "    W1, b1, W2, b2 = initialize_parameters(n_x, n_h, n_y)\n",
    "    for i in range(iterations):\n",
    "        Z1, A1, Z2, A2 = forward_prop(W1, b1, W2, b2, X)\n",
    "        cost = compute_cost(A2, one_hot(Y))\n",
    "        dW1, db1, dW2, db2 = backward_prop(Z1, A1, Z2, A2, W1, W2, X, Y)\n",
    "        W1, b1, W2, b2 = update_parameters(W1, b1, W2, b2, dW1, db1, dW2, db2, alpha)\n",
    "        if i % 50 == 0 or i == iterations - 1:\n",
    "            print(\"Iteration: \", i)\n",
    "            print(f\"cost after iteration  {i} : {np.squeeze(cost)}\")\n",
    "            predictions = get_predictions(A2)\n",
    "            accuracy = get_accuracy(predictions, Y)\n",
    "            print(f\"accuracy after iteration {i} : {accuracy * 100:.2f} % \"  )\n",
    "    return W1, b1, W2, b2"
   ]
  },
  {
   "cell_type": "markdown",
   "id": "2a46b437",
   "metadata": {
    "papermill": {
     "duration": 0.007405,
     "end_time": "2024-07-14T13:08:12.930900",
     "exception": false,
     "start_time": "2024-07-14T13:08:12.923495",
     "status": "completed"
    },
    "tags": []
   },
   "source": [
    "### Training the model"
   ]
  },
  {
   "cell_type": "code",
   "execution_count": 16,
   "id": "69e5422e",
   "metadata": {
    "execution": {
     "iopub.execute_input": "2024-07-14T13:08:12.947821Z",
     "iopub.status.busy": "2024-07-14T13:08:12.947098Z",
     "iopub.status.idle": "2024-07-14T13:15:38.239474Z",
     "shell.execute_reply": "2024-07-14T13:15:38.238082Z"
    },
    "papermill": {
     "duration": 445.321659,
     "end_time": "2024-07-14T13:15:38.260237",
     "exception": false,
     "start_time": "2024-07-14T13:08:12.938578",
     "status": "completed"
    },
    "tags": []
   },
   "outputs": [
    {
     "name": "stdout",
     "output_type": "stream",
     "text": [
      "Iteration:  0\n",
      "cost after iteration  0 : 0.21842032206276207\n",
      "[2 4 3 ... 2 2 2] [[ 8 10  0 ...  4  0  5]]\n",
      "accuracy after iteration 0 : 9.31 % \n",
      "Iteration:  50\n",
      "cost after iteration  50 : 0.049533585377895574\n",
      "[ 8 10  0 ...  2  0  5] [[ 8 10  0 ...  4  0  5]]\n",
      "accuracy after iteration 50 : 87.62 % \n",
      "Iteration:  100\n",
      "cost after iteration  100 : 0.02049359077204544\n",
      "[ 8 10  0 ...  4  0  5] [[ 8 10  0 ...  4  0  5]]\n",
      "accuracy after iteration 100 : 94.41 % \n",
      "Iteration:  150\n",
      "cost after iteration  150 : 0.009406626427499117\n",
      "[ 8 10  0 ...  4  0  5] [[ 8 10  0 ...  4  0  5]]\n",
      "accuracy after iteration 150 : 98.11 % \n",
      "Iteration:  200\n",
      "cost after iteration  200 : 0.006115378199355073\n",
      "[ 8 10  0 ...  4  0  5] [[ 8 10  0 ...  4  0  5]]\n",
      "accuracy after iteration 200 : 98.98 % \n",
      "Iteration:  249\n",
      "cost after iteration  249 : 0.004366858924213598\n",
      "[ 8 10  0 ...  4  0  5] [[ 8 10  0 ...  4  0  5]]\n",
      "accuracy after iteration 249 : 99.39 % \n"
     ]
    }
   ],
   "source": [
    "W1, b1, W2, b2 = gradient_descent(X_train, Y_train, 0.10, 250)"
   ]
  },
  {
   "cell_type": "code",
   "execution_count": 17,
   "id": "5e0c4c49",
   "metadata": {
    "execution": {
     "iopub.execute_input": "2024-07-14T13:15:38.296266Z",
     "iopub.status.busy": "2024-07-14T13:15:38.295624Z",
     "iopub.status.idle": "2024-07-14T13:15:38.312009Z",
     "shell.execute_reply": "2024-07-14T13:15:38.310797Z"
    },
    "papermill": {
     "duration": 0.038078,
     "end_time": "2024-07-14T13:15:38.315571",
     "exception": false,
     "start_time": "2024-07-14T13:15:38.277493",
     "status": "completed"
    },
    "tags": []
   },
   "outputs": [],
   "source": [
    "def make_predictions(X, W1, b1, W2, b2):\n",
    "    _, _, _, A2 = forward_prop(W1, b1, W2, b2, X)\n",
    "    predictions = get_predictions(A2)\n",
    "    return predictions\n",
    "\n",
    "def test_prediction(index, W1, b1, W2, b2):\n",
    "    current_image = X_train[:, index, None]\n",
    "    predicted_label = (make_predictions(X_train[:, index, None], W1, b1, W2, b2)).item()\n",
    "    correct_label = (Y_train[:,index]).item()\n",
    "    print(\"Prediction: \", index_gesture_dict.get(predicted_label))\n",
    "    print(\"correct Label: \", index_gesture_dict.get(correct_label))\n",
    "    \n",
    "    current_image = current_image.reshape((128, 128)) * 255\n",
    "    plt.gray()\n",
    "    plt.imshow(current_image, interpolation='nearest')\n",
    "    plt.show()"
   ]
  },
  {
   "cell_type": "code",
   "execution_count": 18,
   "id": "d28a5403",
   "metadata": {
    "execution": {
     "iopub.execute_input": "2024-07-14T13:15:38.352172Z",
     "iopub.status.busy": "2024-07-14T13:15:38.351174Z",
     "iopub.status.idle": "2024-07-14T13:15:38.611253Z",
     "shell.execute_reply": "2024-07-14T13:15:38.610444Z"
    },
    "papermill": {
     "duration": 0.279553,
     "end_time": "2024-07-14T13:15:38.613203",
     "exception": false,
     "start_time": "2024-07-14T13:15:38.333650",
     "status": "completed"
    },
    "tags": []
   },
   "outputs": [
    {
     "name": "stdout",
     "output_type": "stream",
     "text": [
      "Prediction:  thumbsup\n",
      "correct Label:  thumbsup\n"
     ]
    },
    {
     "data": {
      "image/png": "[encoded data removed]",
      "text/plain": [
       "<Figure size 640x480 with 1 Axes>"
      ]
     },
     "metadata": {},
     "output_type": "display_data"
    }
   ],
   "source": [
    "test_prediction(10, W1, b1, W2, b2)"
   ]
  },
  {
   "cell_type": "markdown",
   "id": "b5aa18d4",
   "metadata": {
    "papermill": {
     "duration": 0.008169,
     "end_time": "2024-07-14T13:15:38.630101",
     "exception": false,
     "start_time": "2024-07-14T13:15:38.621932",
     "status": "completed"
    },
    "tags": []
   },
   "source": [
    "### Testing the trained model"
   ]
  },
  {
   "cell_type": "code",
   "execution_count": 19,
   "id": "22002df5",
   "metadata": {
    "execution": {
     "iopub.execute_input": "2024-07-14T13:15:38.648221Z",
     "iopub.status.busy": "2024-07-14T13:15:38.647939Z",
     "iopub.status.idle": "2024-07-14T13:15:38.881119Z",
     "shell.execute_reply": "2024-07-14T13:15:38.879875Z"
    },
    "papermill": {
     "duration": 0.245758,
     "end_time": "2024-07-14T13:15:38.884481",
     "exception": false,
     "start_time": "2024-07-14T13:15:38.638723",
     "status": "completed"
    },
    "tags": []
   },
   "outputs": [
    {
     "name": "stdout",
     "output_type": "stream",
     "text": [
      "[0 4 6 ... 8 2 9] [[0 4 6 ... 8 2 9]]\n",
      "test accuracy :  98.33%\n"
     ]
    }
   ],
   "source": [
    "test_prediction = make_predictions(X_test, W1, b1, W2, b2)\n",
    "test_accuracy = get_accuracy(test_prediction, Y_test)\n",
    "print(f\"test accuracy : {test_accuracy * 100 : .2f}%\")"
   ]
  },
  {
   "cell_type": "code",
   "execution_count": null,
   "id": "b67fe6d9",
   "metadata": {
    "papermill": {
     "duration": 0.017593,
     "end_time": "2024-07-14T13:15:38.920270",
     "exception": false,
     "start_time": "2024-07-14T13:15:38.902677",
     "status": "completed"
    },
    "tags": []
   },
   "outputs": [],
   "source": []
  }
 ],
 "metadata": {
  "kaggle": {
   "accelerator": "nvidiaTeslaT4",
   "dataSources": [
    {
     "datasetId": 3951023,
     "sourceId": 6875844,
     "sourceType": "datasetVersion"
    }
   ],
   "dockerImageVersionId": 30747,
   "isGpuEnabled": true,
   "isInternetEnabled": false,
   "language": "python",
   "sourceType": "notebook"
  },
  "kernelspec": {
   "display_name": "Python 3",
   "language": "python",
   "name": "python3"
  },
  "language_info": {
   "codemirror_mode": {
    "name": "ipython",
    "version": 3
   },
   "file_extension": ".py",
   "mimetype": "text/x-python",
   "name": "python",
   "nbconvert_exporter": "python",
   "pygments_lexer": "ipython3",
   "version": "3.10.13"
  },
  "papermill": {
   "default_parameters": {},
   "duration": 545.418911,
   "end_time": "2024-07-14T13:15:39.376784",
   "environment_variables": {},
   "exception": null,
   "input_path": "__notebook__.ipynb",
   "output_path": "__notebook__.ipynb",
   "parameters": {},
   "start_time": "2024-07-14T13:06:33.957873",
   "version": "2.5.0"
  }
 },
 "nbformat": 4,
 "nbformat_minor": 5
}
