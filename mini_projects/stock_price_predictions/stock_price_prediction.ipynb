{
  "nbformat": 4,
  "nbformat_minor": 0,
  "metadata": {
    "colab": {
      "provenance": [],
      "gpuType": "V28"
    },
    "kernelspec": {
      "name": "python3",
      "display_name": "Python 3"
    },
    "language_info": {
      "name": "python"
    },
    "accelerator": "TPU"
  },
  "cells": [
    {
      "cell_type": "markdown",
      "source": [
        "# Stock Price Prediction Using LSTM"
      ],
      "metadata": {
        "id": "U3cUwfmE3ag6"
      }
    },
    {
      "cell_type": "markdown",
      "source": [
        "## Overview of the process\n",
        "- fetch the dataset\n",
        "\n",
        "- preprocess the data\n",
        "\n",
        "- define the model\n",
        "\n",
        "- train the model on the dataset\n",
        "\n",
        "- test the model"
      ],
      "metadata": {
        "id": "pPdl-zqL1b8e"
      }
    },
    {
      "cell_type": "markdown",
      "source": [
        "## installing the packages"
      ],
      "metadata": {
        "id": "0wMSnmdpuiju"
      }
    },
    {
      "cell_type": "code",
      "source": [
        "!pip install yfinance"
      ],
      "metadata": {
        "colab": {
          "base_uri": "https://localhost:8080/"
        },
        "id": "f6auflz25hZg",
        "outputId": "f2e75ad5-6e14-451f-9fed-f822c7c17b08"
      },
      "execution_count": null,
      "outputs": [
        {
          "output_type": "stream",
          "name": "stdout",
          "text": [
            "Requirement already satisfied: yfinance in /usr/local/lib/python3.10/dist-packages (0.2.41)\n",
            "Requirement already satisfied: pandas>=1.3.0 in /usr/local/lib/python3.10/dist-packages (from yfinance) (2.1.4)\n",
            "Requirement already satisfied: numpy>=1.16.5 in /usr/local/lib/python3.10/dist-packages (from yfinance) (1.26.4)\n",
            "Requirement already satisfied: requests>=2.31 in /usr/local/lib/python3.10/dist-packages (from yfinance) (2.32.3)\n",
            "Requirement already satisfied: multitasking>=0.0.7 in /usr/local/lib/python3.10/dist-packages (from yfinance) (0.0.11)\n",
            "Requirement already satisfied: lxml>=4.9.1 in /usr/local/lib/python3.10/dist-packages (from yfinance) (5.3.0)\n",
            "Requirement already satisfied: platformdirs>=2.0.0 in /usr/local/lib/python3.10/dist-packages (from yfinance) (4.2.2)\n",
            "Requirement already satisfied: pytz>=2022.5 in /usr/local/lib/python3.10/dist-packages (from yfinance) (2024.1)\n",
            "Requirement already satisfied: frozendict>=2.3.4 in /usr/local/lib/python3.10/dist-packages (from yfinance) (2.4.4)\n",
            "Requirement already satisfied: peewee>=3.16.2 in /usr/local/lib/python3.10/dist-packages (from yfinance) (3.17.6)\n",
            "Requirement already satisfied: beautifulsoup4>=4.11.1 in /usr/local/lib/python3.10/dist-packages (from yfinance) (4.12.3)\n",
            "Requirement already satisfied: html5lib>=1.1 in /usr/local/lib/python3.10/dist-packages (from yfinance) (1.1)\n",
            "Requirement already satisfied: soupsieve>1.2 in /usr/local/lib/python3.10/dist-packages (from beautifulsoup4>=4.11.1->yfinance) (2.5)\n",
            "Requirement already satisfied: six>=1.9 in /usr/local/lib/python3.10/dist-packages (from html5lib>=1.1->yfinance) (1.16.0)\n",
            "Requirement already satisfied: webencodings in /usr/local/lib/python3.10/dist-packages (from html5lib>=1.1->yfinance) (0.5.1)\n",
            "Requirement already satisfied: python-dateutil>=2.8.2 in /usr/local/lib/python3.10/dist-packages (from pandas>=1.3.0->yfinance) (2.9.0.post0)\n",
            "Requirement already satisfied: tzdata>=2022.1 in /usr/local/lib/python3.10/dist-packages (from pandas>=1.3.0->yfinance) (2024.1)\n",
            "Requirement already satisfied: charset-normalizer<4,>=2 in /usr/local/lib/python3.10/dist-packages (from requests>=2.31->yfinance) (3.3.2)\n",
            "Requirement already satisfied: idna<4,>=2.5 in /usr/local/lib/python3.10/dist-packages (from requests>=2.31->yfinance) (3.7)\n",
            "Requirement already satisfied: urllib3<3,>=1.21.1 in /usr/local/lib/python3.10/dist-packages (from requests>=2.31->yfinance) (2.0.7)\n",
            "Requirement already satisfied: certifi>=2017.4.17 in /usr/local/lib/python3.10/dist-packages (from requests>=2.31->yfinance) (2024.7.4)\n"
          ]
        }
      ]
    },
    {
      "cell_type": "markdown",
      "source": [
        "## importing necesarry libraries"
      ],
      "metadata": {
        "id": "AKea307humni"
      }
    },
    {
      "cell_type": "code",
      "execution_count": null,
      "metadata": {
        "id": "jsy4HIuJ2IJ8"
      },
      "outputs": [],
      "source": [
        "import pandas as pd\n",
        "import numpy as np\n",
        "import tensorflow as tf\n",
        "import matplotlib.pyplot as plt\n",
        "from datetime import date\n",
        "import yfinance as yf"
      ]
    },
    {
      "cell_type": "code",
      "source": [
        "START = \"2020-01-01\"\n",
        "END = date.today().strftime(\"%Y-%m-%d\") # strftime converts datetype from \"datetime.date\" to 'str'"
      ],
      "metadata": {
        "id": "bTQmtlGa2SfQ"
      },
      "execution_count": null,
      "outputs": []
    },
    {
      "cell_type": "markdown",
      "source": [
        "## function to load dataset"
      ],
      "metadata": {
        "id": "ssawPB2tuwy6"
      }
    },
    {
      "cell_type": "code",
      "source": [
        "def fetch_data(ticker):\n",
        "    data = yf.download(ticker, START, END)\n",
        "    data.reset_index(inplace=True)\n",
        "    return data"
      ],
      "metadata": {
        "id": "zNcsiEfx2rhC"
      },
      "execution_count": null,
      "outputs": []
    },
    {
      "cell_type": "markdown",
      "source": [
        "## loading the dataset of META using the function"
      ],
      "metadata": {
        "id": "qR5q1ZH7u0JN"
      }
    },
    {
      "cell_type": "code",
      "source": [
        "data = fetch_data('META')\n",
        "df = data\n",
        "df.head()"
      ],
      "metadata": {
        "colab": {
          "base_uri": "https://localhost:8080/",
          "height": 223
        },
        "id": "zgaILhie40G3",
        "outputId": "ed0ef485-0e35-4b73-d763-c6db2053aa14"
      },
      "execution_count": null,
      "outputs": [
        {
          "output_type": "stream",
          "name": "stderr",
          "text": [
            "\r[*********************100%%**********************]  1 of 1 completed\n"
          ]
        },
        {
          "output_type": "execute_result",
          "data": {
            "text/plain": [
              "        Date        Open        High         Low       Close   Adj Close  \\\n",
              "0 2020-01-02  206.750000  209.789993  206.270004  209.779999  209.349792   \n",
              "1 2020-01-03  207.210007  210.399994  206.949997  208.669998  208.242081   \n",
              "2 2020-01-06  206.699997  212.779999  206.520004  212.600006  212.164017   \n",
              "3 2020-01-07  212.820007  214.580002  211.750000  213.059998  212.623062   \n",
              "4 2020-01-08  213.000000  216.240005  212.610001  215.220001  214.778641   \n",
              "\n",
              "     Volume  \n",
              "0  12077100  \n",
              "1  11188400  \n",
              "2  17058900  \n",
              "3  14912400  \n",
              "4  13475000  "
            ],
            "text/html": [
              "\n",
              "  <div id=\"df-6e09575a-26d6-4e7d-a343-01134a476c0d\" class=\"colab-df-container\">\n",
              "    <div>\n",
              "<style scoped>\n",
              "    .dataframe tbody tr th:only-of-type {\n",
              "        vertical-align: middle;\n",
              "    }\n",
              "\n",
              "    .dataframe tbody tr th {\n",
              "        vertical-align: top;\n",
              "    }\n",
              "\n",
              "    .dataframe thead th {\n",
              "        text-align: right;\n",
              "    }\n",
              "</style>\n",
              "<table border=\"1\" class=\"dataframe\">\n",
              "  <thead>\n",
              "    <tr style=\"text-align: right;\">\n",
              "      <th></th>\n",
              "      <th>Date</th>\n",
              "      <th>Open</th>\n",
              "      <th>High</th>\n",
              "      <th>Low</th>\n",
              "      <th>Close</th>\n",
              "      <th>Adj Close</th>\n",
              "      <th>Volume</th>\n",
              "    </tr>\n",
              "  </thead>\n",
              "  <tbody>\n",
              "    <tr>\n",
              "      <th>0</th>\n",
              "      <td>2020-01-02</td>\n",
              "      <td>206.750000</td>\n",
              "      <td>209.789993</td>\n",
              "      <td>206.270004</td>\n",
              "      <td>209.779999</td>\n",
              "      <td>209.349792</td>\n",
              "      <td>12077100</td>\n",
              "    </tr>\n",
              "    <tr>\n",
              "      <th>1</th>\n",
              "      <td>2020-01-03</td>\n",
              "      <td>207.210007</td>\n",
              "      <td>210.399994</td>\n",
              "      <td>206.949997</td>\n",
              "      <td>208.669998</td>\n",
              "      <td>208.242081</td>\n",
              "      <td>11188400</td>\n",
              "    </tr>\n",
              "    <tr>\n",
              "      <th>2</th>\n",
              "      <td>2020-01-06</td>\n",
              "      <td>206.699997</td>\n",
              "      <td>212.779999</td>\n",
              "      <td>206.520004</td>\n",
              "      <td>212.600006</td>\n",
              "      <td>212.164017</td>\n",
              "      <td>17058900</td>\n",
              "    </tr>\n",
              "    <tr>\n",
              "      <th>3</th>\n",
              "      <td>2020-01-07</td>\n",
              "      <td>212.820007</td>\n",
              "      <td>214.580002</td>\n",
              "      <td>211.750000</td>\n",
              "      <td>213.059998</td>\n",
              "      <td>212.623062</td>\n",
              "      <td>14912400</td>\n",
              "    </tr>\n",
              "    <tr>\n",
              "      <th>4</th>\n",
              "      <td>2020-01-08</td>\n",
              "      <td>213.000000</td>\n",
              "      <td>216.240005</td>\n",
              "      <td>212.610001</td>\n",
              "      <td>215.220001</td>\n",
              "      <td>214.778641</td>\n",
              "      <td>13475000</td>\n",
              "    </tr>\n",
              "  </tbody>\n",
              "</table>\n",
              "</div>\n",
              "    <div class=\"colab-df-buttons\">\n",
              "\n",
              "  <div class=\"colab-df-container\">\n",
              "    <button class=\"colab-df-convert\" onclick=\"convertToInteractive('df-6e09575a-26d6-4e7d-a343-01134a476c0d')\"\n",
              "            title=\"Convert this dataframe to an interactive table.\"\n",
              "            style=\"display:none;\">\n",
              "\n",
              "  <svg xmlns=\"http://www.w3.org/2000/svg\" height=\"24px\" viewBox=\"0 -960 960 960\">\n",
              "    <path d=\"M120-120v-720h720v720H120Zm60-500h600v-160H180v160Zm220 220h160v-160H400v160Zm0 220h160v-160H400v160ZM180-400h160v-160H180v160Zm440 0h160v-160H620v160ZM180-180h160v-160H180v160Zm440 0h160v-160H620v160Z\"/>\n",
              "  </svg>\n",
              "    </button>\n",
              "\n",
              "  <style>\n",
              "    .colab-df-container {\n",
              "      display:flex;\n",
              "      gap: 12px;\n",
              "    }\n",
              "\n",
              "    .colab-df-convert {\n",
              "      background-color: #E8F0FE;\n",
              "      border: none;\n",
              "      border-radius: 50%;\n",
              "      cursor: pointer;\n",
              "      display: none;\n",
              "      fill: #1967D2;\n",
              "      height: 32px;\n",
              "      padding: 0 0 0 0;\n",
              "      width: 32px;\n",
              "    }\n",
              "\n",
              "    .colab-df-convert:hover {\n",
              "      background-color: #E2EBFA;\n",
              "      box-shadow: 0px 1px 2px rgba(60, 64, 67, 0.3), 0px 1px 3px 1px rgba(60, 64, 67, 0.15);\n",
              "      fill: #174EA6;\n",
              "    }\n",
              "\n",
              "    .colab-df-buttons div {\n",
              "      margin-bottom: 4px;\n",
              "    }\n",
              "\n",
              "    [theme=dark] .colab-df-convert {\n",
              "      background-color: #3B4455;\n",
              "      fill: #D2E3FC;\n",
              "    }\n",
              "\n",
              "    [theme=dark] .colab-df-convert:hover {\n",
              "      background-color: #434B5C;\n",
              "      box-shadow: 0px 1px 3px 1px rgba(0, 0, 0, 0.15);\n",
              "      filter: drop-shadow(0px 1px 2px rgba(0, 0, 0, 0.3));\n",
              "      fill: #FFFFFF;\n",
              "    }\n",
              "  </style>\n",
              "\n",
              "    <script>\n",
              "      const buttonEl =\n",
              "        document.querySelector('#df-6e09575a-26d6-4e7d-a343-01134a476c0d button.colab-df-convert');\n",
              "      buttonEl.style.display =\n",
              "        google.colab.kernel.accessAllowed ? 'block' : 'none';\n",
              "\n",
              "      async function convertToInteractive(key) {\n",
              "        const element = document.querySelector('#df-6e09575a-26d6-4e7d-a343-01134a476c0d');\n",
              "        const dataTable =\n",
              "          await google.colab.kernel.invokeFunction('convertToInteractive',\n",
              "                                                    [key], {});\n",
              "        if (!dataTable) return;\n",
              "\n",
              "        const docLinkHtml = 'Like what you see? Visit the ' +\n",
              "          '<a target=\"_blank\" href=https://colab.research.google.com/notebooks/data_table.ipynb>data table notebook</a>'\n",
              "          + ' to learn more about interactive tables.';\n",
              "        element.innerHTML = '';\n",
              "        dataTable['output_type'] = 'display_data';\n",
              "        await google.colab.output.renderOutput(dataTable, element);\n",
              "        const docLink = document.createElement('div');\n",
              "        docLink.innerHTML = docLinkHtml;\n",
              "        element.appendChild(docLink);\n",
              "      }\n",
              "    </script>\n",
              "  </div>\n",
              "\n",
              "\n",
              "<div id=\"df-fef64826-011d-45be-b7bd-13b2eb9ea079\">\n",
              "  <button class=\"colab-df-quickchart\" onclick=\"quickchart('df-fef64826-011d-45be-b7bd-13b2eb9ea079')\"\n",
              "            title=\"Suggest charts\"\n",
              "            style=\"display:none;\">\n",
              "\n",
              "<svg xmlns=\"http://www.w3.org/2000/svg\" height=\"24px\"viewBox=\"0 0 24 24\"\n",
              "     width=\"24px\">\n",
              "    <g>\n",
              "        <path d=\"M19 3H5c-1.1 0-2 .9-2 2v14c0 1.1.9 2 2 2h14c1.1 0 2-.9 2-2V5c0-1.1-.9-2-2-2zM9 17H7v-7h2v7zm4 0h-2V7h2v10zm4 0h-2v-4h2v4z\"/>\n",
              "    </g>\n",
              "</svg>\n",
              "  </button>\n",
              "\n",
              "<style>\n",
              "  .colab-df-quickchart {\n",
              "      --bg-color: #E8F0FE;\n",
              "      --fill-color: #1967D2;\n",
              "      --hover-bg-color: #E2EBFA;\n",
              "      --hover-fill-color: #174EA6;\n",
              "      --disabled-fill-color: #AAA;\n",
              "      --disabled-bg-color: #DDD;\n",
              "  }\n",
              "\n",
              "  [theme=dark] .colab-df-quickchart {\n",
              "      --bg-color: #3B4455;\n",
              "      --fill-color: #D2E3FC;\n",
              "      --hover-bg-color: #434B5C;\n",
              "      --hover-fill-color: #FFFFFF;\n",
              "      --disabled-bg-color: #3B4455;\n",
              "      --disabled-fill-color: #666;\n",
              "  }\n",
              "\n",
              "  .colab-df-quickchart {\n",
              "    background-color: var(--bg-color);\n",
              "    border: none;\n",
              "    border-radius: 50%;\n",
              "    cursor: pointer;\n",
              "    display: none;\n",
              "    fill: var(--fill-color);\n",
              "    height: 32px;\n",
              "    padding: 0;\n",
              "    width: 32px;\n",
              "  }\n",
              "\n",
              "  .colab-df-quickchart:hover {\n",
              "    background-color: var(--hover-bg-color);\n",
              "    box-shadow: 0 1px 2px rgba(60, 64, 67, 0.3), 0 1px 3px 1px rgba(60, 64, 67, 0.15);\n",
              "    fill: var(--button-hover-fill-color);\n",
              "  }\n",
              "\n",
              "  .colab-df-quickchart-complete:disabled,\n",
              "  .colab-df-quickchart-complete:disabled:hover {\n",
              "    background-color: var(--disabled-bg-color);\n",
              "    fill: var(--disabled-fill-color);\n",
              "    box-shadow: none;\n",
              "  }\n",
              "\n",
              "  .colab-df-spinner {\n",
              "    border: 2px solid var(--fill-color);\n",
              "    border-color: transparent;\n",
              "    border-bottom-color: var(--fill-color);\n",
              "    animation:\n",
              "      spin 1s steps(1) infinite;\n",
              "  }\n",
              "\n",
              "  @keyframes spin {\n",
              "    0% {\n",
              "      border-color: transparent;\n",
              "      border-bottom-color: var(--fill-color);\n",
              "      border-left-color: var(--fill-color);\n",
              "    }\n",
              "    20% {\n",
              "      border-color: transparent;\n",
              "      border-left-color: var(--fill-color);\n",
              "      border-top-color: var(--fill-color);\n",
              "    }\n",
              "    30% {\n",
              "      border-color: transparent;\n",
              "      border-left-color: var(--fill-color);\n",
              "      border-top-color: var(--fill-color);\n",
              "      border-right-color: var(--fill-color);\n",
              "    }\n",
              "    40% {\n",
              "      border-color: transparent;\n",
              "      border-right-color: var(--fill-color);\n",
              "      border-top-color: var(--fill-color);\n",
              "    }\n",
              "    60% {\n",
              "      border-color: transparent;\n",
              "      border-right-color: var(--fill-color);\n",
              "    }\n",
              "    80% {\n",
              "      border-color: transparent;\n",
              "      border-right-color: var(--fill-color);\n",
              "      border-bottom-color: var(--fill-color);\n",
              "    }\n",
              "    90% {\n",
              "      border-color: transparent;\n",
              "      border-bottom-color: var(--fill-color);\n",
              "    }\n",
              "  }\n",
              "</style>\n",
              "\n",
              "  <script>\n",
              "    async function quickchart(key) {\n",
              "      const quickchartButtonEl =\n",
              "        document.querySelector('#' + key + ' button');\n",
              "      quickchartButtonEl.disabled = true;  // To prevent multiple clicks.\n",
              "      quickchartButtonEl.classList.add('colab-df-spinner');\n",
              "      try {\n",
              "        const charts = await google.colab.kernel.invokeFunction(\n",
              "            'suggestCharts', [key], {});\n",
              "      } catch (error) {\n",
              "        console.error('Error during call to suggestCharts:', error);\n",
              "      }\n",
              "      quickchartButtonEl.classList.remove('colab-df-spinner');\n",
              "      quickchartButtonEl.classList.add('colab-df-quickchart-complete');\n",
              "    }\n",
              "    (() => {\n",
              "      let quickchartButtonEl =\n",
              "        document.querySelector('#df-fef64826-011d-45be-b7bd-13b2eb9ea079 button');\n",
              "      quickchartButtonEl.style.display =\n",
              "        google.colab.kernel.accessAllowed ? 'block' : 'none';\n",
              "    })();\n",
              "  </script>\n",
              "</div>\n",
              "\n",
              "    </div>\n",
              "  </div>\n"
            ],
            "application/vnd.google.colaboratory.intrinsic+json": {
              "type": "dataframe",
              "variable_name": "df",
              "summary": "{\n  \"name\": \"df\",\n  \"rows\": 1159,\n  \"fields\": [\n    {\n      \"column\": \"Date\",\n      \"properties\": {\n        \"dtype\": \"date\",\n        \"min\": \"2020-01-02 00:00:00\",\n        \"max\": \"2024-08-09 00:00:00\",\n        \"num_unique_values\": 1159,\n        \"samples\": [\n          \"2024-03-04 00:00:00\",\n          \"2021-01-21 00:00:00\",\n          \"2020-06-09 00:00:00\"\n        ],\n        \"semantic_type\": \"\",\n        \"description\": \"\"\n      }\n    },\n    {\n      \"column\": \"Open\",\n      \"properties\": {\n        \"dtype\": \"number\",\n        \"std\": 101.5127938237431,\n        \"min\": 90.08000183105469,\n        \"max\": 542.3499755859375,\n        \"num_unique_values\": 1136,\n        \"samples\": [\n          182.8699951171875,\n          297.1700134277344,\n          260.6700134277344\n        ],\n        \"semantic_type\": \"\",\n        \"description\": \"\"\n      }\n    },\n    {\n      \"column\": \"High\",\n      \"properties\": {\n        \"dtype\": \"number\",\n        \"std\": 102.3777011682763,\n        \"min\": 90.45999908447266,\n        \"max\": 542.8099975585938,\n        \"num_unique_values\": 1128,\n        \"samples\": [\n          506.0,\n          298.2900085449219,\n          126.37000274658203\n        ],\n        \"semantic_type\": \"\",\n        \"description\": \"\"\n      }\n    },\n    {\n      \"column\": \"Low\",\n      \"properties\": {\n        \"dtype\": \"number\",\n        \"std\": 100.4960254976771,\n        \"min\": 88.08999633789062,\n        \"max\": 528.3599853515625,\n        \"num_unique_values\": 1139,\n        \"samples\": [\n          184.00999450683594,\n          288.17999267578125,\n          253.5\n        ],\n        \"semantic_type\": \"\",\n        \"description\": \"\"\n      }\n    },\n    {\n      \"column\": \"Close\",\n      \"properties\": {\n        \"dtype\": \"number\",\n        \"std\": 101.48222672749883,\n        \"min\": 88.91000366210938,\n        \"max\": 539.9099731445312,\n        \"num_unique_values\": 1136,\n        \"samples\": [\n          173.4199981689453,\n          286.75,\n          255.41000366210938\n        ],\n        \"semantic_type\": \"\",\n        \"description\": \"\"\n      }\n    },\n    {\n      \"column\": \"Adj Close\",\n      \"properties\": {\n        \"dtype\": \"number\",\n        \"std\": 101.42115822198227,\n        \"min\": 88.72767639160156,\n        \"max\": 539.9099731445312,\n        \"num_unique_values\": 1137,\n        \"samples\": [\n          174.17208862304688,\n          284.9145202636719,\n          254.88623046875\n        ],\n        \"semantic_type\": \"\",\n        \"description\": \"\"\n      }\n    },\n    {\n      \"column\": \"Volume\",\n      \"properties\": {\n        \"dtype\": \"number\",\n        \"std\": 15949645,\n        \"min\": 5467500,\n        \"max\": 232316600,\n        \"num_unique_values\": 1159,\n        \"samples\": [\n          12324100,\n          20838700,\n          27462900\n        ],\n        \"semantic_type\": \"\",\n        \"description\": \"\"\n      }\n    }\n  ]\n}"
            }
          },
          "metadata": {},
          "execution_count": 127
        }
      ]
    },
    {
      "cell_type": "code",
      "source": [
        "df.info()"
      ],
      "metadata": {
        "colab": {
          "base_uri": "https://localhost:8080/"
        },
        "id": "zLD13SBEhbeh",
        "outputId": "0cdfe190-3432-452f-a569-c4cd51e5267d"
      },
      "execution_count": null,
      "outputs": [
        {
          "output_type": "stream",
          "name": "stdout",
          "text": [
            "<class 'pandas.core.frame.DataFrame'>\n",
            "RangeIndex: 1159 entries, 0 to 1158\n",
            "Data columns (total 7 columns):\n",
            " #   Column     Non-Null Count  Dtype         \n",
            "---  ------     --------------  -----         \n",
            " 0   Date       1159 non-null   datetime64[ns]\n",
            " 1   Open       1159 non-null   float64       \n",
            " 2   High       1159 non-null   float64       \n",
            " 3   Low        1159 non-null   float64       \n",
            " 4   Close      1159 non-null   float64       \n",
            " 5   Adj Close  1159 non-null   float64       \n",
            " 6   Volume     1159 non-null   int64         \n",
            "dtypes: datetime64[ns](1), float64(5), int64(1)\n",
            "memory usage: 63.5 KB\n"
          ]
        }
      ]
    },
    {
      "cell_type": "markdown",
      "source": [
        "## visualing the closing price data"
      ],
      "metadata": {
        "id": "vzCQpqk77t2z"
      }
    },
    {
      "cell_type": "code",
      "source": [
        "plt.plot(df['Close'])\n",
        "plt.ylabel('closing price in inr')\n",
        "plt.title(\" 'Meta Platforms Inc.' stock price\")"
      ],
      "metadata": {
        "colab": {
          "base_uri": "https://localhost:8080/",
          "height": 469
        },
        "id": "1kA414va6B7t",
        "outputId": "0aec05d2-d3cf-467a-e5e6-a659983eca64"
      },
      "execution_count": null,
      "outputs": [
        {
          "output_type": "execute_result",
          "data": {
            "text/plain": [
              "Text(0.5, 1.0, \" 'Meta Platforms Inc.' stock price\")"
            ]
          },
          "metadata": {},
          "execution_count": 129
        },
        {
          "output_type": "display_data",
          "data": {
            "text/plain": [
              "<Figure size 640x480 with 1 Axes>"
            ],
            "image/png": "[encoded data removed]"
          },
          "metadata": {}
        }
      ]
    },
    {
      "cell_type": "code",
      "source": [
        "df1 = df.reset_index()['Close']\n",
        "df1"
      ],
      "metadata": {
        "colab": {
          "base_uri": "https://localhost:8080/",
          "height": 458
        },
        "id": "iVICBdqw9Zc6",
        "outputId": "fd28f937-aa7b-4ce0-8c70-1f17f4488174"
      },
      "execution_count": null,
      "outputs": [
        {
          "output_type": "execute_result",
          "data": {
            "text/plain": [
              "0       209.779999\n",
              "1       208.669998\n",
              "2       212.600006\n",
              "3       213.059998\n",
              "4       215.220001\n",
              "           ...    \n",
              "1154    475.730011\n",
              "1155    494.089996\n",
              "1156    488.920013\n",
              "1157    509.630005\n",
              "1158    517.770020\n",
              "Name: Close, Length: 1159, dtype: float64"
            ],
            "text/html": [
              "<div>\n",
              "<style scoped>\n",
              "    .dataframe tbody tr th:only-of-type {\n",
              "        vertical-align: middle;\n",
              "    }\n",
              "\n",
              "    .dataframe tbody tr th {\n",
              "        vertical-align: top;\n",
              "    }\n",
              "\n",
              "    .dataframe thead th {\n",
              "        text-align: right;\n",
              "    }\n",
              "</style>\n",
              "<table border=\"1\" class=\"dataframe\">\n",
              "  <thead>\n",
              "    <tr style=\"text-align: right;\">\n",
              "      <th></th>\n",
              "      <th>Close</th>\n",
              "    </tr>\n",
              "  </thead>\n",
              "  <tbody>\n",
              "    <tr>\n",
              "      <th>0</th>\n",
              "      <td>209.779999</td>\n",
              "    </tr>\n",
              "    <tr>\n",
              "      <th>1</th>\n",
              "      <td>208.669998</td>\n",
              "    </tr>\n",
              "    <tr>\n",
              "      <th>2</th>\n",
              "      <td>212.600006</td>\n",
              "    </tr>\n",
              "    <tr>\n",
              "      <th>3</th>\n",
              "      <td>213.059998</td>\n",
              "    </tr>\n",
              "    <tr>\n",
              "      <th>4</th>\n",
              "      <td>215.220001</td>\n",
              "    </tr>\n",
              "    <tr>\n",
              "      <th>...</th>\n",
              "      <td>...</td>\n",
              "    </tr>\n",
              "    <tr>\n",
              "      <th>1154</th>\n",
              "      <td>475.730011</td>\n",
              "    </tr>\n",
              "    <tr>\n",
              "      <th>1155</th>\n",
              "      <td>494.089996</td>\n",
              "    </tr>\n",
              "    <tr>\n",
              "      <th>1156</th>\n",
              "      <td>488.920013</td>\n",
              "    </tr>\n",
              "    <tr>\n",
              "      <th>1157</th>\n",
              "      <td>509.630005</td>\n",
              "    </tr>\n",
              "    <tr>\n",
              "      <th>1158</th>\n",
              "      <td>517.770020</td>\n",
              "    </tr>\n",
              "  </tbody>\n",
              "</table>\n",
              "<p>1159 rows × 1 columns</p>\n",
              "</div><br><label><b>dtype:</b> float64</label>"
            ]
          },
          "metadata": {},
          "execution_count": 130
        }
      ]
    },
    {
      "cell_type": "markdown",
      "source": [
        "## normalising the data"
      ],
      "metadata": {
        "id": "taFHHTNg_SmC"
      }
    },
    {
      "cell_type": "code",
      "source": [
        "from sklearn.preprocessing import MinMaxScaler\n",
        "scaler = MinMaxScaler(feature_range = (0,1))\n",
        "df1 = scaler.fit_transform(np.array(df1).reshape(-1, 1)) #reshape into a 2d array"
      ],
      "metadata": {
        "id": "BfpQ4ND6_VTG"
      },
      "execution_count": null,
      "outputs": []
    },
    {
      "cell_type": "code",
      "source": [
        "print(df1)\n",
        "print(type(df1))\n",
        "print(df1.shape)"
      ],
      "metadata": {
        "colab": {
          "base_uri": "https://localhost:8080/"
        },
        "id": "jW_m8E7n__ih",
        "outputId": "8578ae39-3e51-46f8-b27c-bcfdbde1e0f2"
      },
      "execution_count": null,
      "outputs": [
        {
          "output_type": "stream",
          "name": "stdout",
          "text": [
            "[[0.26800444]\n",
            " [0.26554324]\n",
            " [0.27425723]\n",
            " ...\n",
            " [0.88694021]\n",
            " [0.93286038]\n",
            " [0.95090919]]\n",
            "<class 'numpy.ndarray'>\n",
            "(1159, 1)\n"
          ]
        }
      ]
    },
    {
      "cell_type": "markdown",
      "source": [
        "## splitting the data"
      ],
      "metadata": {
        "id": "Kp6pBjCT8_5W"
      }
    },
    {
      "cell_type": "code",
      "source": [
        "TRAIN_SIZE = int(len(df1) * 0.7)\n",
        "TEST_SIZE = len(df1) - TRAIN_SIZE\n",
        "print(\"TRAIN_SIZE :\", TRAIN_SIZE, \"TEST_SIZE :\", TEST_SIZE)"
      ],
      "metadata": {
        "colab": {
          "base_uri": "https://localhost:8080/"
        },
        "id": "FkxLsPHq8KBn",
        "outputId": "77bdb413-5b6d-4c8f-f6e5-3968b78745dc"
      },
      "execution_count": null,
      "outputs": [
        {
          "output_type": "stream",
          "name": "stdout",
          "text": [
            "TRAIN_SIZE : 811 TEST_SIZE : 348\n"
          ]
        }
      ]
    },
    {
      "cell_type": "code",
      "source": [
        "train_data = df1[:TRAIN_SIZE,:]\n",
        "test_data = df1[TRAIN_SIZE:, :]"
      ],
      "metadata": {
        "id": "c-4Io4TSAdMp"
      },
      "execution_count": null,
      "outputs": []
    },
    {
      "cell_type": "code",
      "source": [
        "print(train_data.shape)\n",
        "print(test_data.shape)"
      ],
      "metadata": {
        "colab": {
          "base_uri": "https://localhost:8080/"
        },
        "id": "0Z_nb6yzBsUt",
        "outputId": "a9778ffd-2bff-4af0-ab69-a05a1b44ce0d"
      },
      "execution_count": null,
      "outputs": [
        {
          "output_type": "stream",
          "name": "stdout",
          "text": [
            "(811, 1)\n",
            "(348, 1)\n"
          ]
        }
      ]
    },
    {
      "cell_type": "markdown",
      "source": [
        "## create x and y for supervised learning\n",
        "\n",
        "stock price data = 300 350 345 265 457 368 390\n",
        "\n",
        "suppose timesteps = 5\n",
        "\n",
        "Then,\n",
        "\n",
        "x = [[300 350 345 265 457], [350 345 265 457 368]]\n",
        "\n",
        "y = [368, 390]"
      ],
      "metadata": {
        "id": "CxFpGciqCrj1"
      }
    },
    {
      "cell_type": "code",
      "source": [
        "def create_dataset(dataset, time_step = 1):\n",
        "    data_X, data_Y = [], []\n",
        "    for i in range(len(dataset) - time_step - 1):\n",
        "        x = dataset[i: (i + time_step), 0]\n",
        "        data_X.append(x)\n",
        "        y = dataset[i + time_step, 0]\n",
        "        data_Y.append(y)\n",
        "\n",
        "    return np.array(data_X), np.array(data_Y)"
      ],
      "metadata": {
        "id": "SP5g7UnMByON"
      },
      "execution_count": null,
      "outputs": []
    },
    {
      "cell_type": "code",
      "source": [
        "TIME_STEPS = 60\n",
        "X_train, Y_train = create_dataset(train_data, TIME_STEPS)\n",
        "X_test, Y_test = create_dataset(test_data, TIME_STEPS)"
      ],
      "metadata": {
        "id": "TLSf8o4iEGKF"
      },
      "execution_count": null,
      "outputs": []
    },
    {
      "cell_type": "code",
      "source": [
        "print(X_train.shape, Y_train.shape) # shape of X_train = (train_size - TIME_STEPS, TIME_STEPS), Y_train = (train_size - TIME_STEPS, 1)\n",
        "print(X_test.shape, Y_test.shape)"
      ],
      "metadata": {
        "colab": {
          "base_uri": "https://localhost:8080/"
        },
        "id": "a_o1FXJaEgRw",
        "outputId": "03832dc1-b172-4215-cc24-9a98d668deb2"
      },
      "execution_count": null,
      "outputs": [
        {
          "output_type": "stream",
          "name": "stdout",
          "text": [
            "(750, 60) (750,)\n",
            "(287, 60) (287,)\n"
          ]
        }
      ]
    },
    {
      "cell_type": "markdown",
      "source": [
        "## since LSTM requires a 3D input,  we reshaped input to be [batch_size, time_steps, features]"
      ],
      "metadata": {
        "id": "Y1vNZn7--RPD"
      }
    },
    {
      "cell_type": "code",
      "source": [
        "X_train =X_train.reshape(X_train.shape[0],X_train.shape[1] , 1)\n",
        "X_test = X_test.reshape(X_test.shape[0],X_test.shape[1] , 1)\n",
        "Y_train = Y_train.reshape(Y_train.shape[0], 1)\n",
        "Y_test = Y_test.reshape(Y_test.shape[0], 1)"
      ],
      "metadata": {
        "id": "ADj5PcZOEkz8"
      },
      "execution_count": null,
      "outputs": []
    },
    {
      "cell_type": "code",
      "source": [
        "print(X_train.shape, Y_train.shape)\n",
        "print(X_test.shape, Y_test.shape)"
      ],
      "metadata": {
        "colab": {
          "base_uri": "https://localhost:8080/"
        },
        "id": "ritPxi_EHhyK",
        "outputId": "df231ae5-8742-40fb-c49b-bea04cdc5a38"
      },
      "execution_count": null,
      "outputs": [
        {
          "output_type": "stream",
          "name": "stdout",
          "text": [
            "(750, 60, 1) (750, 1)\n",
            "(287, 60, 1) (287, 1)\n"
          ]
        }
      ]
    },
    {
      "cell_type": "markdown",
      "source": [
        "## defining the LSTM model"
      ],
      "metadata": {
        "id": "VpvuZ0SVHvRN"
      }
    },
    {
      "cell_type": "code",
      "source": [
        "# import the necessary libraries\n",
        "from tensorflow.keras.models import Sequential\n",
        "from tensorflow.keras.layers import Dense, LSTM, Dropout"
      ],
      "metadata": {
        "id": "ArOObSQ4HvA8"
      },
      "execution_count": null,
      "outputs": []
    },
    {
      "cell_type": "code",
      "source": [
        "model=Sequential()\n",
        "model.add(LSTM(128, activation = 'relu', return_sequences=True,input_shape=(TIME_STEPS,1)))\n",
        "model.add(Dropout(0.2))\n",
        "\n",
        "model.add(LSTM(64, activation = 'relu'))\n",
        "model.add(Dropout(0.2))\n",
        "\n",
        "model.add(Dense(25))\n",
        "\n",
        "model.add(Dense(1))"
      ],
      "metadata": {
        "id": "IC5xPnkMHlFw"
      },
      "execution_count": null,
      "outputs": []
    },
    {
      "cell_type": "code",
      "source": [
        "model.summary()"
      ],
      "metadata": {
        "colab": {
          "base_uri": "https://localhost:8080/"
        },
        "id": "WDDKlFswIgnH",
        "outputId": "64ca7f81-6a13-46aa-8c65-0a5d45e68c36"
      },
      "execution_count": null,
      "outputs": [
        {
          "output_type": "stream",
          "name": "stdout",
          "text": [
            "Model: \"sequential_3\"\n",
            "_________________________________________________________________\n",
            " Layer (type)                Output Shape              Param #   \n",
            "=================================================================\n",
            " lstm_6 (LSTM)               (None, 60, 128)           66560     \n",
            "                                                                 \n",
            " dropout_6 (Dropout)         (None, 60, 128)           0         \n",
            "                                                                 \n",
            " lstm_7 (LSTM)               (None, 64)                49408     \n",
            "                                                                 \n",
            " dropout_7 (Dropout)         (None, 64)                0         \n",
            "                                                                 \n",
            " dense_6 (Dense)             (None, 25)                1625      \n",
            "                                                                 \n",
            " dense_7 (Dense)             (None, 1)                 26        \n",
            "                                                                 \n",
            "=================================================================\n",
            "Total params: 117619 (459.45 KB)\n",
            "Trainable params: 117619 (459.45 KB)\n",
            "Non-trainable params: 0 (0.00 Byte)\n",
            "_________________________________________________________________\n"
          ]
        }
      ]
    },
    {
      "cell_type": "markdown",
      "source": [
        "## training the model on the train data"
      ],
      "metadata": {
        "id": "5IxDAnkJ2Nwo"
      }
    },
    {
      "cell_type": "code",
      "source": [
        "model.compile(optimizer='adam', loss='mean_squared_error', metrics=['mean_absolute_error'])\n",
        "model.fit(X_train, Y_train, epochs=5)"
      ],
      "metadata": {
        "collapsed": true,
        "colab": {
          "base_uri": "https://localhost:8080/"
        },
        "id": "rIhbH1ZEIozi",
        "outputId": "a8979712-6b47-4a3e-9e8f-63822d1bb781"
      },
      "execution_count": null,
      "outputs": [
        {
          "output_type": "stream",
          "name": "stdout",
          "text": [
            "Epoch 1/5\n",
            "24/24 [==============================] - 4s 67ms/step - loss: 0.0406 - mean_absolute_error: 0.1509\n",
            "Epoch 2/5\n",
            "24/24 [==============================] - 2s 68ms/step - loss: 0.0067 - mean_absolute_error: 0.0650\n",
            "Epoch 3/5\n",
            "24/24 [==============================] - 2s 71ms/step - loss: 0.0028 - mean_absolute_error: 0.0406\n",
            "Epoch 4/5\n",
            "24/24 [==============================] - 2s 69ms/step - loss: 0.0031 - mean_absolute_error: 0.0418\n",
            "Epoch 5/5\n",
            "24/24 [==============================] - 2s 65ms/step - loss: 0.0023 - mean_absolute_error: 0.0345\n"
          ]
        },
        {
          "output_type": "execute_result",
          "data": {
            "text/plain": [
              "<keras.src.callbacks.History at 0x7ba5a44cc610>"
            ]
          },
          "metadata": {},
          "execution_count": 144
        }
      ]
    },
    {
      "cell_type": "code",
      "source": [
        "model.save('keras_model.h5')"
      ],
      "metadata": {
        "colab": {
          "base_uri": "https://localhost:8080/"
        },
        "id": "bYGrFXmqKump",
        "outputId": "d43f77c0-6b98-4e17-c25c-d1ca983603be"
      },
      "execution_count": null,
      "outputs": [
        {
          "output_type": "stream",
          "name": "stderr",
          "text": [
            "/usr/local/lib/python3.10/dist-packages/keras/src/engine/training.py:3103: UserWarning: You are saving your model as an HDF5 file via `model.save()`. This file format is considered legacy. We recommend using instead the native Keras format, e.g. `model.save('my_model.keras')`.\n",
            "  saving_api.save_model(\n"
          ]
        }
      ]
    },
    {
      "cell_type": "code",
      "source": [
        "Y_pred = model.predict(X_test)"
      ],
      "metadata": {
        "colab": {
          "base_uri": "https://localhost:8080/"
        },
        "id": "QFp3GlcxO6q2",
        "outputId": "051021ef-a4db-44ae-d525-ee6b6622c9f2"
      },
      "execution_count": null,
      "outputs": [
        {
          "output_type": "stream",
          "name": "stdout",
          "text": [
            "9/9 [==============================] - 0s 25ms/step\n"
          ]
        }
      ]
    },
    {
      "cell_type": "code",
      "source": [
        "print(Y_pred.shape, Y_test.shape)"
      ],
      "metadata": {
        "colab": {
          "base_uri": "https://localhost:8080/"
        },
        "id": "5z50afgLPLoC",
        "outputId": "32b8b661-1260-49c7-f76c-8b3df34893d5"
      },
      "execution_count": null,
      "outputs": [
        {
          "output_type": "stream",
          "name": "stdout",
          "text": [
            "(287, 1) (287, 1)\n"
          ]
        }
      ]
    },
    {
      "cell_type": "code",
      "source": [
        "Y_pred = scaler.inverse_transform(Y_pred)\n",
        "Y_test = scaler.inverse_transform(Y_test)"
      ],
      "metadata": {
        "collapsed": true,
        "id": "hfRNXmy_XIpM"
      },
      "execution_count": null,
      "outputs": []
    },
    {
      "cell_type": "markdown",
      "source": [
        "## Model Evaluation"
      ],
      "metadata": {
        "id": "9Z4-9G4-P5xF"
      }
    },
    {
      "cell_type": "code",
      "source": [
        "from sklearn.metrics import mean_absolute_error\n",
        "\n",
        "mae = mean_absolute_error(Y_test, Y_pred)\n",
        "print(\"mean absolute error: \", mae)\n",
        "\n",
        "mae_percentage = (mae / np.mean(Y_test)) * 100\n",
        "print(f\"Mean absolute error percentage: {mae_percentage:.2f} %\")"
      ],
      "metadata": {
        "colab": {
          "base_uri": "https://localhost:8080/"
        },
        "id": "uD3VkI8uP4mX",
        "outputId": "1d7ebb2d-0ff6-42b7-859d-403f5f4fc59a"
      },
      "execution_count": null,
      "outputs": [
        {
          "output_type": "stream",
          "name": "stdout",
          "text": [
            "mean absolute error:  14.802393471322405\n",
            "Mean absolute error percentage: 3.74 %\n"
          ]
        }
      ]
    },
    {
      "cell_type": "code",
      "source": [
        "rmse = np.sqrt(np.mean((Y_pred - Y_test) ** 2))\n",
        "print(rmse)\n"
      ],
      "metadata": {
        "colab": {
          "base_uri": "https://localhost:8080/"
        },
        "id": "6lkI2uRsoZ_r",
        "outputId": "d73e63e8-80a8-408a-d759-feb833dd4c7c"
      },
      "execution_count": null,
      "outputs": [
        {
          "output_type": "stream",
          "name": "stdout",
          "text": [
            "21.879387194308173\n"
          ]
        }
      ]
    },
    {
      "cell_type": "code",
      "source": [
        "print(Y_pred.shape, Y_test.shape)"
      ],
      "metadata": {
        "collapsed": true,
        "colab": {
          "base_uri": "https://localhost:8080/"
        },
        "id": "ayDeBjJfPcA3",
        "outputId": "abe492d8-1af2-4b85-cafe-021952278dbf"
      },
      "execution_count": null,
      "outputs": [
        {
          "output_type": "stream",
          "name": "stdout",
          "text": [
            "(287, 1) (287, 1)\n"
          ]
        }
      ]
    },
    {
      "cell_type": "code",
      "source": [
        "print(Y_test)"
      ],
      "metadata": {
        "collapsed": true,
        "colab": {
          "base_uri": "https://localhost:8080/"
        },
        "id": "gXAKwUO9SAay",
        "outputId": "bf89498f-3fc6-4548-de51-05cbf9bc542d"
      },
      "execution_count": null,
      "outputs": [
        {
          "output_type": "stream",
          "name": "stdout",
          "text": [
            "[[284.32998657]\n",
            " [281.64001465]\n",
            " [284.88000488]\n",
            " [288.73001099]\n",
            " [278.47000122]\n",
            " [287.04998779]\n",
            " [285.29000854]\n",
            " [281.52999878]\n",
            " [286.98001099]\n",
            " [286.01998901]\n",
            " [294.36999512]\n",
            " [291.98999023]\n",
            " [290.52999878]\n",
            " [294.1000061 ]\n",
            " [298.29000854]\n",
            " [309.33999634]\n",
            " [313.41000366]\n",
            " [308.86999512]\n",
            " [310.61999512]\n",
            " [312.04998779]\n",
            " [316.01000977]\n",
            " [302.51998901]\n",
            " [294.26000977]\n",
            " [291.60998535]\n",
            " [294.47000122]\n",
            " [298.57000732]\n",
            " [311.70999146]\n",
            " [325.48001099]\n",
            " [318.6000061 ]\n",
            " [322.70999146]\n",
            " [314.30999756]\n",
            " [313.19000244]\n",
            " [310.73001099]\n",
            " [316.55999756]\n",
            " [312.64001465]\n",
            " [305.20999146]\n",
            " [305.73999023]\n",
            " [301.64001465]\n",
            " [306.19000244]\n",
            " [301.95001221]\n",
            " [294.29000854]\n",
            " [285.08999634]\n",
            " [283.25      ]\n",
            " [289.8999939 ]\n",
            " [287.6000061 ]\n",
            " [294.23999023]\n",
            " [286.75      ]\n",
            " [285.5       ]\n",
            " [290.26000977]\n",
            " [297.98999023]\n",
            " [295.1000061 ]\n",
            " [295.89001465]\n",
            " [296.38000488]\n",
            " [300.1499939 ]\n",
            " [299.17001343]\n",
            " [298.67001343]\n",
            " [297.89001465]\n",
            " [307.55999756]\n",
            " [301.66000366]\n",
            " [305.05999756]\n",
            " [311.72000122]\n",
            " [300.30999756]\n",
            " [302.54998779]\n",
            " [305.07000732]\n",
            " [299.67001343]\n",
            " [295.73001099]\n",
            " [299.07998657]\n",
            " [300.82998657]\n",
            " [298.95999146]\n",
            " [297.73999023]\n",
            " [303.95999146]\n",
            " [300.20999146]\n",
            " [306.82000732]\n",
            " [300.94000244]\n",
            " [305.57998657]\n",
            " [304.79000854]\n",
            " [315.42999268]\n",
            " [318.35998535]\n",
            " [321.83999634]\n",
            " [327.82000732]\n",
            " [324.16000366]\n",
            " [314.69000244]\n",
            " [321.1499939 ]\n",
            " [324.        ]\n",
            " [316.97000122]\n",
            " [312.80999756]\n",
            " [308.6499939 ]\n",
            " [314.01000977]\n",
            " [312.54998779]\n",
            " [299.52999878]\n",
            " [288.3500061 ]\n",
            " [296.73001099]\n",
            " [302.66000366]\n",
            " [301.26998901]\n",
            " [311.8500061 ]\n",
            " [310.86999512]\n",
            " [314.6000061 ]\n",
            " [315.79998779]\n",
            " [318.82000732]\n",
            " [319.77999878]\n",
            " [320.54998779]\n",
            " [328.76998901]\n",
            " [329.19000244]\n",
            " [336.30999756]\n",
            " [332.70999146]\n",
            " [334.19000244]\n",
            " [335.04000854]\n",
            " [339.97000122]\n",
            " [336.98001099]\n",
            " [341.48999023]\n",
            " [338.23001099]\n",
            " [334.70001221]\n",
            " [338.98999023]\n",
            " [332.20001221]\n",
            " [327.1499939 ]\n",
            " [324.82000732]\n",
            " [320.01998901]\n",
            " [318.29000854]\n",
            " [317.45001221]\n",
            " [326.58999634]\n",
            " [332.75      ]\n",
            " [325.27999878]\n",
            " [334.22000122]\n",
            " [334.73999023]\n",
            " [333.17001343]\n",
            " [334.92001343]\n",
            " [344.61999512]\n",
            " [350.35998535]\n",
            " [349.27999878]\n",
            " [354.08999634]\n",
            " [353.39001465]\n",
            " [354.82998657]\n",
            " [357.82998657]\n",
            " [358.32000732]\n",
            " [353.95999146]\n",
            " [346.29000854]\n",
            " [344.47000122]\n",
            " [347.11999512]\n",
            " [351.95001221]\n",
            " [358.66000366]\n",
            " [357.42999268]\n",
            " [370.47000122]\n",
            " [369.67001343]\n",
            " [374.48999023]\n",
            " [367.45999146]\n",
            " [368.36999512]\n",
            " [376.13000488]\n",
            " [383.45001221]\n",
            " [381.77999878]\n",
            " [385.20001221]\n",
            " [390.70001221]\n",
            " [393.17999268]\n",
            " [394.14001465]\n",
            " [401.01998901]\n",
            " [400.05999756]\n",
            " [390.14001465]\n",
            " [394.77999878]\n",
            " [474.98999023]\n",
            " [459.41000366]\n",
            " [454.72000122]\n",
            " [469.58999634]\n",
            " [470.        ]\n",
            " [468.10998535]\n",
            " [468.8999939 ]\n",
            " [460.11999512]\n",
            " [473.27999878]\n",
            " [484.02999878]\n",
            " [473.32000732]\n",
            " [471.75      ]\n",
            " [468.02999878]\n",
            " [486.13000488]\n",
            " [484.02999878]\n",
            " [481.73999023]\n",
            " [487.04998779]\n",
            " [484.01998901]\n",
            " [490.13000488]\n",
            " [502.29998779]\n",
            " [498.19000244]\n",
            " [490.22000122]\n",
            " [496.08999634]\n",
            " [512.19000244]\n",
            " [505.95001221]\n",
            " [483.58999634]\n",
            " [499.75      ]\n",
            " [495.57000732]\n",
            " [491.82998657]\n",
            " [484.1000061 ]\n",
            " [496.98001099]\n",
            " [496.23999023]\n",
            " [505.51998901]\n",
            " [507.76000977]\n",
            " [509.57998657]\n",
            " [503.01998901]\n",
            " [495.89001465]\n",
            " [493.85998535]\n",
            " [485.57998657]\n",
            " [491.3500061 ]\n",
            " [497.36999512]\n",
            " [506.73999023]\n",
            " [510.92001343]\n",
            " [527.34002686]\n",
            " [519.25      ]\n",
            " [516.90002441]\n",
            " [519.83001709]\n",
            " [523.15997314]\n",
            " [511.8999939 ]\n",
            " [500.23001099]\n",
            " [499.76000977]\n",
            " [494.17001343]\n",
            " [501.79998779]\n",
            " [481.07000732]\n",
            " [481.73001099]\n",
            " [496.1000061 ]\n",
            " [493.5       ]\n",
            " [441.38000488]\n",
            " [443.29000854]\n",
            " [432.61999512]\n",
            " [430.17001343]\n",
            " [439.19000244]\n",
            " [441.67999268]\n",
            " [451.95999146]\n",
            " [465.67999268]\n",
            " [468.23999023]\n",
            " [472.6000061 ]\n",
            " [475.42001343]\n",
            " [476.20001221]\n",
            " [468.01000977]\n",
            " [471.8500061 ]\n",
            " [481.54000854]\n",
            " [473.23001099]\n",
            " [471.91000366]\n",
            " [468.83999634]\n",
            " [464.63000488]\n",
            " [467.77999878]\n",
            " [465.77999878]\n",
            " [478.22000122]\n",
            " [479.92001343]\n",
            " [474.35998535]\n",
            " [467.04998779]\n",
            " [466.82998657]\n",
            " [477.48999023]\n",
            " [476.98999023]\n",
            " [495.05999756]\n",
            " [493.76000977]\n",
            " [492.95999146]\n",
            " [502.6000061 ]\n",
            " [507.47000122]\n",
            " [508.83999634]\n",
            " [504.1000061 ]\n",
            " [504.16000366]\n",
            " [506.63000488]\n",
            " [499.48999023]\n",
            " [501.70001221]\n",
            " [494.77999878]\n",
            " [498.91000366]\n",
            " [510.6000061 ]\n",
            " [513.11999512]\n",
            " [519.55999756]\n",
            " [504.22000122]\n",
            " [504.67999268]\n",
            " [509.5       ]\n",
            " [509.95999146]\n",
            " [539.90997314]\n",
            " [529.32000732]\n",
            " [530.        ]\n",
            " [534.69000244]\n",
            " [512.70001221]\n",
            " [498.86999512]\n",
            " [496.16000366]\n",
            " [489.79000854]\n",
            " [461.98999023]\n",
            " [475.8500061 ]\n",
            " [476.79000854]\n",
            " [487.3999939 ]\n",
            " [488.69000244]\n",
            " [461.26998901]\n",
            " [453.41000366]\n",
            " [465.70001221]\n",
            " [465.70999146]\n",
            " [463.19000244]\n",
            " [474.82998657]\n",
            " [497.73999023]\n",
            " [488.14001465]\n",
            " [475.73001099]\n",
            " [494.08999634]\n",
            " [488.92001343]\n",
            " [509.63000488]]\n"
          ]
        }
      ]
    },
    {
      "cell_type": "markdown",
      "source": [
        "## visualising the result"
      ],
      "metadata": {
        "id": "jVqtQSio2am1"
      }
    },
    {
      "cell_type": "code",
      "source": [
        "plot_data = df.filter(['Close'])\n",
        "train = plot_data.loc[TIME_STEPS + 1 : TRAIN_SIZE + TIME_STEPS + 1]\n",
        "valid = plot_data.loc[TRAIN_SIZE + TIME_STEPS + 1:]\n",
        "valid['Prediction'] = Y_pred\n",
        "plt.plot(train['Close'])\n",
        "plt.plot(valid[['Close', 'Prediction']])\n",
        "plt.legend(['Train', 'Valid', 'Predictions'], loc='lower right')\n",
        "plt.title('Model Evaluation')\n",
        "plt.ylabel('Closing price in inr')\n",
        "plt.show()"
      ],
      "metadata": {
        "colab": {
          "base_uri": "https://localhost:8080/",
          "height": 556
        },
        "id": "33MxFl6nsX_B",
        "outputId": "911e44f1-0c0c-407f-d185-ddf84c1fdea9"
      },
      "execution_count": null,
      "outputs": [
        {
          "output_type": "stream",
          "name": "stderr",
          "text": [
            "<ipython-input-153-0de5aac6adf8>:4: SettingWithCopyWarning: \n",
            "A value is trying to be set on a copy of a slice from a DataFrame.\n",
            "Try using .loc[row_indexer,col_indexer] = value instead\n",
            "\n",
            "See the caveats in the documentation: https://pandas.pydata.org/pandas-docs/stable/user_guide/indexing.html#returning-a-view-versus-a-copy\n",
            "  valid['Prediction'] = Y_pred\n"
          ]
        },
        {
          "output_type": "display_data",
          "data": {
            "text/plain": [
              "<Figure size 640x480 with 1 Axes>"
            ],
            "image/png": "[encoded data removed]"
          },
          "metadata": {}
        }
      ]
    }
  ]
}