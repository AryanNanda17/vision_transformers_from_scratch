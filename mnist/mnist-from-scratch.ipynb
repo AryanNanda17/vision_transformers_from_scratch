{
 "cells": [
  {
   "cell_type": "code",
   "execution_count": 1,
   "id": "24aca839",
   "metadata": {
    "_cell_guid": "b1076dfc-b9ad-4769-8c92-a6c4dae69d19",
    "_uuid": "8f2839f25d086af736a60e9eeb907d3b93b6e0e5",
    "execution": {
     "iopub.execute_input": "2024-07-14T13:09:52.704953Z",
     "iopub.status.busy": "2024-07-14T13:09:52.704550Z",
     "iopub.status.idle": "2024-07-14T13:09:53.731891Z",
     "shell.execute_reply": "2024-07-14T13:09:53.730525Z"
    },
    "papermill": {
     "duration": 1.038138,
     "end_time": "2024-07-14T13:09:53.734893",
     "exception": false,
     "start_time": "2024-07-14T13:09:52.696755",
     "status": "completed"
    },
    "tags": []
   },
   "outputs": [],
   "source": [
    "import numpy as np # For Scientific Computation\n",
    "import matplotlib\n",
    "import pandas as pd\n",
    "import matplotlib.pyplot as plt"
   ]
  },
  {
   "cell_type": "code",
   "execution_count": 2,
   "id": "4e3c486b",
   "metadata": {
    "execution": {
     "iopub.execute_input": "2024-07-14T13:09:53.748816Z",
     "iopub.status.busy": "2024-07-14T13:09:53.748236Z",
     "iopub.status.idle": "2024-07-14T13:09:57.839302Z",
     "shell.execute_reply": "2024-07-14T13:09:57.838029Z"
    },
    "papermill": {
     "duration": 4.101193,
     "end_time": "2024-07-14T13:09:57.842254",
     "exception": false,
     "start_time": "2024-07-14T13:09:53.741061",
     "status": "completed"
    },
    "tags": []
   },
   "outputs": [],
   "source": [
    "data = pd.read_csv('/kaggle/input/digit-recognizer/train.csv')"
   ]
  },
  {
   "cell_type": "code",
   "execution_count": 3,
   "id": "81f83c25",
   "metadata": {
    "execution": {
     "iopub.execute_input": "2024-07-14T13:09:57.856103Z",
     "iopub.status.busy": "2024-07-14T13:09:57.855709Z",
     "iopub.status.idle": "2024-07-14T13:09:58.579146Z",
     "shell.execute_reply": "2024-07-14T13:09:58.577888Z"
    },
    "papermill": {
     "duration": 0.733276,
     "end_time": "2024-07-14T13:09:58.581848",
     "exception": false,
     "start_time": "2024-07-14T13:09:57.848572",
     "status": "completed"
    },
    "tags": []
   },
   "outputs": [
    {
     "data": {
      "text/plain": [
       "(42000, 785)"
      ]
     },
     "execution_count": 3,
     "metadata": {},
     "output_type": "execute_result"
    }
   ],
   "source": [
    "data = np.array(data)\n",
    "m, n = data.shape\n",
    "np.random.shuffle(data)\n",
    "\n",
    "data.shape\n"
   ]
  },
  {
   "cell_type": "code",
   "execution_count": 4,
   "id": "6d9792f2",
   "metadata": {
    "execution": {
     "iopub.execute_input": "2024-07-14T13:09:58.595272Z",
     "iopub.status.busy": "2024-07-14T13:09:58.594905Z",
     "iopub.status.idle": "2024-07-14T13:09:58.721701Z",
     "shell.execute_reply": "2024-07-14T13:09:58.720505Z"
    },
    "papermill": {
     "duration": 0.136983,
     "end_time": "2024-07-14T13:09:58.724726",
     "exception": false,
     "start_time": "2024-07-14T13:09:58.587743",
     "status": "completed"
    },
    "tags": []
   },
   "outputs": [],
   "source": [
    "# take first 1000 examples and transpose them so that each column represents a image\n",
    "test = data[0 : 1000].T\n",
    "Y_test = test[0]\n",
    "X_test = test[1:n]\n",
    "X_test = X_test / 255\n",
    "\n",
    "train = data[1000 : m].T\n",
    "Y_train = train[0]\n",
    "X_train = train[1 : n]\n",
    "X_train = X_train / 255\n",
    "_, m_train = X_train.shape"
   ]
  },
  {
   "cell_type": "code",
   "execution_count": 5,
   "id": "93b4e18c",
   "metadata": {
    "execution": {
     "iopub.execute_input": "2024-07-14T13:09:58.742018Z",
     "iopub.status.busy": "2024-07-14T13:09:58.740547Z",
     "iopub.status.idle": "2024-07-14T13:09:58.749103Z",
     "shell.execute_reply": "2024-07-14T13:09:58.747499Z"
    },
    "papermill": {
     "duration": 0.021917,
     "end_time": "2024-07-14T13:09:58.752620",
     "exception": false,
     "start_time": "2024-07-14T13:09:58.730703",
     "status": "completed"
    },
    "tags": []
   },
   "outputs": [
    {
     "name": "stdout",
     "output_type": "stream",
     "text": [
      "(784, 41000)\n",
      "(41000,)\n"
     ]
    }
   ],
   "source": [
    "print(X_train.shape)\n",
    "print(Y_train.shape)"
   ]
  },
  {
   "cell_type": "code",
   "execution_count": 6,
   "id": "81a35c1d",
   "metadata": {
    "execution": {
     "iopub.execute_input": "2024-07-14T13:09:58.772305Z",
     "iopub.status.busy": "2024-07-14T13:09:58.771318Z",
     "iopub.status.idle": "2024-07-14T13:09:58.781475Z",
     "shell.execute_reply": "2024-07-14T13:09:58.780145Z"
    },
    "papermill": {
     "duration": 0.026667,
     "end_time": "2024-07-14T13:09:58.786411",
     "exception": false,
     "start_time": "2024-07-14T13:09:58.759744",
     "status": "completed"
    },
    "tags": []
   },
   "outputs": [],
   "source": [
    "def ReLU(Z):\n",
    "    return np.maximum(Z, 0)\n",
    "\n",
    "def softmax(Z):\n",
    "    A = np.exp(Z) / sum(np.exp(Z))\n",
    "    return A\n",
    "\n",
    "def ReLU_deriv(Z):\n",
    "    return Z > 0\n",
    "\n",
    "def one_hot(Y):\n",
    "    one_hot_Y = np.zeros((Y.size, Y.max() + 1))\n",
    "    one_hot_Y[np.arange(Y.size), Y] = 1\n",
    "    one_hot_Y = one_hot_Y.T\n",
    "    return one_hot_Y"
   ]
  },
  {
   "cell_type": "code",
   "execution_count": 7,
   "id": "1841e366",
   "metadata": {
    "execution": {
     "iopub.execute_input": "2024-07-14T13:09:58.804349Z",
     "iopub.status.busy": "2024-07-14T13:09:58.803871Z",
     "iopub.status.idle": "2024-07-14T13:09:58.821549Z",
     "shell.execute_reply": "2024-07-14T13:09:58.819577Z"
    },
    "papermill": {
     "duration": 0.029897,
     "end_time": "2024-07-14T13:09:58.824300",
     "exception": false,
     "start_time": "2024-07-14T13:09:58.794403",
     "status": "completed"
    },
    "tags": []
   },
   "outputs": [],
   "source": [
    "def init_params():\n",
    "    W1 = np.random.randn(10, 784) * 0.1\n",
    "    b1 = np.zeros((10, 1))\n",
    "    W2 = np.random.randn(10, 10) * 0.1\n",
    "    b2 = np.zeros((10, 1))\n",
    "    return W1, b1, W2, b2\n",
    "\n",
    "def forward_prop(W1, b1, W2, b2, X):\n",
    "    Z1 =  W1.dot(X) + b1\n",
    "    A1 = ReLU(Z1)\n",
    "    Z2 = W2.dot(A1)  + b2\n",
    "    A2 = softmax(Z2)\n",
    "    return Z1, A1, Z2, A2\n",
    "\n",
    "def backward_prop(Z1, A1, Z2, A2, W1, W2, X, Y):\n",
    "    one_hot_Y = one_hot(Y)\n",
    "    dZ2 = A2 - one_hot_Y\n",
    "    dW2 = 1 / m * dZ2.dot(A1.T)\n",
    "    db2 = 1 / m * np.sum(dZ2)\n",
    "    dZ1 = W2.T.dot(dZ2) * ReLU_deriv(Z1)\n",
    "    dW1 = 1 / m * dZ1.dot(X.T)\n",
    "    db1 = 1 / m * np.sum(dZ1)\n",
    "    return dW1, db1, dW2, db2\n",
    "\n",
    "def update_params(W1, b1, W2, b2, dW1, db1, dW2, db2, alpha):\n",
    "    W1 = W1 - alpha * dW1\n",
    "    b1 = b1 - alpha * db1    \n",
    "    W2 = W2 - alpha * dW2  \n",
    "    b2 = b2 - alpha * db2    \n",
    "    return W1, b1, W2, b2\n",
    "    \n"
   ]
  },
  {
   "cell_type": "code",
   "execution_count": 8,
   "id": "9714e7ae",
   "metadata": {
    "execution": {
     "iopub.execute_input": "2024-07-14T13:09:58.837923Z",
     "iopub.status.busy": "2024-07-14T13:09:58.837523Z",
     "iopub.status.idle": "2024-07-14T13:09:58.843605Z",
     "shell.execute_reply": "2024-07-14T13:09:58.842481Z"
    },
    "papermill": {
     "duration": 0.015667,
     "end_time": "2024-07-14T13:09:58.845964",
     "exception": false,
     "start_time": "2024-07-14T13:09:58.830297",
     "status": "completed"
    },
    "tags": []
   },
   "outputs": [],
   "source": [
    "def get_predictions(A2):\n",
    "    return np.argmax(A2, 0)\n",
    "\n",
    "def get_accuracy(predictions, Y):\n",
    "    print(predictions, Y)\n",
    "    return np.sum(predictions == Y) / Y.size"
   ]
  },
  {
   "cell_type": "code",
   "execution_count": 9,
   "id": "644857ba",
   "metadata": {
    "execution": {
     "iopub.execute_input": "2024-07-14T13:09:58.859407Z",
     "iopub.status.busy": "2024-07-14T13:09:58.858998Z",
     "iopub.status.idle": "2024-07-14T13:09:58.867280Z",
     "shell.execute_reply": "2024-07-14T13:09:58.866181Z"
    },
    "papermill": {
     "duration": 0.018034,
     "end_time": "2024-07-14T13:09:58.869996",
     "exception": false,
     "start_time": "2024-07-14T13:09:58.851962",
     "status": "completed"
    },
    "tags": []
   },
   "outputs": [],
   "source": [
    "def gradient_descent(X, Y, alpha, iterations):\n",
    "    W1, b1, W2, b2 = init_params()\n",
    "    for i in range(iterations):\n",
    "        Z1, A1, Z2, A2 = forward_prop(W1, b1, W2, b2, X)\n",
    "        dW1, db1, dW2, db2 = backward_prop(Z1, A1, Z2, A2, W1, W2, X, Y)\n",
    "        W1, b1, W2, b2 = update_params(W1, b1, W2, b2, dW1, db1, dW2, db2, alpha)\n",
    "        if i % 50 == 0:\n",
    "            print(\"Iteration: \", i)\n",
    "            predictions = get_predictions(A2)\n",
    "            print(get_accuracy(predictions, Y))\n",
    "    return W1, b1, W2, b2"
   ]
  },
  {
   "cell_type": "code",
   "execution_count": 10,
   "id": "a98877f1",
   "metadata": {
    "execution": {
     "iopub.execute_input": "2024-07-14T13:09:58.883346Z",
     "iopub.status.busy": "2024-07-14T13:09:58.882915Z",
     "iopub.status.idle": "2024-07-14T13:11:56.878985Z",
     "shell.execute_reply": "2024-07-14T13:11:56.877460Z"
    },
    "papermill": {
     "duration": 118.007618,
     "end_time": "2024-07-14T13:11:56.883456",
     "exception": false,
     "start_time": "2024-07-14T13:09:58.875838",
     "status": "completed"
    },
    "tags": []
   },
   "outputs": [
    {
     "name": "stdout",
     "output_type": "stream",
     "text": [
      "Iteration:  0\n",
      "[2 2 8 ... 2 2 2] [9 8 1 ... 2 3 3]\n",
      "0.09253658536585366\n",
      "Iteration:  50\n",
      "[6 8 1 ... 1 8 3] [9 8 1 ... 2 3 3]\n",
      "0.5341951219512195\n",
      "Iteration:  100\n",
      "[4 8 1 ... 2 8 3] [9 8 1 ... 2 3 3]\n",
      "0.751219512195122\n",
      "Iteration:  150\n",
      "[4 8 1 ... 2 8 3] [9 8 1 ... 2 3 3]\n",
      "0.8123170731707318\n",
      "Iteration:  200\n",
      "[9 8 1 ... 2 8 3] [9 8 1 ... 2 3 3]\n",
      "0.8422682926829268\n",
      "Iteration:  250\n",
      "[9 8 1 ... 2 8 3] [9 8 1 ... 2 3 3]\n",
      "0.8599512195121951\n",
      "Iteration:  300\n",
      "[9 8 1 ... 2 8 3] [9 8 1 ... 2 3 3]\n",
      "0.8711951219512195\n",
      "Iteration:  350\n",
      "[9 8 1 ... 2 8 3] [9 8 1 ... 2 3 3]\n",
      "0.8783414634146341\n",
      "Iteration:  400\n",
      "[9 8 1 ... 2 8 3] [9 8 1 ... 2 3 3]\n",
      "0.8839268292682927\n",
      "Iteration:  450\n",
      "[9 8 1 ... 2 8 3] [9 8 1 ... 2 3 3]\n",
      "0.8876341463414634\n",
      "Iteration:  500\n",
      "[9 8 1 ... 2 8 3] [9 8 1 ... 2 3 3]\n",
      "0.8906829268292683\n",
      "Iteration:  550\n",
      "[9 8 1 ... 2 8 3] [9 8 1 ... 2 3 3]\n",
      "0.8938048780487805\n",
      "Iteration:  600\n",
      "[9 8 1 ... 2 8 3] [9 8 1 ... 2 3 3]\n",
      "0.8960487804878049\n",
      "Iteration:  650\n",
      "[9 8 1 ... 2 8 3] [9 8 1 ... 2 3 3]\n",
      "0.8981951219512195\n",
      "Iteration:  700\n",
      "[9 8 1 ... 2 8 3] [9 8 1 ... 2 3 3]\n",
      "0.8999512195121951\n",
      "Iteration:  750\n",
      "[9 8 1 ... 2 8 3] [9 8 1 ... 2 3 3]\n",
      "0.9015853658536586\n",
      "Iteration:  800\n",
      "[9 8 1 ... 2 8 3] [9 8 1 ... 2 3 3]\n",
      "0.9032439024390244\n",
      "Iteration:  850\n",
      "[9 8 1 ... 2 8 3] [9 8 1 ... 2 3 3]\n",
      "0.904829268292683\n",
      "Iteration:  900\n",
      "[9 8 1 ... 2 8 3] [9 8 1 ... 2 3 3]\n",
      "0.9062682926829269\n",
      "Iteration:  950\n",
      "[9 8 1 ... 2 8 3] [9 8 1 ... 2 3 3]\n",
      "0.9075121951219512\n"
     ]
    }
   ],
   "source": [
    "W1, b1, W2, b2 = gradient_descent(X_train, Y_train, 0.10, 1000)"
   ]
  },
  {
   "cell_type": "code",
   "execution_count": 11,
   "id": "1484ee7b",
   "metadata": {
    "execution": {
     "iopub.execute_input": "2024-07-14T13:11:56.918731Z",
     "iopub.status.busy": "2024-07-14T13:11:56.918072Z",
     "iopub.status.idle": "2024-07-14T13:11:56.936403Z",
     "shell.execute_reply": "2024-07-14T13:11:56.934866Z"
    },
    "papermill": {
     "duration": 0.040715,
     "end_time": "2024-07-14T13:11:56.941294",
     "exception": false,
     "start_time": "2024-07-14T13:11:56.900579",
     "status": "completed"
    },
    "tags": []
   },
   "outputs": [],
   "source": [
    "def make_predictions(X, W1, b1, W2, b2):\n",
    "    _, _, _, A2 = forward_prop(W1, b1, W2, b2, X)\n",
    "    predictions = get_predictions(A2)\n",
    "    return predictions\n",
    "\n",
    "def test_prediction(index, W1, b1, W2, b2):\n",
    "    current_image = X_train[:, index, None]\n",
    "    prediction = make_predictions(X_train[:, index, None], W1, b1, W2, b2)\n",
    "    label = Y_train[index]\n",
    "    print(\"Prediction: \", prediction)\n",
    "    print(\"Label: \", label)\n",
    "    \n",
    "    current_image = current_image.reshape((28, 28)) * 255\n",
    "    plt.gray()\n",
    "    plt.imshow(current_image, interpolation='nearest')\n",
    "    plt.show()"
   ]
  },
  {
   "cell_type": "code",
   "execution_count": 12,
   "id": "b781f3ad",
   "metadata": {
    "execution": {
     "iopub.execute_input": "2024-07-14T13:11:56.975695Z",
     "iopub.status.busy": "2024-07-14T13:11:56.975017Z",
     "iopub.status.idle": "2024-07-14T13:11:57.262165Z",
     "shell.execute_reply": "2024-07-14T13:11:57.260827Z"
    },
    "papermill": {
     "duration": 0.307583,
     "end_time": "2024-07-14T13:11:57.265291",
     "exception": false,
     "start_time": "2024-07-14T13:11:56.957708",
     "status": "completed"
    },
    "tags": []
   },
   "outputs": [
    {
     "name": "stdout",
     "output_type": "stream",
     "text": [
      "Prediction:  [0]\n",
      "Label:  0\n"
     ]
    },
    {
     "data": {
      "image/png": "[encoded data removed]",
      "text/plain": [
       "<Figure size 640x480 with 1 Axes>"
      ]
     },
     "metadata": {},
     "output_type": "display_data"
    }
   ],
   "source": [
    "test_prediction(88, W1, b1, W2, b2)"
   ]
  },
  {
   "cell_type": "code",
   "execution_count": 13,
   "id": "466f3109",
   "metadata": {
    "execution": {
     "iopub.execute_input": "2024-07-14T13:11:57.283189Z",
     "iopub.status.busy": "2024-07-14T13:11:57.282826Z",
     "iopub.status.idle": "2024-07-14T13:11:57.311759Z",
     "shell.execute_reply": "2024-07-14T13:11:57.310068Z"
    },
    "papermill": {
     "duration": 0.0424,
     "end_time": "2024-07-14T13:11:57.315777",
     "exception": false,
     "start_time": "2024-07-14T13:11:57.273377",
     "status": "completed"
    },
    "tags": []
   },
   "outputs": [
    {
     "name": "stdout",
     "output_type": "stream",
     "text": [
      "[7 8 1 9 4 1 9 6 9 1 8 2 2 3 6 8 1 2 6 1 4 9 0 6 4 7 7 4 1 6 3 0 6 7 4 8 6\n",
      " 7 5 8 0 2 8 3 9 0 1 8 5 9 6 1 4 1 9 3 0 1 3 3 5 5 6 4 0 4 3 7 7 3 9 0 5 2\n",
      " 1 2 8 1 7 5 5 1 9 3 7 8 4 9 0 9 2 0 8 8 9 6 0 1 6 3 2 4 6 7 3 7 3 9 2 7 1\n",
      " 6 4 3 7 5 3 1 0 0 9 2 2 8 6 2 2 5 2 8 0 7 3 8 5 1 3 3 6 1 3 5 8 9 9 6 3 1\n",
      " 6 9 9 8 0 2 5 1 5 5 0 5 5 7 7 9 0 0 5 1 1 4 7 1 5 8 8 2 1 1 8 5 5 2 1 1 2\n",
      " 0 5 7 8 4 5 9 3 6 1 8 0 1 2 6 3 5 2 1 3 2 5 9 8 0 4 2 7 7 1 5 3 9 5 3 4 9\n",
      " 8 4 1 9 0 2 0 7 6 7 8 7 6 1 1 0 3 6 4 2 4 5 8 2 4 6 1 7 6 6 5 0 8 4 2 8 6\n",
      " 9 3 3 6 5 2 0 8 0 9 3 2 4 4 0 5 3 3 4 0 0 4 0 3 0 9 9 4 7 7 5 9 5 9 0 2 7\n",
      " 6 3 7 9 9 0 8 6 8 1 0 3 5 0 1 3 3 3 4 6 1 8 5 0 2 0 7 3 6 6 2 0 8 8 4 9 3\n",
      " 6 1 9 8 1 5 3 5 3 3 2 1 0 2 6 2 3 9 5 4 6 6 9 4 0 1 3 4 4 4 7 2 6 0 4 5 2\n",
      " 8 8 4 7 7 1 1 7 0 8 3 0 9 9 4 6 2 3 5 7 3 8 2 8 7 1 6 3 0 2 9 2 5 9 1 5 5\n",
      " 8 8 1 2 7 6 6 0 9 7 2 2 4 1 1 0 9 7 4 6 5 5 1 8 2 8 2 3 9 0 8 5 8 3 5 8 9\n",
      " 0 2 8 7 7 5 2 2 7 6 4 0 1 6 9 3 7 6 0 7 9 5 5 9 2 9 9 6 4 5 9 4 3 8 7 6 9\n",
      " 0 5 7 2 7 4 0 3 3 3 6 6 5 2 4 4 9 9 1 1 8 9 3 0 2 1 6 3 7 2 4 1 2 0 5 0 1\n",
      " 4 7 9 8 6 4 8 9 8 8 9 3 9 2 6 5 0 0 3 6 0 1 9 4 7 3 4 7 6 2 6 6 8 0 5 4 6\n",
      " 3 3 1 5 5 4 1 6 3 3 9 9 1 0 7 8 1 3 1 8 9 4 2 7 7 7 5 8 6 4 2 8 2 0 1 3 1\n",
      " 5 5 9 0 0 7 8 8 7 2 4 3 6 5 1 2 4 1 6 8 5 7 1 5 8 4 7 1 1 7 6 5 0 1 5 3 9\n",
      " 0 2 6 6 6 2 5 3 3 8 0 9 9 4 5 2 5 8 9 9 7 1 7 0 5 3 0 1 5 1 2 2 5 3 9 0 8\n",
      " 3 7 7 3 7 7 4 9 2 4 0 2 2 9 9 0 6 4 9 1 4 0 0 7 7 1 2 7 1 3 5 7 3 7 0 7 1\n",
      " 6 3 8 1 6 9 7 7 4 2 0 8 7 6 7 4 7 6 4 3 6 9 6 4 6 5 2 3 1 6 1 0 1 9 7 0 3\n",
      " 1 5 8 0 2 0 4 2 5 5 1 1 0 9 8 4 9 4 4 1 7 7 6 6 7 0 2 5 9 3 9 7 1 3 6 5 1\n",
      " 9 3 2 6 0 1 1 3 3 8 7 5 9 5 3 2 9 9 6 1 7 5 3 2 6 0 4 9 5 2 7 9 1 2 9 5 8\n",
      " 9 7 2 2 0 6 1 4 3 2 5 1 7 2 0 5 5 8 5 3 0 7 0 2 0 5 5 0 0 3 8 3 5 9 8 2 8\n",
      " 4 3 0 1 0 1 6 4 2 6 5 2 6 7 8 9 2 2 9 1 6 9 0 5 8 8 5 1 8 4 4 0 8 0 9 8 0\n",
      " 9 0 1 4 1 2 6 4 0 3 7 8 2 2 7 3 2 2 7 9 8 0 5 8 5 0 6 6 2 3 5 5 2 6 6 0 1\n",
      " 4 2 4 1 1 8 4 6 5 5 1 0 8 6 2 8 5 2 1 3 9 9 4 6 6 1 1 4 1 0 0 0 8 8 9 6 3\n",
      " 4 2 5 9 3 3 2 8 5 2 3 6 1 8 1 1 5 4 0 0 8 2 7 3 2 7 9 1 0 5 2 8 9 2 7 9 8\n",
      " 7] [7 8 1 9 4 1 9 6 9 1 5 2 2 3 6 8 1 2 6 1 4 7 0 6 4 7 7 4 1 6 5 0 6 4 4 8 6\n",
      " 7 5 8 0 2 0 3 9 0 1 8 3 9 6 1 4 1 9 3 0 1 3 3 5 5 6 4 0 4 3 7 7 3 9 0 5 2\n",
      " 1 2 8 1 7 5 5 1 9 3 7 8 4 9 0 9 2 0 8 8 4 6 0 1 6 3 2 4 6 7 5 7 3 9 2 7 1\n",
      " 8 4 3 7 5 5 1 0 0 9 4 2 8 6 2 2 5 2 8 0 7 5 8 5 1 3 3 6 1 3 5 8 9 9 6 3 1\n",
      " 6 9 3 8 0 2 5 8 5 5 0 5 5 7 7 9 0 0 5 1 1 4 7 1 0 8 2 2 1 8 8 5 5 2 1 1 2\n",
      " 0 5 7 5 4 5 9 3 6 1 8 0 1 2 6 3 5 2 1 3 2 5 9 8 0 4 2 9 7 1 5 3 9 5 5 4 9\n",
      " 8 4 1 9 0 2 0 7 6 7 5 9 0 1 1 0 3 6 4 2 4 5 8 2 4 6 1 7 6 6 5 0 2 4 2 8 6\n",
      " 9 3 3 6 9 2 0 8 0 9 3 2 4 4 0 5 3 3 4 0 0 4 0 3 0 9 9 4 7 7 8 9 5 9 0 2 7\n",
      " 6 3 7 9 9 0 8 6 8 3 0 3 5 0 1 3 3 5 4 5 1 8 5 0 2 0 7 3 6 6 2 0 8 8 4 9 3\n",
      " 6 1 9 8 1 5 2 5 8 3 2 1 0 2 6 2 3 9 5 5 6 6 9 4 0 1 3 4 4 4 7 2 6 0 4 5 2\n",
      " 8 8 4 7 7 1 1 7 0 8 3 9 9 9 4 6 3 3 5 7 3 8 2 8 7 1 6 3 0 2 9 2 5 9 1 5 5\n",
      " 8 8 1 2 7 6 6 2 9 7 2 2 4 1 1 0 9 1 4 4 5 5 1 8 2 8 2 5 9 0 8 5 8 3 5 8 9\n",
      " 0 2 8 7 7 5 2 2 7 6 4 0 1 6 9 3 8 6 0 7 9 5 5 9 7 7 9 6 7 5 9 4 3 8 7 6 9\n",
      " 0 5 7 2 7 2 0 3 3 3 6 6 5 2 4 4 9 4 1 1 8 4 3 0 2 1 5 3 7 2 4 1 2 0 5 0 1\n",
      " 2 7 9 8 6 4 8 7 8 8 4 3 9 2 6 5 5 2 3 6 0 1 9 4 7 3 4 7 6 2 6 6 8 5 5 4 6\n",
      " 3 9 1 3 5 4 1 6 3 3 9 9 1 0 7 5 1 5 1 8 9 4 2 7 7 7 5 8 6 4 2 2 2 0 1 3 1\n",
      " 5 5 9 0 0 7 8 8 7 2 4 3 6 5 1 2 4 1 6 8 5 7 5 5 8 4 2 1 1 7 6 5 0 1 5 3 9\n",
      " 0 2 6 6 6 2 5 3 3 8 0 9 9 4 5 2 5 8 9 4 7 1 7 0 5 3 0 1 5 1 2 7 5 3 9 0 8\n",
      " 3 7 7 3 7 7 4 9 3 9 0 2 2 9 9 0 6 5 9 1 4 0 0 7 9 1 4 7 1 3 5 7 3 7 0 7 1\n",
      " 6 3 8 1 6 9 7 7 4 2 0 1 7 6 9 4 7 6 4 3 6 9 6 4 6 5 2 3 1 6 1 0 1 9 7 0 3\n",
      " 1 5 8 0 2 0 4 2 5 5 1 1 0 9 8 4 7 4 4 1 4 7 6 6 9 0 2 5 3 3 7 2 1 3 1 1 1\n",
      " 9 3 2 6 0 1 1 3 3 8 7 7 9 3 3 2 9 9 6 1 7 3 3 4 6 0 4 9 5 2 7 7 1 2 7 5 8\n",
      " 9 7 2 2 0 6 1 4 5 2 5 1 7 2 0 5 5 8 5 3 0 7 0 2 0 5 5 0 0 3 8 3 5 9 8 2 8\n",
      " 6 3 0 1 0 1 6 4 2 6 5 2 6 7 8 9 2 2 8 1 6 9 0 5 8 3 5 1 8 9 4 0 8 0 9 3 0\n",
      " 9 0 1 4 1 2 6 4 0 2 7 8 2 2 7 3 2 2 7 9 1 0 5 8 0 0 6 6 2 3 5 5 2 6 6 0 8\n",
      " 4 2 4 1 1 8 4 6 5 5 1 0 8 6 2 8 5 2 1 3 9 9 4 6 6 1 1 4 1 0 0 0 8 8 9 6 3\n",
      " 4 2 5 9 3 3 2 8 5 2 3 6 1 1 1 1 5 4 0 0 3 2 7 3 2 7 9 1 0 5 2 8 9 2 7 9 8\n",
      " 7]\n"
     ]
    },
    {
     "data": {
      "text/plain": [
       "0.906"
      ]
     },
     "execution_count": 13,
     "metadata": {},
     "output_type": "execute_result"
    }
   ],
   "source": [
    "dev_predictions = make_predictions(X_test, W1, b1, W2, b2)\n",
    "get_accuracy(dev_predictions, Y_test)"
   ]
  },
  {
   "cell_type": "code",
   "execution_count": null,
   "id": "b6d555a7",
   "metadata": {
    "papermill": {
     "duration": 0.016938,
     "end_time": "2024-07-14T13:11:57.350279",
     "exception": false,
     "start_time": "2024-07-14T13:11:57.333341",
     "status": "completed"
    },
    "tags": []
   },
   "outputs": [],
   "source": []
  }
 ],
 "metadata": {
  "kaggle": {
   "accelerator": "none",
   "dataSources": [
    {
     "databundleVersionId": 861823,
     "sourceId": 3004,
     "sourceType": "competition"
    }
   ],
   "dockerImageVersionId": 30746,
   "isGpuEnabled": false,
   "isInternetEnabled": false,
   "language": "python",
   "sourceType": "notebook"
  },
  "kernelspec": {
   "display_name": "Python 3",
   "language": "python",
   "name": "python3"
  },
  "language_info": {
   "codemirror_mode": {
    "name": "ipython",
    "version": 3
   },
   "file_extension": ".py",
   "mimetype": "text/x-python",
   "name": "python",
   "nbconvert_exporter": "python",
   "pygments_lexer": "ipython3",
   "version": "3.10.13"
  },
  "papermill": {
   "default_parameters": {},
   "duration": 128.371463,
   "end_time": "2024-07-14T13:11:57.892513",
   "environment_variables": {},
   "exception": null,
   "input_path": "__notebook__.ipynb",
   "output_path": "__notebook__.ipynb",
   "parameters": {},
   "start_time": "2024-07-14T13:09:49.521050",
   "version": "2.5.0"
  }
 },
 "nbformat": 4,
 "nbformat_minor": 5
}
