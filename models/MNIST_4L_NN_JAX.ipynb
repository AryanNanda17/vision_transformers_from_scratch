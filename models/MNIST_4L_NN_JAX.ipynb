{
  "cells": [
    {
      "cell_type": "code",
      "execution_count": 1,
      "metadata": {
        "id": "-rk1dMlHA_Gs"
      },
      "outputs": [],
      "source": [
        "import jax\n",
        "import jax.numpy as jnp\n",
        "from jax import grad, jit\n",
        "import pandas as pd\n",
        "from matplotlib import pyplot as plt"
      ]
    },
    {
      "cell_type": "code",
      "source": [
        "print(jax.devices())"
      ],
      "metadata": {
        "colab": {
          "base_uri": "https://localhost:8080/"
        },
        "id": "JwAfNuP4B0Ey",
        "outputId": "1c8f5ce2-6ef7-487a-b3a3-1e64af2891a5"
      },
      "execution_count": 2,
      "outputs": [
        {
          "output_type": "stream",
          "name": "stdout",
          "text": [
            "[cuda(id=0)]\n"
          ]
        }
      ]
    },
    {
      "cell_type": "code",
      "source": [
        "data_train = pd.read_csv('/content/sample_data/mnist_train_small.csv')\n",
        "data_test = pd.read_csv('/content/sample_data/mnist_test.csv')"
      ],
      "metadata": {
        "id": "b1AIxylrcRey"
      },
      "execution_count": 3,
      "outputs": []
    },
    {
      "cell_type": "code",
      "source": [
        "train_set = jnp.array(data_train.values).T\n",
        "n, m = train_set.shape\n",
        "print(n, m)\n",
        "\n",
        "key = jax.random.PRNGKey(45) # PRNG key for randomization\n",
        "\n",
        "# Shuffle the dataset\n",
        "train_set_shuffled = jax.random.permutation(key, train_set.T).T\n",
        "\n",
        "Y_train = train_set_shuffled[0,:m].reshape(1,m).astype(jnp.float32)\n",
        "X_train = train_set_shuffled[1:n,:m]\n",
        "X_train = X_train / 255\n",
        "\n",
        "print(Y_train.shape)\n",
        "print(X_train.shape) #1 column is a single training example\n",
        "\n",
        "test_set = jnp.array(data_test).T\n",
        "p,q = test_set.shape\n",
        "print(p,q)\n",
        "\n",
        "# Y_test = test_set[0].reshape(1,q)\n",
        "Y_test = test_set[0,:q].reshape(1,q).astype(jnp.float32)\n",
        "X_test = test_set[1:p,:q] / 255\n",
        "\n"
      ],
      "metadata": {
        "colab": {
          "base_uri": "https://localhost:8080/"
        },
        "id": "HYjRC6BWcsCo",
        "outputId": "c4832996-51eb-419f-d2ce-8a581b9975ff"
      },
      "execution_count": 4,
      "outputs": [
        {
          "output_type": "stream",
          "name": "stdout",
          "text": [
            "785 19999\n",
            "(1, 19999)\n",
            "(784, 19999)\n",
            "785 9999\n"
          ]
        }
      ]
    },
    {
      "cell_type": "code",
      "source": [
        "n = 100\n",
        "plt.imshow(X_train[:,n].reshape(28,28),cmap='gray')\n",
        "print(Y_train[0,n])\n",
        "plt.show()\n"
      ],
      "metadata": {
        "colab": {
          "base_uri": "https://localhost:8080/",
          "height": 447
        },
        "id": "gfy6jZwwYF0_",
        "outputId": "6466592f-6f80-48cd-f08b-512769dcfe7c"
      },
      "execution_count": 5,
      "outputs": [
        {
          "output_type": "stream",
          "name": "stdout",
          "text": [
            "3.0\n"
          ]
        },
        {
          "output_type": "display_data",
          "data": {
            "text/plain": [
              "<Figure size 640x480 with 1 Axes>"
            ],
            "image/png": "[encoded data removed]"
          },
          "metadata": {}
        }
      ]
    },
    {
      "cell_type": "code",
      "source": [
        "def one_hot(Y, n):\n",
        "    return jax.nn.one_hot(Y, num_classes=n).astype(jnp.float32)\n",
        "\n",
        "Y_train_oh = one_hot(Y_train, 10).squeeze() # had one extra dimension -> .squeeze()\n",
        "Y_test_oh = one_hot(Y_test, 10).squeeze()"
      ],
      "metadata": {
        "id": "hM2DIo3_RMrn"
      },
      "execution_count": 6,
      "outputs": []
    },
    {
      "cell_type": "code",
      "source": [
        "\n",
        "\n",
        "print(X_train.dtype)\n",
        "print(Y_train.dtype)\n",
        "print(Y_train_oh.shape)\n",
        "print(Y_train_oh[100])"
      ],
      "metadata": {
        "colab": {
          "base_uri": "https://localhost:8080/"
        },
        "id": "WWDqPVAfYQHY",
        "outputId": "25ad13b5-9ef2-44df-e485-c759cd80190f"
      },
      "execution_count": 7,
      "outputs": [
        {
          "output_type": "stream",
          "name": "stdout",
          "text": [
            "float32\n",
            "float32\n",
            "(19999, 10)\n",
            "[0. 0. 0. 1. 0. 0. 0. 0. 0. 0.]\n"
          ]
        }
      ]
    },
    {
      "cell_type": "code",
      "source": [
        "def initialize_parameters_deep(layer_dims):\n",
        "    parameters = {}\n",
        "    L = len(layer_dims)\n",
        "    key = jax.random.PRNGKey(45)\n",
        "    keys_l = jax.random.split(key, L-1)\n",
        "    for l in range(1, L):\n",
        "        parameters['W'+str(l)] = jax.random.normal(keys_l[l-1], (layer_dims[l],layer_dims[l-1]),dtype=jnp.float32)*0.01\n",
        "        parameters['b'+str(l)] = jnp.zeros((layer_dims[l],1),dtype=jnp.float32)\n",
        "    return parameters, L\n"
      ],
      "metadata": {
        "id": "k9xVoWXQ3JwK"
      },
      "execution_count": 8,
      "outputs": []
    },
    {
      "cell_type": "code",
      "source": [
        "# params['b1']"
      ],
      "metadata": {
        "id": "kXin-SDsZJin"
      },
      "execution_count": 9,
      "outputs": []
    },
    {
      "cell_type": "code",
      "source": [
        "def linear(W, b, X):\n",
        "    return jnp.dot(W, X) + b\n",
        "\n",
        "def relu(Z):\n",
        "    return jnp.maximum(0,Z)\n",
        "\n",
        "def softmax(Z):\n",
        "    exp_Z = jnp.exp(Z)\n",
        "    return (exp_Z )/ jnp.sum(exp_Z, axis=0, keepdims=True)\n",
        "\n",
        "def linear_relu(W, b, X):\n",
        "    Z = linear(W, b, X)\n",
        "    A = relu(Z)\n",
        "    return A\n"
      ],
      "metadata": {
        "id": "z2SEG7oYMmNt"
      },
      "execution_count": 10,
      "outputs": []
    },
    {
      "cell_type": "code",
      "source": [
        "def forward_prop(parameters, X, L):\n",
        "\n",
        "  A = X\n",
        "  for l in range(1, L-1):\n",
        "    W = parameters['W'+str(l)]\n",
        "    b = parameters['b'+str(l)]\n",
        "    A = linear_relu(W, b, A)\n",
        "\n",
        "  WL = parameters['W'+str(L-1)]\n",
        "  bL = parameters['b'+str(L-1)]\n",
        "  ZL = linear(WL, bL, A)\n",
        "  AL = softmax(ZL)\n",
        "  # print(AL.shape)\n",
        "  return AL\n",
        "\n",
        "@jit\n",
        "def cost_function(parameters, X, Y):\n",
        "  L = len(parameters) // 2  + 1\n",
        "  AL = forward_prop(parameters, X, L)\n",
        "  cost = -jnp.sum(Y*jnp.log(AL))/Y.shape[1]  #cross-entropy loss\n",
        "  # cost = jnp.sum((AL-Y)**2)/Y.shape[1]  # MSE (didnt work)\n",
        "  return cost"
      ],
      "metadata": {
        "id": "Euut0VoyCMMP"
      },
      "execution_count": 11,
      "outputs": []
    },
    {
      "cell_type": "code",
      "source": [
        "grad_fn = jax.grad(cost_function) # this automatically creates a computation graph(even for forward_prop)\n",
        "# and calculate the gradients for the parameters in the dictionary\n"
      ],
      "metadata": {
        "id": "vXFVU-n5mrFv"
      },
      "execution_count": 12,
      "outputs": []
    },
    {
      "cell_type": "code",
      "source": [
        "@jit\n",
        "def update_params(parameters, grads, learning_rate):\n",
        "  return {k: parameters[k] - learning_rate * grads[k] for k in parameters}"
      ],
      "metadata": {
        "id": "x0-ypEZBLngC"
      },
      "execution_count": 13,
      "outputs": []
    },
    {
      "cell_type": "code",
      "source": [
        "def accuracy(parameters, X, Y):\n",
        "    L = len(parameters) // 2 + 1\n",
        "    AL = forward_prop(parameters, X, L)\n",
        "    # print(AL.shape)\n",
        "    # print(Y.shape)\n",
        "    predictions = jnp.argmax(AL, axis=0)\n",
        "    true_labels = jnp.argmax(Y, axis=0)\n",
        "    return jnp.sum(predictions == true_labels) / Y.shape[1]\n"
      ],
      "metadata": {
        "id": "Dc1nH1EilUB3"
      },
      "execution_count": 14,
      "outputs": []
    },
    {
      "cell_type": "code",
      "source": [
        "#just creating a function for the model for easier testing\n",
        "def model(X, Y, layer_dims, learning_rate , num_iterations):\n",
        "    parameters, _ = initialize_parameters_deep(layer_dims)\n",
        "    costs = []\n",
        "    Y = Y.T\n",
        "    # print(Y.shape)\n",
        "    for i in range(num_iterations):\n",
        "        grads = grad_fn(parameters, X, Y)\n",
        "        parameters = update_params(parameters, grads, learning_rate)\n",
        "\n",
        "        if i % 100 == 0:\n",
        "            # print(grads, parameters)\n",
        "            cost = cost_function(parameters, X, Y)\n",
        "            acc = accuracy(parameters, X, Y)\n",
        "\n",
        "            print(f\"Iteration {i}: Cost = {cost}, Accuracy = {acc*100:.5f}%\")\n",
        "\n",
        "    return parameters, costs"
      ],
      "metadata": {
        "id": "X3fykwzeQLxG"
      },
      "execution_count": 15,
      "outputs": []
    },
    {
      "cell_type": "code",
      "source": [
        "# Training the model\n",
        "layers_dims = [784,512,256,128,10]\n",
        "parameters, costs = model(X_train, Y_train_oh, layers_dims, learning_rate=0.1, num_iterations=3000)"
      ],
      "metadata": {
        "colab": {
          "base_uri": "https://localhost:8080/"
        },
        "id": "LJXPP-CAc9zU",
        "outputId": "240836e0-f0ff-4ded-ce1f-09b4a4cbdc20"
      },
      "execution_count": 16,
      "outputs": [
        {
          "output_type": "stream",
          "name": "stdout",
          "text": [
            "Iteration 0: Cost = 2.3025472164154053, Accuracy = 11.21556%\n",
            "Iteration 100: Cost = 2.3008530139923096, Accuracy = 11.21556%\n",
            "Iteration 200: Cost = 2.3005406856536865, Accuracy = 11.21556%\n",
            "Iteration 300: Cost = 2.300368309020996, Accuracy = 11.21556%\n",
            "Iteration 400: Cost = 2.3001339435577393, Accuracy = 11.21556%\n",
            "Iteration 500: Cost = 2.29970645904541, Accuracy = 11.21556%\n",
            "Iteration 600: Cost = 2.298701763153076, Accuracy = 11.21556%\n",
            "Iteration 700: Cost = 2.2949728965759277, Accuracy = 11.21556%\n",
            "Iteration 800: Cost = 2.2296338081359863, Accuracy = 20.87604%\n",
            "Iteration 900: Cost = 1.6956428289413452, Accuracy = 33.34667%\n",
            "Iteration 1000: Cost = 1.5011036396026611, Accuracy = 46.96735%\n",
            "Iteration 1100: Cost = 0.9665881991386414, Accuracy = 60.30301%\n",
            "Iteration 1200: Cost = 0.6085032224655151, Accuracy = 79.87900%\n",
            "Iteration 1300: Cost = 0.4810492992401123, Accuracy = 85.32927%\n",
            "Iteration 1400: Cost = 0.39859336614608765, Accuracy = 88.32941%\n",
            "Iteration 1500: Cost = 0.33508187532424927, Accuracy = 90.56953%\n",
            "Iteration 1600: Cost = 0.3461163341999054, Accuracy = 89.88450%\n",
            "Iteration 1700: Cost = 0.23420341312885284, Accuracy = 93.62968%\n",
            "Iteration 1800: Cost = 0.2109176367521286, Accuracy = 94.25971%\n",
            "Iteration 1900: Cost = 0.1752880960702896, Accuracy = 95.33477%\n",
            "Iteration 2000: Cost = 0.15028582513332367, Accuracy = 96.01480%\n",
            "Iteration 2100: Cost = 0.13050313293933868, Accuracy = 96.61983%\n",
            "Iteration 2200: Cost = 0.11337374150753021, Accuracy = 97.13986%\n",
            "Iteration 2300: Cost = 0.43371477723121643, Accuracy = 89.69449%\n",
            "Iteration 2400: Cost = 0.11579182744026184, Accuracy = 97.09986%\n",
            "Iteration 2500: Cost = 0.09311942756175995, Accuracy = 97.67489%\n",
            "Iteration 2600: Cost = 0.07848922163248062, Accuracy = 98.09991%\n",
            "Iteration 2700: Cost = 0.06706458330154419, Accuracy = 98.51993%\n",
            "Iteration 2800: Cost = 0.05755790323019028, Accuracy = 98.78994%\n",
            "Iteration 2900: Cost = 0.049468994140625, Accuracy = 99.05495%\n"
          ]
        }
      ]
    },
    {
      "cell_type": "code",
      "source": [
        "print(X_test.shape)\n",
        "print(Y_test.shape)"
      ],
      "metadata": {
        "colab": {
          "base_uri": "https://localhost:8080/"
        },
        "id": "Fju_7pEl5bjV",
        "outputId": "855d7672-d7d0-488b-b2e0-7f2582471bff"
      },
      "execution_count": 17,
      "outputs": [
        {
          "output_type": "stream",
          "name": "stdout",
          "text": [
            "(784, 9999)\n",
            "(1, 9999)\n"
          ]
        }
      ]
    },
    {
      "cell_type": "code",
      "source": [
        "\n",
        "AL = forward_prop(parameters, X_test, len(layers_dims))\n",
        "print(AL.shape)\n",
        "acc = accuracy(parameters, X_test, Y_test_oh.T)\n",
        "print(\"Test Accuracy:\",acc*100,'%')"
      ],
      "metadata": {
        "id": "3pPT5tWmTIPG",
        "colab": {
          "base_uri": "https://localhost:8080/"
        },
        "outputId": "be4e887f-3332-4f79-ae6a-f77967e02655"
      },
      "execution_count": 18,
      "outputs": [
        {
          "output_type": "stream",
          "name": "stdout",
          "text": [
            "(10, 9999)\n",
            "Test Accuracy: 95.71957 %\n"
          ]
        }
      ]
    },
    {
      "cell_type": "code",
      "source": [
        "import numpy as np\n",
        "import random\n",
        "\n",
        "def predict_and_visualize(parameters, X_test, Y_test):\n",
        "\n",
        "\n",
        "  i = random.randint(0, X_test.shape[1]-1)\n",
        "  X = X_test[:,i].reshape(784,1)\n",
        "  # Y_test is not one-hot encoded, so we need to select the correct label using the index i\n",
        "  Y = Y_test[0,i]\n",
        "  # convert Y to a one-hot encoded vector\n",
        "  Y_one_hot = np.zeros((10,1))\n",
        "  Y_one_hot[int(Y), 0] = 1\n",
        "  L = len(parameters) // 2 + 1\n",
        "  AL = forward_prop(parameters, X, L)\n",
        "  prediction = jnp.argmax(AL)\n",
        "  true_label = jnp.argmax(Y_one_hot)\n",
        "\n",
        "  plt.imshow(X.reshape(28, 28), cmap='gray')\n",
        "  plt.title(f\"Prediction: {prediction}, True Label: {true_label}\")\n",
        "  plt.show()\n",
        "\n",
        "predict_and_visualize(parameters, X_test, Y_test)\n",
        "predict_and_visualize(parameters, X_test, Y_test)\n",
        "predict_and_visualize(parameters, X_test, Y_test)\n",
        "predict_and_visualize(parameters, X_test, Y_test)\n",
        "predict_and_visualize(parameters, X_test, Y_test)\n"
      ],
      "metadata": {
        "id": "J33PacydcsCi",
        "colab": {
          "base_uri": "https://localhost:8080/",
          "height": 1000
        },
        "outputId": "61a741fd-77d7-4d3a-cdc2-b850056c3bb5"
      },
      "execution_count": 22,
      "outputs": [
        {
          "output_type": "display_data",
          "data": {
            "text/plain": [
              "<Figure size 640x480 with 1 Axes>"
            ],
            "image/png": "[encoded data removed]"
          },
          "metadata": {}
        },
        {
          "output_type": "display_data",
          "data": {
            "text/plain": [
              "<Figure size 640x480 with 1 Axes>"
            ],
            "image/png": "[encoded data removed]"
          },
          "metadata": {}
        },
        {
          "output_type": "display_data",
          "data": {
            "text/plain": [
              "<Figure size 640x480 with 1 Axes>"
            ],
            "image/png": "[encoded data removed]"
          },
          "metadata": {}
        },
        {
          "output_type": "display_data",
          "data": {
            "text/plain": [
              "<Figure size 640x480 with 1 Axes>"
            ],
            "image/png": "[encoded data removed]"
          },
          "metadata": {}
        },
        {
          "output_type": "display_data",
          "data": {
            "text/plain": [
              "<Figure size 640x480 with 1 Axes>"
            ],
            "image/png": "[encoded data removed]"
          },
          "metadata": {}
        }
      ]
    },
    {
      "cell_type": "code",
      "source": [],
      "metadata": {
        "id": "PToPWjnnnvGc"
      },
      "execution_count": null,
      "outputs": []
    }
  ],
  "metadata": {
    "accelerator": "GPU",
    "colab": {
      "gpuType": "T4",
      "provenance": []
    },
    "kernelspec": {
      "display_name": "Python 3",
      "name": "python3"
    },
    "language_info": {
      "name": "python"
    }
  },
  "nbformat": 4,
  "nbformat_minor": 0
}